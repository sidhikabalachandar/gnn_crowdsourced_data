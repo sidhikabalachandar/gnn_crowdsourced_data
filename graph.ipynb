{
 "cells": [
  {
   "cell_type": "code",
   "execution_count": 1,
   "id": "04581339-0aef-4eeb-8e09-552c25307f3c",
   "metadata": {},
   "outputs": [],
   "source": [
    "import pandas as pd\n",
    "import sys\n",
    "import os\n",
    "from utils import *"
   ]
  },
  {
   "cell_type": "code",
   "execution_count": 4,
   "id": "d13d16e0-9d6e-4631-995c-9cdb7ab05eb2",
   "metadata": {},
   "outputs": [],
   "source": [
    "save_path = \"/share/garg/311_data/sb2377/nyc_census_graph.csv\""
   ]
  },
  {
   "cell_type": "code",
   "execution_count": 3,
   "id": "d6d3513f-7e3e-4c67-83c9-09ad45a41f7d",
   "metadata": {},
   "outputs": [
    {
     "name": "stdout",
     "output_type": "stream",
     "text": [
      "Using the default year of 2021\n",
      "Using FIPS code '36' for input 'NY'\n",
      "Using FIPS code '061' for input 'New York'\n",
      "Using FIPS code '005' for input 'Bronx'\n",
      "Using FIPS code '047' for input 'Kings'\n",
      "Using FIPS code '081' for input 'Queens'\n",
      "Using FIPS code '085' for input 'Richmond'\n"
     ]
    }
   ],
   "source": [
    "census_gdf, final_graph, census_gdf_raw = generate_graph_census()"
   ]
  },
  {
   "cell_type": "code",
   "execution_count": null,
   "id": "34cf5bce-10ef-4d78-82a1-b2ed0131d6a8",
   "metadata": {},
   "outputs": [],
   "source": [
    "census_gdf.to_csv(save_path, index=False)"
   ]
  }
 ],
 "metadata": {
  "kernelspec": {
   "display_name": "Environment (conda_networks_underreporting_env)",
   "language": "python",
   "name": "conda_networks_underreporting_env"
  },
  "language_info": {
   "codemirror_mode": {
    "name": "ipython",
    "version": 3
   },
   "file_extension": ".py",
   "mimetype": "text/x-python",
   "name": "python",
   "nbconvert_exporter": "python",
   "pygments_lexer": "ipython3",
   "version": "3.10.12"
  }
 },
 "nbformat": 4,
 "nbformat_minor": 5
}
