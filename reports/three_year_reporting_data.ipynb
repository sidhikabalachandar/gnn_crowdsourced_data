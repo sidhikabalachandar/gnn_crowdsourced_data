{
 "cells": [
  {
   "cell_type": "code",
   "execution_count": 1,
   "id": "2aa2c9af-3c7a-40ef-8951-ad16d50f8ed4",
   "metadata": {},
   "outputs": [],
   "source": [
    "import pandas as pd"
   ]
  },
  {
   "cell_type": "code",
   "execution_count": 2,
   "id": "c8b497fd-1463-4169-8d79-dc3a09e36155",
   "metadata": {},
   "outputs": [],
   "source": [
    "year1 = 2021\n",
    "freq_threshold = 0.001\n",
    "covar_path = '/share/garg/311_data/sb2377/clean_codebase/tract_demographics.csv'\n",
    "year1_path = '/share/garg/311_data/sb2377/clean_codebase/{}_weekly_report_data_tracts.csv'.format(year1)\n",
    "two_year_path = '/share/garg/311_data/sb2377/clean_codebase/two_year_reports_full.h5'\n",
    "graph_path = '/share/garg/311_data/sb2377/clean_codebase/nyc_census_graph.csv'\n",
    "base_df_save_path = '/share/garg/311_data/sb2377/clean_codebase/three_year_base.csv'\n",
    "full_df_save_path = '/share/garg/311_data/sb2377/clean_codebase/three_year_reports_full.h5'"
   ]
  },
  {
   "cell_type": "code",
   "execution_count": 3,
   "id": "344a5f00-dd7a-4d22-ae6a-6bb5e482df7b",
   "metadata": {},
   "outputs": [],
   "source": [
    "covariates_arr = pd.read_csv(covar_path)\n",
    "df_year1 = pd.read_csv(year1_path)\n",
    "df_year2 = pd.read_hdf(two_year_path, 'df')\n",
    "df_year1 = df_year1.loc[:, ~df_year1.columns.str.contains('Unnamed', case=False)]\n",
    "df_year2 = df_year2[df_year1.columns]\n",
    "graph_data_df = pd.read_csv(graph_path)"
   ]
  },
  {
   "cell_type": "code",
   "execution_count": 4,
   "id": "f92bf7b5-69eb-43c1-af59-67436d37fed3",
   "metadata": {},
   "outputs": [],
   "source": [
    "# merge three food related complaint types (for food rating data)\n",
    "reports1 = df_year1[df_year1['typeagency'] == 'FoodEstablishmentDOHMH'][['GEOID', 'report_week', 'reported']]\n",
    "reports2 = df_year1[df_year1['typeagency'] == 'MobileFoodVendorDOHMH'][['GEOID', 'report_week', 'reported']]\n",
    "reports3 = df_year1[df_year1['typeagency'] == 'FoodPoisoningDOHMH'][['GEOID', 'report_week', 'reported']]\n",
    "merged_df = reports1.merge(reports2, on=['GEOID', 'report_week'], suffixes=('_1', '_2')).merge(reports3, on=['GEOID', 'report_week'])\n",
    "merged_df.rename(columns={'reported': 'reported_3'}, inplace=True)\n",
    "merged_df['reported_1'] = merged_df['reported_1'].astype('bool')\n",
    "merged_df['reported_2'] = merged_df['reported_2'].astype('bool')\n",
    "merged_df['reported_3'] = merged_df['reported_3'].astype('bool')\n",
    "merged_df['reported'] = merged_df['reported_1'] | merged_df['reported_2'] | merged_df['reported_3']\n",
    "food_df = df_year1[df_year1['typeagency'] == 'FoodEstablishmentDOHMH'].copy()\n",
    "food_df['typeagency'] = 'FoodDOHMH'\n",
    "food_df = food_df.drop('reported', axis=1)\n",
    "food_df = pd.merge(food_df, merged_df[['GEOID', 'report_week', 'reported']], on=['GEOID', 'report_week'])\n",
    "df_year1 = df_year1[~df_year1['typeagency'].isin(['FoodEstablishmentDOHMH', 'MobileFoodVendorDOHMH', 'FoodPoisoningDOHMH'])]\n",
    "df_year1 = pd.concat([df_year1, food_df])"
   ]
  },
  {
   "cell_type": "code",
   "execution_count": 5,
   "id": "a6cacc96-bc33-4d7c-bd1d-4f1aae79e6bf",
   "metadata": {},
   "outputs": [],
   "source": [
    "covars = ['normalized_log_population_density', \n",
    "          'normalized_log_population', \n",
    "          'normalized_log_income_median',\n",
    "          'normalized_education_bachelors_pct', \n",
    "          'normalized_race_white_nh_pct',\n",
    "          'normalized_age_median', \n",
    "          'normalized_households_renteroccupied_pct']"
   ]
  },
  {
   "cell_type": "code",
   "execution_count": 6,
   "id": "c6883af7-59a6-4a28-92a9-3de67d7ce6f3",
   "metadata": {},
   "outputs": [],
   "source": [
    "# only get types that appear in both years\n",
    "types_year1 = set(df_year1['typeagency'].unique())\n",
    "types_year2 = set(df_year2['typeagency'].unique())\n",
    "type_intersection = types_year1.intersection(types_year2)\n",
    "df_year1 = df_year1[df_year1['typeagency'].isin(type_intersection)].copy()\n",
    "df_year2 = df_year2[df_year2['typeagency'].isin(type_intersection)].copy()"
   ]
  },
  {
   "cell_type": "code",
   "execution_count": 7,
   "id": "96c26986-72cd-4d50-a5dd-3a094d1d7ed9",
   "metadata": {},
   "outputs": [],
   "source": [
    "# merge reports for the last week of year 1 and the first week of year 2\n",
    "# 'week' = week number across both years\n",
    "# 'week_of_year' = week number within year\n",
    "df_year2['report_week'] = df_year2['report_week'] + 52\n",
    "\n",
    "# combine reports for the last week of year 1 and the first week of year 2\n",
    "df_year1['reported'] = df_year1['reported'].astype(int)\n",
    "df_year2['reported'] = df_year2['reported'].astype(int)\n",
    "\n",
    "# last week year 1\n",
    "reported_year1 = df_year1[df_year1['report_week'] == 52][['GEOID', 'typeagency', 'reported']]\n",
    "\n",
    "# first week year 2\n",
    "reported_year2 = df_year2[df_year2['report_week'] == 52][['GEOID', 'typeagency', 'reported']]\n",
    "\n",
    "# combine\n",
    "merged_reports = pd.merge(reported_year1, reported_year2, on=['GEOID', 'typeagency'], how='outer', suffixes=('_year1', '_year2'))\n",
    "merged_reports.fillna(0, inplace=True)\n",
    "merged_reports['reported_year1'] = merged_reports['reported_year1'].astype(bool)\n",
    "merged_reports['reported_year2'] = merged_reports['reported_year2'].astype(bool)\n",
    "merged_reports['reported'] = merged_reports['reported_year1'] | merged_reports['reported_year2']\n",
    "merged_reports = merged_reports.drop(columns=['reported_year1', 'reported_year2'])\n",
    "\n",
    "# add to year 1\n",
    "df_year1_week = df_year1[df_year1['report_week'] == 52]\n",
    "df_year1_week = df_year1_week.drop(columns=['reported'])\n",
    "df_year1_week = pd.merge(df_year1_week, merged_reports, on=['GEOID', 'typeagency'])\n",
    "df_year1 = pd.concat([df_year1[df_year1['report_week'] != 52], df_year1_week], axis=0)\n",
    "\n",
    "# combine both years of data\n",
    "df_year2 = df_year2[df_year2['report_week'] != 52]\n",
    "df = pd.concat([df_year1, df_year2])"
   ]
  },
  {
   "cell_type": "code",
   "execution_count": 8,
   "id": "4269b9fd-a31b-4471-9393-5c8b1fe394a3",
   "metadata": {},
   "outputs": [
    {
     "name": "stdout",
     "output_type": "stream",
     "text": [
      "num nodes = 2326\n",
      "num types = 140\n",
      "num weeks = 157\n",
      "50630440\n"
     ]
    }
   ],
   "source": [
    "print('num nodes = {}'.format(len(df['GEOID'].unique())))\n",
    "print('num types = {}'.format(len(df['typeagency'].unique())))\n",
    "print('num weeks = {}'.format(len(df['report_week'].unique())))\n",
    "print(len(df))"
   ]
  },
  {
   "cell_type": "code",
   "execution_count": 9,
   "id": "6bfae760-ac47-40ff-b27d-73f3fe2f1780",
   "metadata": {},
   "outputs": [
    {
     "name": "stdout",
     "output_type": "stream",
     "text": [
      "percentage of data kept = 99.29%\n",
      "percentage of types kept = 99.29%\n"
     ]
    }
   ],
   "source": [
    "# get rows with valid census tracts\n",
    "valid_GEOIDs = covariates_arr['GEOID'].unique()\n",
    "df = df[df['GEOID'].isin(valid_GEOIDs)]\n",
    "\n",
    "# get covariates\n",
    "df = pd.merge(df, covariates_arr, on='GEOID')\n",
    "\n",
    "# filter out types with with very small frequencies\n",
    "type_pT = df.groupby(['typeagency'])['reported'].mean()\n",
    "type_to_include_df = type_pT[(type_pT > freq_threshold)]\n",
    "included_types = type_to_include_df.index.tolist()\n",
    "subset_df = df[(df['typeagency'].isin(included_types))]\n",
    "print('percentage of data kept = {:.2f}%'.format(len(subset_df) / len(df) * 100))\n",
    "print('percentage of types kept = {:.2f}%'.format(len(included_types) / len(type_pT) * 100))"
   ]
  },
  {
   "cell_type": "code",
   "execution_count": 10,
   "id": "5b1d48c5-9304-4202-9151-26163812031c",
   "metadata": {},
   "outputs": [
    {
     "name": "stderr",
     "output_type": "stream",
     "text": [
      "/share/pierson/tmp_directory_location_please_read_readme/sb2377_tmp/ipykernel_4082275/33382678.py:8: SettingWithCopyWarning: \n",
      "A value is trying to be set on a copy of a slice from a DataFrame.\n",
      "Try using .loc[row_indexer,col_indexer] = value instead\n",
      "\n",
      "See the caveats in the documentation: https://pandas.pydata.org/pandas-docs/stable/user_guide/indexing.html#returning-a-view-versus-a-copy\n",
      "  subset_df['node_idxs'] = subset_df['GEOID'].map(node_mapping).values\n"
     ]
    },
    {
     "name": "stdout",
     "output_type": "stream",
     "text": [
      "num nodes = 2292\n",
      "num types = 139\n"
     ]
    },
    {
     "name": "stderr",
     "output_type": "stream",
     "text": [
      "/share/pierson/tmp_directory_location_please_read_readme/sb2377_tmp/ipykernel_4082275/33382678.py:9: SettingWithCopyWarning: \n",
      "A value is trying to be set on a copy of a slice from a DataFrame.\n",
      "Try using .loc[row_indexer,col_indexer] = value instead\n",
      "\n",
      "See the caveats in the documentation: https://pandas.pydata.org/pandas-docs/stable/user_guide/indexing.html#returning-a-view-versus-a-copy\n",
      "  subset_df['type_idxs'] = subset_df['typeagency'].map(type_mapping).values\n"
     ]
    }
   ],
   "source": [
    "# map each node and type to a unique indexer\n",
    "nodes = subset_df['GEOID'].unique()\n",
    "num_nodes = len(nodes)\n",
    "types = subset_df['typeagency'].unique()\n",
    "num_types = len(types)\n",
    "node_mapping = {old_id: new_id for new_id, old_id in enumerate(nodes)}\n",
    "type_mapping = {old_id: new_id for new_id, old_id in enumerate(types)}\n",
    "subset_df['node_idxs'] = subset_df['GEOID'].map(node_mapping).values\n",
    "subset_df['type_idxs'] = subset_df['typeagency'].map(type_mapping).values\n",
    "print('num nodes = {}'.format(num_nodes))\n",
    "print('num types = {}'.format(num_types))"
   ]
  },
  {
   "cell_type": "code",
   "execution_count": 11,
   "id": "1c80a5bd-c32a-40b4-b6e7-6c4075a66ea3",
   "metadata": {},
   "outputs": [],
   "source": [
    "assert(len(subset_df[subset_df.isna().any(axis=1)]) == 0)"
   ]
  },
  {
   "cell_type": "code",
   "execution_count": 12,
   "id": "b4016d6a-9ce3-45b4-9d55-f59d9af17971",
   "metadata": {},
   "outputs": [],
   "source": [
    "# create base df\n",
    "base_df = subset_df[['GEOID', 'typeagency', 'Complaint Type', 'Agency', 'node_idxs', 'type_idxs'] + covars].drop_duplicates()\n",
    "base_df.to_csv(base_df_save_path)"
   ]
  },
  {
   "cell_type": "code",
   "execution_count": 13,
   "id": "ce815440-e92f-4b3b-9c13-06dabff0c549",
   "metadata": {},
   "outputs": [],
   "source": [
    "assert(len(base_df[base_df.isna().any(axis=1)]) == 0)"
   ]
  },
  {
   "cell_type": "code",
   "execution_count": 14,
   "id": "b0f50776-c25c-4db4-aa40-6e607b94e5c9",
   "metadata": {},
   "outputs": [],
   "source": [
    "subset_df.to_hdf(full_df_save_path, key='df', mode='w')"
   ]
  },
  {
   "cell_type": "code",
   "execution_count": null,
   "id": "48418ca6-e405-4965-8e36-c454eeafe806",
   "metadata": {},
   "outputs": [],
   "source": []
  }
 ],
 "metadata": {
  "kernelspec": {
   "display_name": "Environment (conda_gnn)",
   "language": "python",
   "name": "conda_gnn"
  },
  "language_info": {
   "codemirror_mode": {
    "name": "ipython",
    "version": 3
   },
   "file_extension": ".py",
   "mimetype": "text/x-python",
   "name": "python",
   "nbconvert_exporter": "python",
   "pygments_lexer": "ipython3",
   "version": "3.11.11"
  }
 },
 "nbformat": 4,
 "nbformat_minor": 5
}
