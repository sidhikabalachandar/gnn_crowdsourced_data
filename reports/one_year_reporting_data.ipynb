{
 "cells": [
  {
   "cell_type": "code",
   "execution_count": 1,
   "id": "d4a0a756-9e71-4902-8b68-6754ba5be0e5",
   "metadata": {},
   "outputs": [],
   "source": [
    "import pandas as pd\n",
    "import geopandas as gpd\n",
    "import numpy as np\n",
    "import re\n",
    "import sys\n",
    "import os\n",
    "sys.path.append(os.path.abspath(\"..\"))\n",
    "from utils.utils import *"
   ]
  },
  {
   "cell_type": "code",
   "execution_count": 8,
   "id": "f9ea9441-478a-4f43-83c1-1357648534be",
   "metadata": {},
   "outputs": [],
   "source": [
    "year = 2021\n",
    "reporting_data_path = '/share/garg/311_data/sb2377/clean_codebase/data_{}.csv'.format(year)\n",
    "save_path = '/share/garg/311_data/sb2377/clean_codebase/{}_weekly_report_data_tracts.csv'.format(year)"
   ]
  },
  {
   "cell_type": "code",
   "execution_count": 9,
   "id": "42a5ae32-25c9-4687-b3e8-e0e1240a5c30",
   "metadata": {},
   "outputs": [
    {
     "name": "stderr",
     "output_type": "stream",
     "text": [
      "/share/pierson/tmp_directory_location_please_read_readme/sb2377_tmp/ipykernel_940503/3063820325.py:1: DtypeWarning: Columns (9,21,32,33) have mixed types. Specify dtype option on import or set low_memory=False.\n",
      "  df = pd.read_csv(reporting_data_path)\n"
     ]
    }
   ],
   "source": [
    "df = pd.read_csv(reporting_data_path)"
   ]
  },
  {
   "cell_type": "code",
   "execution_count": 4,
   "id": "d4af683e-ac92-40c6-b154-76d3049dcee2",
   "metadata": {},
   "outputs": [
    {
     "data": {
      "text/plain": [
       "3225185"
      ]
     },
     "execution_count": 4,
     "metadata": {},
     "output_type": "execute_result"
    }
   ],
   "source": [
    "len(df)"
   ]
  },
  {
   "cell_type": "code",
   "execution_count": 7,
   "id": "c81b312e-330b-403e-8386-320f451d8b89",
   "metadata": {},
   "outputs": [
    {
     "data": {
      "text/plain": [
       "3169777"
      ]
     },
     "execution_count": 7,
     "metadata": {},
     "output_type": "execute_result"
    }
   ],
   "source": [
    "len(df)"
   ]
  },
  {
   "cell_type": "code",
   "execution_count": 10,
   "id": "4c1586ff-5308-4390-b07d-f366b207ac91",
   "metadata": {},
   "outputs": [
    {
     "data": {
      "text/plain": [
       "3220901"
      ]
     },
     "execution_count": 10,
     "metadata": {},
     "output_type": "execute_result"
    }
   ],
   "source": [
    "len(df)"
   ]
  },
  {
   "cell_type": "code",
   "execution_count": 11,
   "id": "c6391f6d-bcb9-43aa-be32-267b8a379e62",
   "metadata": {},
   "outputs": [
    {
     "data": {
      "text/plain": [
       "9615863"
      ]
     },
     "execution_count": 11,
     "metadata": {},
     "output_type": "execute_result"
    }
   ],
   "source": [
    "3225185 + 3169777 + 3220901"
   ]
  },
  {
   "cell_type": "code",
   "execution_count": 5,
   "id": "92326be6-8fad-4dd9-a011-94739d61271a",
   "metadata": {},
   "outputs": [],
   "source": [
    "# get type information\n",
    "def concatenate_and_clean(t):\n",
    "    concatenated = ''.join(t)\n",
    "    # Remove all characters that are not letters\n",
    "    cleaned = re.sub(r'[^A-Za-z]', '', concatenated)\n",
    "    return cleaned\n",
    "\n",
    "df['typeagency'] = list(zip(df['Complaint Type'], df['Agency']))\n",
    "df['typeagency'] = df['typeagency'].apply(concatenate_and_clean)"
   ]
  },
  {
   "cell_type": "code",
   "execution_count": null,
   "id": "c517b905-9c4e-4e16-95eb-b9e6b4c32295",
   "metadata": {},
   "outputs": [],
   "source": []
  },
  {
   "cell_type": "code",
   "execution_count": 4,
   "id": "80116f81-992f-48fa-9e11-6906900ca376",
   "metadata": {},
   "outputs": [
    {
     "name": "stdout",
     "output_type": "stream",
     "text": [
      "Using the default year of 2021\n",
      "Using FIPS code '36' for input 'NY'\n"
     ]
    },
    {
     "ename": "HTTPError",
     "evalue": "HTTP Error 403: Forbidden",
     "output_type": "error",
     "traceback": [
      "\u001b[0;31m---------------------------------------------------------------------------\u001b[0m",
      "\u001b[0;31mHTTPError\u001b[0m                                 Traceback (most recent call last)",
      "Input \u001b[0;32mIn [4]\u001b[0m, in \u001b[0;36m<cell line: 1>\u001b[0;34m()\u001b[0m\n\u001b[0;32m----> 1\u001b[0m census_gdf, final_graph, census_gdf_raw \u001b[38;5;241m=\u001b[39m \u001b[43mgenerate_graph_census\u001b[49m\u001b[43m(\u001b[49m\u001b[43m)\u001b[49m\n",
      "File \u001b[0;32m~/gnn_crowdsourced_data/utils.py:21\u001b[0m, in \u001b[0;36mgenerate_graph_census\u001b[0;34m(census_unit, state, counties, weight_scheme, remove_high_degree_nodes, remove_long_edges, remove_zeropop, remove_parks, tresh_degree, tresh_edgelength, tresh_parkarea, tresh_population)\u001b[0m\n\u001b[1;32m     19\u001b[0m \u001b[38;5;28;01massert\u001b[39;00m census_unit\u001b[38;5;241m.\u001b[39mlower() \u001b[38;5;129;01min\u001b[39;00m [\u001b[38;5;124m'\u001b[39m\u001b[38;5;124mtracts\u001b[39m\u001b[38;5;124m'\u001b[39m, \u001b[38;5;124m'\u001b[39m\u001b[38;5;124mblocks\u001b[39m\u001b[38;5;124m'\u001b[39m, \u001b[38;5;124m'\u001b[39m\u001b[38;5;124mblock groups\u001b[39m\u001b[38;5;124m'\u001b[39m, \u001b[38;5;124m'\u001b[39m\u001b[38;5;124mblockgroups\u001b[39m\u001b[38;5;124m'\u001b[39m]\n\u001b[1;32m     20\u001b[0m \u001b[38;5;28;01mif\u001b[39;00m census_unit\u001b[38;5;241m.\u001b[39mlower() \u001b[38;5;241m==\u001b[39m \u001b[38;5;124m'\u001b[39m\u001b[38;5;124mtracts\u001b[39m\u001b[38;5;124m'\u001b[39m:\n\u001b[0;32m---> 21\u001b[0m     census_gdf_raw \u001b[38;5;241m=\u001b[39m \u001b[43mtracts\u001b[49m\u001b[43m(\u001b[49m\u001b[43mstate\u001b[49m\u001b[38;5;241;43m=\u001b[39;49m\u001b[43mstate\u001b[49m\u001b[43m,\u001b[49m\u001b[43m \u001b[49m\u001b[43mcounty\u001b[49m\u001b[38;5;241;43m=\u001b[39;49m\u001b[43mcounties\u001b[49m\u001b[43m)\u001b[49m\n\u001b[1;32m     22\u001b[0m \u001b[38;5;28;01melif\u001b[39;00m census_unit\u001b[38;5;241m.\u001b[39mlower() \u001b[38;5;241m==\u001b[39m \u001b[38;5;124m'\u001b[39m\u001b[38;5;124mblocks\u001b[39m\u001b[38;5;124m'\u001b[39m:\n\u001b[1;32m     23\u001b[0m     census_gdf_raw \u001b[38;5;241m=\u001b[39m blocks(state\u001b[38;5;241m=\u001b[39mstate, county\u001b[38;5;241m=\u001b[39mcounties)\n",
      "File \u001b[0;32m/share/pierson/conda_virtualenvs/networks_underreporting_env/lib/python3.10/site-packages/pygris/enumeration_units.py:179\u001b[0m, in \u001b[0;36mtracts\u001b[0;34m(state, county, cb, year, cache, subset_by)\u001b[0m\n\u001b[1;32m    176\u001b[0m     \u001b[38;5;28;01melse\u001b[39;00m:\n\u001b[1;32m    177\u001b[0m         url \u001b[38;5;241m=\u001b[39m \u001b[38;5;124mf\u001b[39m\u001b[38;5;124m\"\u001b[39m\u001b[38;5;124mhttps://www2.census.gov/geo/tiger/TIGER\u001b[39m\u001b[38;5;132;01m{\u001b[39;00myear\u001b[38;5;132;01m}\u001b[39;00m\u001b[38;5;124m/TRACT/tl_\u001b[39m\u001b[38;5;132;01m{\u001b[39;00myear\u001b[38;5;132;01m}\u001b[39;00m\u001b[38;5;124m_\u001b[39m\u001b[38;5;132;01m{\u001b[39;00mstate\u001b[38;5;132;01m}\u001b[39;00m\u001b[38;5;124m_tract.zip\u001b[39m\u001b[38;5;124m\"\u001b[39m\n\u001b[0;32m--> 179\u001b[0m trcts \u001b[38;5;241m=\u001b[39m \u001b[43m_load_tiger\u001b[49m\u001b[43m(\u001b[49m\u001b[43murl\u001b[49m\u001b[43m,\u001b[49m\u001b[43m \u001b[49m\u001b[43mcache\u001b[49m\u001b[43m \u001b[49m\u001b[38;5;241;43m=\u001b[39;49m\u001b[43m \u001b[49m\u001b[43mcache\u001b[49m\u001b[43m,\u001b[49m\u001b[43m \u001b[49m\u001b[43msubset_by\u001b[49m\u001b[43m \u001b[49m\u001b[38;5;241;43m=\u001b[39;49m\u001b[43m \u001b[49m\u001b[43msubset_by\u001b[49m\u001b[43m)\u001b[49m\n\u001b[1;32m    181\u001b[0m \u001b[38;5;28;01mif\u001b[39;00m county \u001b[38;5;129;01mis\u001b[39;00m \u001b[38;5;129;01mnot\u001b[39;00m \u001b[38;5;28;01mNone\u001b[39;00m:\n\u001b[1;32m    182\u001b[0m     \u001b[38;5;28;01mif\u001b[39;00m \u001b[38;5;28mtype\u001b[39m(county) \u001b[38;5;129;01mis\u001b[39;00m \u001b[38;5;129;01mnot\u001b[39;00m \u001b[38;5;28mlist\u001b[39m:\n",
      "File \u001b[0;32m/share/pierson/conda_virtualenvs/networks_underreporting_env/lib/python3.10/site-packages/pygris/helpers.py:44\u001b[0m, in \u001b[0;36m_load_tiger\u001b[0;34m(url, cache, subset_by)\u001b[0m\n\u001b[1;32m     42\u001b[0m         tiger_data \u001b[38;5;241m=\u001b[39m gp\u001b[38;5;241m.\u001b[39mread_file(url, \u001b[38;5;241m*\u001b[39m\u001b[38;5;241m*\u001b[39msub)\n\u001b[1;32m     43\u001b[0m     \u001b[38;5;28;01melse\u001b[39;00m:\n\u001b[0;32m---> 44\u001b[0m         tiger_data \u001b[38;5;241m=\u001b[39m \u001b[43mgp\u001b[49m\u001b[38;5;241;43m.\u001b[39;49m\u001b[43mread_file\u001b[49m\u001b[43m(\u001b[49m\u001b[43murl\u001b[49m\u001b[43m)\u001b[49m\n\u001b[1;32m     46\u001b[0m     \u001b[38;5;28;01mreturn\u001b[39;00m tiger_data\n\u001b[1;32m     47\u001b[0m \u001b[38;5;28;01melse\u001b[39;00m:\n",
      "File \u001b[0;32m/share/pierson/conda_virtualenvs/networks_underreporting_env/lib/python3.10/site-packages/geopandas/io/file.py:265\u001b[0m, in \u001b[0;36m_read_file\u001b[0;34m(filename, bbox, mask, rows, engine, **kwargs)\u001b[0m\n\u001b[1;32m    259\u001b[0m from_bytes \u001b[38;5;241m=\u001b[39m \u001b[38;5;28;01mFalse\u001b[39;00m\n\u001b[1;32m    260\u001b[0m \u001b[38;5;28;01mif\u001b[39;00m _is_url(filename):\n\u001b[1;32m    261\u001b[0m     \u001b[38;5;66;03m# if it is a url that supports random access -> pass through to\u001b[39;00m\n\u001b[1;32m    262\u001b[0m     \u001b[38;5;66;03m# pyogrio/fiona as is (to support downloading only part of the file)\u001b[39;00m\n\u001b[1;32m    263\u001b[0m     \u001b[38;5;66;03m# otherwise still download manually because pyogrio/fiona don't support\u001b[39;00m\n\u001b[1;32m    264\u001b[0m     \u001b[38;5;66;03m# all types of urls (https://github.com/geopandas/geopandas/issues/2908)\u001b[39;00m\n\u001b[0;32m--> 265\u001b[0m     \u001b[38;5;28;01mwith\u001b[39;00m \u001b[43murllib\u001b[49m\u001b[38;5;241;43m.\u001b[39;49m\u001b[43mrequest\u001b[49m\u001b[38;5;241;43m.\u001b[39;49m\u001b[43murlopen\u001b[49m\u001b[43m(\u001b[49m\u001b[43mfilename\u001b[49m\u001b[43m)\u001b[49m \u001b[38;5;28;01mas\u001b[39;00m response:\n\u001b[1;32m    266\u001b[0m         \u001b[38;5;28;01mif\u001b[39;00m \u001b[38;5;129;01mnot\u001b[39;00m response\u001b[38;5;241m.\u001b[39mheaders\u001b[38;5;241m.\u001b[39mget(\u001b[38;5;124m\"\u001b[39m\u001b[38;5;124mAccept-Ranges\u001b[39m\u001b[38;5;124m\"\u001b[39m) \u001b[38;5;241m==\u001b[39m \u001b[38;5;124m\"\u001b[39m\u001b[38;5;124mbytes\u001b[39m\u001b[38;5;124m\"\u001b[39m:\n\u001b[1;32m    267\u001b[0m             filename \u001b[38;5;241m=\u001b[39m response\u001b[38;5;241m.\u001b[39mread()\n",
      "File \u001b[0;32m/share/pierson/conda_virtualenvs/networks_underreporting_env/lib/python3.10/urllib/request.py:216\u001b[0m, in \u001b[0;36murlopen\u001b[0;34m(url, data, timeout, cafile, capath, cadefault, context)\u001b[0m\n\u001b[1;32m    214\u001b[0m \u001b[38;5;28;01melse\u001b[39;00m:\n\u001b[1;32m    215\u001b[0m     opener \u001b[38;5;241m=\u001b[39m _opener\n\u001b[0;32m--> 216\u001b[0m \u001b[38;5;28;01mreturn\u001b[39;00m \u001b[43mopener\u001b[49m\u001b[38;5;241;43m.\u001b[39;49m\u001b[43mopen\u001b[49m\u001b[43m(\u001b[49m\u001b[43murl\u001b[49m\u001b[43m,\u001b[49m\u001b[43m \u001b[49m\u001b[43mdata\u001b[49m\u001b[43m,\u001b[49m\u001b[43m \u001b[49m\u001b[43mtimeout\u001b[49m\u001b[43m)\u001b[49m\n",
      "File \u001b[0;32m/share/pierson/conda_virtualenvs/networks_underreporting_env/lib/python3.10/urllib/request.py:525\u001b[0m, in \u001b[0;36mOpenerDirector.open\u001b[0;34m(self, fullurl, data, timeout)\u001b[0m\n\u001b[1;32m    523\u001b[0m \u001b[38;5;28;01mfor\u001b[39;00m processor \u001b[38;5;129;01min\u001b[39;00m \u001b[38;5;28mself\u001b[39m\u001b[38;5;241m.\u001b[39mprocess_response\u001b[38;5;241m.\u001b[39mget(protocol, []):\n\u001b[1;32m    524\u001b[0m     meth \u001b[38;5;241m=\u001b[39m \u001b[38;5;28mgetattr\u001b[39m(processor, meth_name)\n\u001b[0;32m--> 525\u001b[0m     response \u001b[38;5;241m=\u001b[39m \u001b[43mmeth\u001b[49m\u001b[43m(\u001b[49m\u001b[43mreq\u001b[49m\u001b[43m,\u001b[49m\u001b[43m \u001b[49m\u001b[43mresponse\u001b[49m\u001b[43m)\u001b[49m\n\u001b[1;32m    527\u001b[0m \u001b[38;5;28;01mreturn\u001b[39;00m response\n",
      "File \u001b[0;32m/share/pierson/conda_virtualenvs/networks_underreporting_env/lib/python3.10/urllib/request.py:634\u001b[0m, in \u001b[0;36mHTTPErrorProcessor.http_response\u001b[0;34m(self, request, response)\u001b[0m\n\u001b[1;32m    631\u001b[0m \u001b[38;5;66;03m# According to RFC 2616, \"2xx\" code indicates that the client's\u001b[39;00m\n\u001b[1;32m    632\u001b[0m \u001b[38;5;66;03m# request was successfully received, understood, and accepted.\u001b[39;00m\n\u001b[1;32m    633\u001b[0m \u001b[38;5;28;01mif\u001b[39;00m \u001b[38;5;129;01mnot\u001b[39;00m (\u001b[38;5;241m200\u001b[39m \u001b[38;5;241m<\u001b[39m\u001b[38;5;241m=\u001b[39m code \u001b[38;5;241m<\u001b[39m \u001b[38;5;241m300\u001b[39m):\n\u001b[0;32m--> 634\u001b[0m     response \u001b[38;5;241m=\u001b[39m \u001b[38;5;28;43mself\u001b[39;49m\u001b[38;5;241;43m.\u001b[39;49m\u001b[43mparent\u001b[49m\u001b[38;5;241;43m.\u001b[39;49m\u001b[43merror\u001b[49m\u001b[43m(\u001b[49m\n\u001b[1;32m    635\u001b[0m \u001b[43m        \u001b[49m\u001b[38;5;124;43m'\u001b[39;49m\u001b[38;5;124;43mhttp\u001b[39;49m\u001b[38;5;124;43m'\u001b[39;49m\u001b[43m,\u001b[49m\u001b[43m \u001b[49m\u001b[43mrequest\u001b[49m\u001b[43m,\u001b[49m\u001b[43m \u001b[49m\u001b[43mresponse\u001b[49m\u001b[43m,\u001b[49m\u001b[43m \u001b[49m\u001b[43mcode\u001b[49m\u001b[43m,\u001b[49m\u001b[43m \u001b[49m\u001b[43mmsg\u001b[49m\u001b[43m,\u001b[49m\u001b[43m \u001b[49m\u001b[43mhdrs\u001b[49m\u001b[43m)\u001b[49m\n\u001b[1;32m    637\u001b[0m \u001b[38;5;28;01mreturn\u001b[39;00m response\n",
      "File \u001b[0;32m/share/pierson/conda_virtualenvs/networks_underreporting_env/lib/python3.10/urllib/request.py:563\u001b[0m, in \u001b[0;36mOpenerDirector.error\u001b[0;34m(self, proto, *args)\u001b[0m\n\u001b[1;32m    561\u001b[0m \u001b[38;5;28;01mif\u001b[39;00m http_err:\n\u001b[1;32m    562\u001b[0m     args \u001b[38;5;241m=\u001b[39m (\u001b[38;5;28mdict\u001b[39m, \u001b[38;5;124m'\u001b[39m\u001b[38;5;124mdefault\u001b[39m\u001b[38;5;124m'\u001b[39m, \u001b[38;5;124m'\u001b[39m\u001b[38;5;124mhttp_error_default\u001b[39m\u001b[38;5;124m'\u001b[39m) \u001b[38;5;241m+\u001b[39m orig_args\n\u001b[0;32m--> 563\u001b[0m     \u001b[38;5;28;01mreturn\u001b[39;00m \u001b[38;5;28;43mself\u001b[39;49m\u001b[38;5;241;43m.\u001b[39;49m\u001b[43m_call_chain\u001b[49m\u001b[43m(\u001b[49m\u001b[38;5;241;43m*\u001b[39;49m\u001b[43margs\u001b[49m\u001b[43m)\u001b[49m\n",
      "File \u001b[0;32m/share/pierson/conda_virtualenvs/networks_underreporting_env/lib/python3.10/urllib/request.py:496\u001b[0m, in \u001b[0;36mOpenerDirector._call_chain\u001b[0;34m(self, chain, kind, meth_name, *args)\u001b[0m\n\u001b[1;32m    494\u001b[0m \u001b[38;5;28;01mfor\u001b[39;00m handler \u001b[38;5;129;01min\u001b[39;00m handlers:\n\u001b[1;32m    495\u001b[0m     func \u001b[38;5;241m=\u001b[39m \u001b[38;5;28mgetattr\u001b[39m(handler, meth_name)\n\u001b[0;32m--> 496\u001b[0m     result \u001b[38;5;241m=\u001b[39m \u001b[43mfunc\u001b[49m\u001b[43m(\u001b[49m\u001b[38;5;241;43m*\u001b[39;49m\u001b[43margs\u001b[49m\u001b[43m)\u001b[49m\n\u001b[1;32m    497\u001b[0m     \u001b[38;5;28;01mif\u001b[39;00m result \u001b[38;5;129;01mis\u001b[39;00m \u001b[38;5;129;01mnot\u001b[39;00m \u001b[38;5;28;01mNone\u001b[39;00m:\n\u001b[1;32m    498\u001b[0m         \u001b[38;5;28;01mreturn\u001b[39;00m result\n",
      "File \u001b[0;32m/share/pierson/conda_virtualenvs/networks_underreporting_env/lib/python3.10/urllib/request.py:643\u001b[0m, in \u001b[0;36mHTTPDefaultErrorHandler.http_error_default\u001b[0;34m(self, req, fp, code, msg, hdrs)\u001b[0m\n\u001b[1;32m    642\u001b[0m \u001b[38;5;28;01mdef\u001b[39;00m \u001b[38;5;21mhttp_error_default\u001b[39m(\u001b[38;5;28mself\u001b[39m, req, fp, code, msg, hdrs):\n\u001b[0;32m--> 643\u001b[0m     \u001b[38;5;28;01mraise\u001b[39;00m HTTPError(req\u001b[38;5;241m.\u001b[39mfull_url, code, msg, hdrs, fp)\n",
      "\u001b[0;31mHTTPError\u001b[0m: HTTP Error 403: Forbidden"
     ]
    }
   ],
   "source": [
    "census_gdf, final_graph, census_gdf_raw = generate_graph_census()"
   ]
  },
  {
   "cell_type": "code",
   "execution_count": 7,
   "id": "c8cb6052-9f12-4636-a299-b681fb7fcb03",
   "metadata": {},
   "outputs": [
    {
     "ename": "NameError",
     "evalue": "name 'census_gdf' is not defined",
     "output_type": "error",
     "traceback": [
      "\u001b[0;31m---------------------------------------------------------------------------\u001b[0m",
      "\u001b[0;31mNameError\u001b[0m                                 Traceback (most recent call last)",
      "Input \u001b[0;32mIn [7]\u001b[0m, in \u001b[0;36m<cell line: 8>\u001b[0;34m()\u001b[0m\n\u001b[1;32m      3\u001b[0m complaints_gdf \u001b[38;5;241m=\u001b[39m gpd\u001b[38;5;241m.\u001b[39mGeoDataFrame(complaints_nonan_df,\n\u001b[1;32m      4\u001b[0m                                   geometry\u001b[38;5;241m=\u001b[39mgpd\u001b[38;5;241m.\u001b[39mpoints_from_xy(complaints_nonan_df\u001b[38;5;241m.\u001b[39mLongitude, complaints_nonan_df\u001b[38;5;241m.\u001b[39mLatitude),\n\u001b[1;32m      5\u001b[0m                                   crs\u001b[38;5;241m=\u001b[39m\u001b[38;5;124m'\u001b[39m\u001b[38;5;124mEPSG:4326\u001b[39m\u001b[38;5;124m'\u001b[39m)\n\u001b[1;32m      7\u001b[0m \u001b[38;5;66;03m# get census block information\u001b[39;00m\n\u001b[0;32m----> 8\u001b[0m reports_df \u001b[38;5;241m=\u001b[39m gpd\u001b[38;5;241m.\u001b[39msjoin(complaints_gdf\u001b[38;5;241m.\u001b[39mto_crs(\u001b[38;5;124m'\u001b[39m\u001b[38;5;124mEPSG:2263\u001b[39m\u001b[38;5;124m'\u001b[39m)\u001b[38;5;241m.\u001b[39mreset_index(drop\u001b[38;5;241m=\u001b[39m\u001b[38;5;28;01mTrue\u001b[39;00m),\u001b[43mcensus_gdf\u001b[49m\u001b[38;5;241m.\u001b[39mto_crs(\u001b[38;5;124m'\u001b[39m\u001b[38;5;124mEPSG:2263\u001b[39m\u001b[38;5;124m'\u001b[39m), how\u001b[38;5;241m=\u001b[39m\u001b[38;5;124m'\u001b[39m\u001b[38;5;124minner\u001b[39m\u001b[38;5;124m'\u001b[39m, op\u001b[38;5;241m=\u001b[39m\u001b[38;5;124m'\u001b[39m\u001b[38;5;124mintersects\u001b[39m\u001b[38;5;124m'\u001b[39m)\n\u001b[1;32m     10\u001b[0m \u001b[38;5;66;03m# get date information\u001b[39;00m\n\u001b[1;32m     11\u001b[0m reports_df[\u001b[38;5;124m'\u001b[39m\u001b[38;5;124mCreated Date\u001b[39m\u001b[38;5;124m'\u001b[39m] \u001b[38;5;241m=\u001b[39m pd\u001b[38;5;241m.\u001b[39mto_datetime(reports_df[\u001b[38;5;124m'\u001b[39m\u001b[38;5;124mCreated Date\u001b[39m\u001b[38;5;124m'\u001b[39m])\n",
      "\u001b[0;31mNameError\u001b[0m: name 'census_gdf' is not defined"
     ]
    }
   ],
   "source": [
    "# only get rows with valid location information\n",
    "complaints_nonan_df = df[~(df.Latitude.isna()|df.Longitude.isna())]\n",
    "complaints_gdf = gpd.GeoDataFrame(complaints_nonan_df,\n",
    "                                  geometry=gpd.points_from_xy(complaints_nonan_df.Longitude, complaints_nonan_df.Latitude),\n",
    "                                  crs='EPSG:4326')\n",
    "\n",
    "# get census block information\n",
    "reports_df = gpd.sjoin(complaints_gdf.to_crs('EPSG:2263').reset_index(drop=True),census_gdf.to_crs('EPSG:2263'), how='inner', op='intersects')\n",
    "\n",
    "# get date information\n",
    "reports_df['Created Date'] = pd.to_datetime(reports_df['Created Date'])\n",
    "reports_df['report_week'] = reports_df['Created Date'].dt.isocalendar().week\n",
    "reports_df['month'] = reports_df['Created Date'].dt.month\n",
    "reports_df.loc[(reports_df['month'] == 1) & (reports_df['report_week'] > 50), 'report_week'] = 0\n",
    "\n",
    "# get type information\n",
    "def concatenate_and_clean(t):\n",
    "    concatenated = ''.join(t)\n",
    "    # Remove all characters that are not letters\n",
    "    cleaned = re.sub(r'[^A-Za-z]', '', concatenated)\n",
    "    return cleaned\n",
    "\n",
    "reports_df['typeagency'] = list(zip(reports_df['Complaint Type'], reports_df['Agency']))\n",
    "reports_df['typeagency'] = reports_df['typeagency'].apply(concatenate_and_clean)"
   ]
  },
  {
   "cell_type": "code",
   "execution_count": 6,
   "id": "c9cd6913-a052-4b48-bd45-d3d7d297b16d",
   "metadata": {},
   "outputs": [],
   "source": [
    "# create num census block x num type x num weeks full T dataset\n",
    "census_blocks = np.array(census_gdf['GEOID'].unique())\n",
    "types = np.array(reports_df['typeagency'].unique())\n",
    "weeks = reports_df['report_week'].unique()\n",
    "\n",
    "# get all pairs of node x type\n",
    "pairs = np.array(np.meshgrid(census_blocks,types)).T.reshape(-1,2)\n",
    "pairs_df = pd.DataFrame()\n",
    "pairs_df['GEOID'] = pairs[:,0]\n",
    "pairs_df['typeagency'] = pairs[:,1]\n",
    "\n",
    "# add in type and agency information\n",
    "type_df = reports_df[['typeagency', 'Complaint Type', 'Agency']].drop_duplicates()\n",
    "type_df = type_df[type_df['Complaint Type'] != 'Litter Basket / Request']\n",
    "pairs_df = pd.merge(pairs_df, type_df, on='typeagency')\n",
    "\n",
    "dfs = []\n",
    "\n",
    "for i in weeks:\n",
    "    data = pairs_df.copy()\n",
    "    data['report_week'] = i\n",
    "    dfs.append(data)\n",
    "    \n",
    "all_data = pd.concat(dfs)\n",
    "\n",
    "# add in T labels\n",
    "# set T = 1 for instances where there is a complaint\n",
    "reported_data = reports_df[['GEOID', 'typeagency', 'report_week']].drop_duplicates()\n",
    "reported_data['reported'] = 1\n",
    "binary_reports_df = pd.merge(all_data, reported_data, on=['GEOID', 'typeagency', 'report_week'], how='left')\n",
    "binary_reports_df['report_week_of_year'] = binary_reports_df['report_week']\n",
    "binary_reports_df['reported'] = binary_reports_df['reported'].fillna(0)"
   ]
  },
  {
   "cell_type": "code",
   "execution_count": 7,
   "id": "b6cc58b8-4f0b-4774-bcf4-c872c1c6a4e9",
   "metadata": {},
   "outputs": [],
   "source": [
    "assert(len(census_blocks) * len(types) * len(weeks) == len(binary_reports_df))"
   ]
  },
  {
   "cell_type": "code",
   "execution_count": 8,
   "id": "f09cc9e7-f4d0-4b12-9c70-7bb7591e5f96",
   "metadata": {},
   "outputs": [
    {
     "data": {
      "text/plain": [
       "27367716"
      ]
     },
     "execution_count": 8,
     "metadata": {},
     "output_type": "execute_result"
    }
   ],
   "source": [
    "len(binary_reports_df)"
   ]
  },
  {
   "cell_type": "code",
   "execution_count": 9,
   "id": "efeaa0e5-f403-4a9c-b5f2-8410639483a4",
   "metadata": {},
   "outputs": [],
   "source": [
    "assert(len(binary_reports_df[binary_reports_df.isna().any(axis=1)]) == 0)"
   ]
  },
  {
   "cell_type": "code",
   "execution_count": 10,
   "id": "02ceb7b4-25b3-426e-8ccb-6d02ddc8c96f",
   "metadata": {},
   "outputs": [],
   "source": [
    "binary_reports_df.to_csv(save_path)"
   ]
  },
  {
   "cell_type": "code",
   "execution_count": null,
   "id": "f5338a08-0eec-4608-a907-4ea532a9ac2c",
   "metadata": {},
   "outputs": [],
   "source": []
  }
 ],
 "metadata": {
  "kernelspec": {
   "display_name": "Environment (conda_infutor_env)",
   "language": "python",
   "name": "conda_infutor_env"
  },
  "language_info": {
   "codemirror_mode": {
    "name": "ipython",
    "version": 3
   },
   "file_extension": ".py",
   "mimetype": "text/x-python",
   "name": "python",
   "nbconvert_exporter": "python",
   "pygments_lexer": "ipython3",
   "version": "3.10.13"
  }
 },
 "nbformat": 4,
 "nbformat_minor": 5
}
