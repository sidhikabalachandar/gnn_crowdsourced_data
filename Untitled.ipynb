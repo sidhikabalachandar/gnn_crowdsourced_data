{
 "cells": [
  {
   "cell_type": "code",
   "execution_count": 1,
   "id": "3d16e164-a0c2-4bbd-bd72-8746f1644ccf",
   "metadata": {},
   "outputs": [],
   "source": [
    "import pandas as pd"
   ]
  },
  {
   "cell_type": "code",
   "execution_count": 2,
   "id": "ddd0e9a9-e72e-4cd0-a0e0-956d900f874c",
   "metadata": {},
   "outputs": [],
   "source": [
    "df = pd.read_hdf('/share/garg/311_data/sb2377/clean_codebase/three_year_full.h5', 'df')"
   ]
  },
  {
   "cell_type": "code",
   "execution_count": 3,
   "id": "6b1ddb77-e0c5-43ca-98c6-d6d2bafb3bfb",
   "metadata": {},
   "outputs": [
    {
     "data": {
      "text/plain": [
       "Index(['GEOID', 'report_week', 'report_week_of_year', 'normalized_rating',\n",
       "       'finegrained_reported', 'real_rating_observed', 'typeagency',\n",
       "       'type_idxs', 'node_idxs', 'rating_week', 'rating_week_of_year',\n",
       "       'finegrained_id', 'type_rating_observed', 'Unnamed: 0',\n",
       "       'log_population_density', 'log_population', 'log_income_median',\n",
       "       'education_bachelors_pct', 'race_white_nh_pct', 'age_median',\n",
       "       'households_renteroccupied_pct', 'highschool_degree', 'college_degree',\n",
       "       'graduate_degree', 'non_hispanic_white', 'african_american', 'asian',\n",
       "       'neg_log_income_median', 'population_density', 'population',\n",
       "       'neg_income_median', 'income_median',\n",
       "       'normalized_log_population_density', 'normalized_log_population',\n",
       "       'normalized_log_income_median', 'normalized_education_bachelors_pct',\n",
       "       'normalized_race_white_nh_pct', 'normalized_age_median',\n",
       "       'normalized_households_renteroccupied_pct',\n",
       "       'normalized_highschool_degree', 'normalized_college_degree',\n",
       "       'normalized_graduate_degree', 'normalized_non_hispanic_white',\n",
       "       'normalized_african_american', 'normalized_asian',\n",
       "       'normalized_neg_log_income_median', 'normalized_population_density',\n",
       "       'normalized_population', 'normalized_neg_income_median',\n",
       "       'normalized_income_median'],\n",
       "      dtype='object')"
      ]
     },
     "execution_count": 3,
     "metadata": {},
     "output_type": "execute_result"
    }
   ],
   "source": [
    "df.columns"
   ]
  },
  {
   "cell_type": "code",
   "execution_count": 4,
   "id": "aebf2b4a-92f5-4809-a3ef-f548b654fea5",
   "metadata": {},
   "outputs": [],
   "source": [
    "sparse_df = df[(df['finegrained_reported'] == 1) | (df['real_rating_observed'] == 1)]"
   ]
  },
  {
   "cell_type": "code",
   "execution_count": 5,
   "id": "3a64d286-cefd-4ab1-a7ee-5ea3533f9868",
   "metadata": {},
   "outputs": [
    {
     "data": {
      "text/plain": [
       "(83410646, 38183590)"
      ]
     },
     "execution_count": 5,
     "metadata": {},
     "output_type": "execute_result"
    }
   ],
   "source": [
    "len(df), len(sparse_df)"
   ]
  },
  {
   "cell_type": "code",
   "execution_count": 6,
   "id": "66252d60-6b48-424f-8245-e52c398b3456",
   "metadata": {},
   "outputs": [],
   "source": [
    "sparse_df = sparse_df[['node_idxs', 'type_idxs', 'report_week', 'normalized_rating', \n",
    "                       'finegrained_reported', 'real_rating_observed', \n",
    "                       'type_rating_observed']]"
   ]
  },
  {
   "cell_type": "code",
   "execution_count": 7,
   "id": "aeef299c-f5df-44a9-91a2-61a96ffb401c",
   "metadata": {},
   "outputs": [],
   "source": [
    "sparse_df.to_hdf('/share/garg/311_data/sb2377/clean_codebase/three_year_sparse.h5', key='df', mode='w')"
   ]
  },
  {
   "cell_type": "code",
   "execution_count": null,
   "id": "1adcb7f5-685e-4ea4-b8f6-f60834c84724",
   "metadata": {},
   "outputs": [],
   "source": []
  }
 ],
 "metadata": {
  "kernelspec": {
   "display_name": "Environment (conda_gnn)",
   "language": "python",
   "name": "conda_gnn"
  },
  "language_info": {
   "codemirror_mode": {
    "name": "ipython",
    "version": 3
   },
   "file_extension": ".py",
   "mimetype": "text/x-python",
   "name": "python",
   "nbconvert_exporter": "python",
   "pygments_lexer": "ipython3",
   "version": "3.11.11"
  }
 },
 "nbformat": 4,
 "nbformat_minor": 5
}
