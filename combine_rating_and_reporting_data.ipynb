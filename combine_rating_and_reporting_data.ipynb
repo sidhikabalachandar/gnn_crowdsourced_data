{
 "cells": [
  {
   "cell_type": "code",
   "execution_count": 1,
   "id": "9cfb8ae1-dcd7-4902-81f1-1dcb5b82085d",
   "metadata": {},
   "outputs": [],
   "source": [
    "import pandas as pd\n",
    "# import numpy as np\n",
    "# import statsmodels.api as sm\n",
    "# import matplotlib.pyplot as plt\n",
    "# import torch"
   ]
  },
  {
   "cell_type": "code",
   "execution_count": 3,
   "id": "8594d712-90d0-4d41-ae01-914118278b26",
   "metadata": {},
   "outputs": [],
   "source": [
    "covar_path = '/share/garg/311_data/sb2377/tract_demographics.csv'\n",
    "base_data_path = '/share/garg/311_data/sb2377/two_year_base_tract.csv'\n",
    "reporting_data_path = '/share/garg/311_data/sb2377/two_year_tract_reports_full.h5'\n",
    "street_rating_path = '/share/garg/311_data/sb2377/processed_streets_two_year.h5'\n",
    "park_rating_path = '/share/garg/311_data/sb2377/processed_parks_two_year.h5'\n",
    "rodent_rating_path = '/share/garg/311_data/sb2377/processed_rodents_two_year.h5'\n",
    "restaurant_rating_path = '/share/garg/311_data/sb2377/processed_restaurant_two_year.h5'\n",
    "dcwp_rating_path = '/share/garg/311_data/sb2377/processed_dcwp_two_year.h5'\n",
    "save_path = '/share/garg/311_data/sb2377/two_year_full.h5'"
   ]
  },
  {
   "cell_type": "code",
   "execution_count": 4,
   "id": "5aee0514-3a16-4af7-a220-53e0fe5dc902",
   "metadata": {},
   "outputs": [],
   "source": [
    "cols_to_save = ['GEOID', \n",
    "                'report_week', \n",
    "                'report_week_of_year',\n",
    "                'normalized_rating', \n",
    "                'finegrained_reported', \n",
    "                'real_rating_observed', \n",
    "                'typeagency',\n",
    "                'type_idxs',\n",
    "                'node_idxs',\n",
    "                'rating_week',\n",
    "                'rating_week_of_year',\n",
    "                'finegrained_id'\n",
    "               ]"
   ]
  },
  {
   "cell_type": "code",
   "execution_count": 5,
   "id": "585c0640-ab67-4778-8763-ca1cf65e4e54",
   "metadata": {},
   "outputs": [],
   "source": [
    "covariates_arr = pd.read_csv(covar_path)\n",
    "base_df = pd.read_csv(base_data_path)\n",
    "reporting_df = pd.read_hdf(reporting_data_path, 'df')\n",
    "street_df = pd.read_hdf(street_rating_path, 'df')\n",
    "park_df = pd.read_hdf(park_rating_path, 'df')\n",
    "rodent_df = pd.read_hdf(rodent_rating_path, 'df')\n",
    "restaurant_df = pd.read_hdf(restaurant_rating_path, 'df')\n",
    "dcwp_df = pd.read_hdf(dcwp_rating_path, 'df')"
   ]
  },
  {
   "cell_type": "code",
   "execution_count": 6,
   "id": "f4e3f2f2-6eea-4ce8-a9ad-67bf62759c10",
   "metadata": {},
   "outputs": [],
   "source": [
    "# get type indices\n",
    "type_df = base_df[['typeagency', 'type_idxs']].drop_duplicates()\n",
    "street_idx = type_df[type_df['typeagency'] == 'StreetConditionDOT']['type_idxs'].iloc[0]\n",
    "park_idx = type_df[type_df['typeagency'] == 'MaintenanceorFacilityDPR']['type_idxs'].iloc[0]\n",
    "rodent_idx = type_df[type_df['typeagency'] == 'RodentDOHMH']['type_idxs'].iloc[0]\n",
    "restaurant_idx = type_df[type_df['typeagency'] == 'FoodDOHMH']['type_idxs'].iloc[0]\n",
    "dcwp_idx = type_df[type_df['typeagency'] == 'ConsumerComplaintDCWP']['type_idxs'].iloc[0]"
   ]
  },
  {
   "cell_type": "code",
   "execution_count": 7,
   "id": "ff209355-c5c7-4f12-a6d4-a3c464199d77",
   "metadata": {},
   "outputs": [],
   "source": [
    "# set null values in reporting data for rating specific columns\n",
    "reporting_df['normalized_rating'] = 0\n",
    "reporting_df['finegrained_reported'] = reporting_df['reported']\n",
    "reporting_df['real_rating_observed'] = 0"
   ]
  },
  {
   "cell_type": "code",
   "execution_count": 10,
   "id": "95be3f5c-c480-4dfc-8437-627ec56da203",
   "metadata": {},
   "outputs": [
    {
     "data": {
      "text/plain": [
       "Index(['finegrained_id', 'report_week', 'reported', 'finegrained_reported',\n",
       "       'score', 'rating_week', 'rating_week_of_year', 'real_rating_observed',\n",
       "       'report_week_of_year', 'GEOID', 'Unnamed: 0', 'log_population_density',\n",
       "       'log_population', 'log_income_median', 'education_bachelors_pct',\n",
       "       'race_white_nh_pct', 'age_median', 'households_renteroccupied_pct',\n",
       "       'normalized_log_population_density', 'normalized_log_population',\n",
       "       'normalized_log_income_median', 'normalized_education_bachelors_pct',\n",
       "       'normalized_race_white_nh_pct', 'normalized_age_median',\n",
       "       'normalized_households_renteroccupied_pct', 'typeagency', 'type_idxs',\n",
       "       'rating', 'normalized_rating'],\n",
       "      dtype='object')"
      ]
     },
     "execution_count": 10,
     "metadata": {},
     "output_type": "execute_result"
    }
   ],
   "source": [
    "street_df.columns"
   ]
  },
  {
   "cell_type": "code",
   "execution_count": 11,
   "id": "ed5bcc42-4760-4faf-9b7e-bf94a3e9e073",
   "metadata": {},
   "outputs": [
    {
     "name": "stdout",
     "output_type": "stream",
     "text": [
      "0\n",
      "1\n",
      "2\n",
      "3\n",
      "4\n"
     ]
    }
   ],
   "source": [
    "# for each complaint type with observed ratings, combine data with and without ratings\n",
    "dfs = [street_df, park_df, rodent_df, restaurant_df, dcwp_df]\n",
    "indices = [street_idx, park_idx, rodent_idx, restaurant_idx, dcwp_idx]\n",
    "full_dfs = []\n",
    "\n",
    "for i in range(len(dfs)):\n",
    "    print(i)\n",
    "    type_df = dfs[i]\n",
    "    type_idx = indices[i]\n",
    "    \n",
    "    # get data with ratings\n",
    "    # only include data with valid geoids\n",
    "    valid_geoid = set(base_df['GEOID'].unique())\n",
    "    type_rating_df = type_df[type_df['GEOID'].isin(valid_geoid)]\n",
    "\n",
    "    # add node_idxs\n",
    "    type_rating_df = pd.merge(type_rating_df, base_df[['node_idxs', 'GEOID']].drop_duplicates(), on='GEOID')\n",
    "    type_rating_df = type_rating_df[cols_to_save]\n",
    "\n",
    "    # get data without ratings\n",
    "    type_no_rating_df = reporting_df[reporting_df['type_idxs'] == type_idx]\n",
    "    all_geoids = set(type_no_rating_df['GEOID'].unique())\n",
    "    rating_geoids = set(type_rating_df['GEOID'].unique())\n",
    "    no_rating_geoids = all_geoids.difference(rating_geoids)\n",
    "    type_no_rating_df = type_no_rating_df[type_no_rating_df['GEOID'].isin(no_rating_geoids)]\n",
    "    type_no_rating_df['rating_week'] = -1\n",
    "    type_no_rating_df['rating_week_of_year'] = -1\n",
    "    type_no_rating_df['finegrained_id'] = -1\n",
    "    type_no_rating_df = type_no_rating_df[cols_to_save]\n",
    "\n",
    "    # combine\n",
    "    full_type_df = pd.concat([type_rating_df, type_no_rating_df])\n",
    "    full_dfs.append(full_type_df)"
   ]
  },
  {
   "cell_type": "code",
   "execution_count": 12,
   "id": "27c1be26-7444-4033-b402-7c48c1f21a9a",
   "metadata": {},
   "outputs": [
    {
     "name": "stderr",
     "output_type": "stream",
     "text": [
      "/share/pierson/tmp_directory_location_please_read_readme/sb2377_tmp/ipykernel_622839/466907674.py:10: SettingWithCopyWarning: \n",
      "A value is trying to be set on a copy of a slice from a DataFrame.\n",
      "Try using .loc[row_indexer,col_indexer] = value instead\n",
      "\n",
      "See the caveats in the documentation: https://pandas.pydata.org/pandas-docs/stable/user_guide/indexing.html#returning-a-view-versus-a-copy\n",
      "  rating_unobserved_df['rating_week'] = -1\n",
      "/share/pierson/tmp_directory_location_please_read_readme/sb2377_tmp/ipykernel_622839/466907674.py:11: SettingWithCopyWarning: \n",
      "A value is trying to be set on a copy of a slice from a DataFrame.\n",
      "Try using .loc[row_indexer,col_indexer] = value instead\n",
      "\n",
      "See the caveats in the documentation: https://pandas.pydata.org/pandas-docs/stable/user_guide/indexing.html#returning-a-view-versus-a-copy\n",
      "  rating_unobserved_df['rating_week_of_year'] = -1\n",
      "/share/pierson/tmp_directory_location_please_read_readme/sb2377_tmp/ipykernel_622839/466907674.py:12: SettingWithCopyWarning: \n",
      "A value is trying to be set on a copy of a slice from a DataFrame.\n",
      "Try using .loc[row_indexer,col_indexer] = value instead\n",
      "\n",
      "See the caveats in the documentation: https://pandas.pydata.org/pandas-docs/stable/user_guide/indexing.html#returning-a-view-versus-a-copy\n",
      "  rating_unobserved_df['finegrained_id'] = -1\n"
     ]
    }
   ],
   "source": [
    "# get data for types with observed ratings\n",
    "rating_observed_df = pd.concat(full_dfs)\n",
    "rating_observed_df['rating_observed'] = 1\n",
    "\n",
    "# get data for types with unobserved ratings\n",
    "all_types = set(base_df['type_idxs'].unique())\n",
    "rating_observed_types = set(rating_observed_df['type_idxs'].unique())\n",
    "rating_unobserved_types = all_types.difference(rating_observed_types)\n",
    "rating_unobserved_df = reporting_df[reporting_df['type_idxs'].isin(rating_unobserved_types)]\n",
    "rating_unobserved_df['rating_week'] = -1\n",
    "rating_unobserved_df['rating_week_of_year'] = -1\n",
    "rating_unobserved_df['finegrained_id'] = -1\n",
    "rating_unobserved_df = rating_unobserved_df[cols_to_save]\n",
    "rating_unobserved_df['rating_observed'] = 0\n",
    "\n",
    "# combine\n",
    "full_df = pd.concat([rating_observed_df, rating_unobserved_df])\n",
    "\n",
    "# get covariates\n",
    "full_df = pd.merge(full_df, covariates_arr, on='GEOID')"
   ]
  },
  {
   "cell_type": "code",
   "execution_count": null,
   "id": "643c36c1-5b2c-406b-8edd-ddceef05d96b",
   "metadata": {},
   "outputs": [],
   "source": [
    "full_df.to_hdf(save_path, key='df', mode='w')"
   ]
  },
  {
   "cell_type": "code",
   "execution_count": 22,
   "id": "f0b9a632-8830-4f14-a680-3d72cae97f37",
   "metadata": {},
   "outputs": [
    {
     "data": {
      "text/plain": [
       "Index(['GEOID', 'report_week', 'report_week_of_year', 'normalized_rating',\n",
       "       'finegrained_reported', 'real_rating_observed', 'typeagency',\n",
       "       'type_idxs', 'node_idxs', 'rating_week', 'rating_week_of_year',\n",
       "       'finegrained_id', 'rating_observed', 'log_population_density',\n",
       "       'log_population', 'log_income_median', 'education_bachelors_pct',\n",
       "       'race_white_nh_pct', 'age_median', 'households_renteroccupied_pct',\n",
       "       'normalized_log_population_density', 'normalized_log_population',\n",
       "       'normalized_log_income_median', 'normalized_education_bachelors_pct',\n",
       "       'normalized_race_white_nh_pct', 'normalized_age_median',\n",
       "       'normalized_households_renteroccupied_pct'],\n",
       "      dtype='object')"
      ]
     },
     "execution_count": 22,
     "metadata": {},
     "output_type": "execute_result"
    }
   ],
   "source": [
    "full_df.columns"
   ]
  },
  {
   "cell_type": "code",
   "execution_count": null,
   "id": "a0cdfb15-ff63-4262-984d-60a82814375e",
   "metadata": {},
   "outputs": [],
   "source": []
  }
 ],
 "metadata": {
  "kernelspec": {
   "display_name": "Environment (conda_gnn)",
   "language": "python",
   "name": "conda_gnn"
  },
  "language_info": {
   "codemirror_mode": {
    "name": "ipython",
    "version": 3
   },
   "file_extension": ".py",
   "mimetype": "text/x-python",
   "name": "python",
   "nbconvert_exporter": "python",
   "pygments_lexer": "ipython3",
   "version": "3.11.6"
  }
 },
 "nbformat": 4,
 "nbformat_minor": 5
}
