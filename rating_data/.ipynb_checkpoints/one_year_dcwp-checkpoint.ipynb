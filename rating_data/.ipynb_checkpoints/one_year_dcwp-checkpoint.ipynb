{
 "cells": [
  {
   "cell_type": "code",
   "execution_count": 1,
   "id": "8ca91ff5-7d5a-44d8-8a94-14df970b70e2",
   "metadata": {},
   "outputs": [],
   "source": [
    "import pandas as pd\n",
    "import geopandas as gpd\n",
    "from shapely import wkt\n",
    "import matplotlib.pyplot as plt\n",
    "import statsmodels.api as sm\n",
    "import sys\n",
    "import os\n",
    "sys.path.append(os.path.abspath(\"..\"))\n",
    "from utils import *"
   ]
  },
  {
   "cell_type": "code",
   "execution_count": 2,
   "id": "ce7e5cd2-28f1-4eb4-a6f1-b3e3da9c18b7",
   "metadata": {},
   "outputs": [],
   "source": [
    "year = 2023\n",
    "rating_data_path = '/share/garg/311_data/sb2377_a_data/dcwp/Department_of_Consumer_and_Worker_Protection__DCWP__Inspections_20240710.csv'\n",
    "report_data_path = '/share/garg/311_data/sb2377/data_{}.csv'.format(year)\n",
    "covars_path = '/share/garg/311_data/sb2377/tract_demographics.csv'\n",
    "save_path = '/share/garg/311_data/sb2377/processed_dcwp_{}.csv'.format(year)"
   ]
  },
  {
   "cell_type": "code",
   "execution_count": 3,
   "id": "93e3aa47-d4a9-4677-abaf-2f473b39f1b3",
   "metadata": {},
   "outputs": [],
   "source": [
    "reported_label = 'reported'\n",
    "rename_map = {'Inspection Date': 'date'}"
   ]
  },
  {
   "cell_type": "code",
   "execution_count": 4,
   "id": "2775ac4b-27c3-4801-bab2-853c78f16de9",
   "metadata": {},
   "outputs": [
    {
     "name": "stderr",
     "output_type": "stream",
     "text": [
      "/share/pierson/tmp_directory_location_please_read_readme/sb2377_tmp/ipykernel_599230/1621718016.py:3: DtypeWarning: Columns (8,31,32) have mixed types. Specify dtype option on import or set low_memory=False.\n",
      "  df_311 = pd.read_csv(report_data_path)\n"
     ]
    }
   ],
   "source": [
    "covariates_arr = pd.read_csv(covars_path)\n",
    "df = pd.read_csv(rating_data_path)\n",
    "df_311 = pd.read_csv(report_data_path)"
   ]
  },
  {
   "cell_type": "code",
   "execution_count": 5,
   "id": "619cb6e0-4125-4251-9acd-4603082ed64e",
   "metadata": {},
   "outputs": [
    {
     "name": "stdout",
     "output_type": "stream",
     "text": [
      "Using the default year of 2021\n",
      "Using FIPS code '36' for input 'NY'\n",
      "Using FIPS code '061' for input 'New York'\n",
      "Using FIPS code '005' for input 'Bronx'\n",
      "Using FIPS code '047' for input 'Kings'\n",
      "Using FIPS code '081' for input 'Queens'\n",
      "Using FIPS code '085' for input 'Richmond'\n",
      "Using the default year of 2021\n",
      "Using FIPS code '36' for input 'NY'\n",
      "Using FIPS code '061' for input 'New York'\n",
      "Using FIPS code '005' for input 'Bronx'\n",
      "Using FIPS code '047' for input 'Kings'\n",
      "Using FIPS code '081' for input 'Queens'\n",
      "Using FIPS code '085' for input 'Richmond'\n"
     ]
    }
   ],
   "source": [
    "census_gdf, final_graph, census_gdf_raw = generate_graph_census()\n",
    "census_gdf = census_gdf.to_crs('EPSG:2263')\n",
    "block_gdf, final_graph, census_gdf_raw = generate_graph_census(census_unit='blocks')"
   ]
  },
  {
   "cell_type": "code",
   "execution_count": 6,
   "id": "4542a67a-49ca-4bae-b0ba-dbde9bdc7c7f",
   "metadata": {},
   "outputs": [
    {
     "name": "stderr",
     "output_type": "stream",
     "text": [
      "/share/pierson/conda_virtualenvs/networks_underreporting_env/lib/python3.10/site-packages/IPython/core/interactiveshell.py:3338: FutureWarning: The `op` parameter is deprecated and will be removed in a future release. Please use the `predicate` parameter instead.\n",
      "  if await self.run_code(code, result, async_=asy):\n"
     ]
    }
   ],
   "source": [
    "# process rating data\n",
    "# rename columns\n",
    "df = df.rename(columns=rename_map)\n",
    "\n",
    "# process date\n",
    "df['date'] = pd.to_datetime(df['date'], format='%m/%d/%Y')\n",
    "df['year'] = df['date'].dt.year\n",
    "df['week'] = df['date'].dt.isocalendar().week\n",
    "df['month'] = df['date'].dt.month\n",
    "df.loc[(df['month'] == 1) & (df['week'] > 50), 'week'] = 0 # start first week at 0 (instead of previous year's indexing)\n",
    "one_year_df = df[df['year'] == year]\n",
    "\n",
    "# get census tract information\n",
    "one_year_df = one_year_df.dropna(subset=['Latitude', 'Longitude'])\n",
    "one_year_df = one_year_df[(one_year_df['Latitude'] != 0) & (one_year_df['Longitude'] != 0)]\n",
    "one_year_gdf = gpd.GeoDataFrame(one_year_df,\n",
    "                                geometry=gpd.points_from_xy(one_year_df.Longitude, one_year_df.Latitude),\n",
    "                                crs='EPSG:4326')\n",
    "one_year_gdf = gpd.sjoin(one_year_gdf.to_crs('EPSG:2263').reset_index(drop=True), block_gdf.to_crs('EPSG:2263'), how='inner', op='intersects')\n",
    "\n",
    "# convert condition to numeric score\n",
    "one_year_gdf = one_year_gdf.dropna(subset=['Inspection Result'])\n",
    "one_year_gdf = one_year_gdf[one_year_gdf['Inspection Result'].isin(['Fail', \n",
    "                                                                    'NOH Withdrawn', \n",
    "                                                                    'No Violation Issued', \n",
    "                                                                    'No Warning Issued', \n",
    "                                                                    'Pass', \n",
    "                                                                    'Re-inspection', \n",
    "                                                                    'Violation Issued', \n",
    "                                                                    'Warning'])]\n",
    "score_map = {'Fail':0, \n",
    "             'NOH Withdrawn':1, \n",
    "             'No Violation Issued':1, \n",
    "             'No Warning Issued':1, \n",
    "             'Pass':1, \n",
    "             'Re-inspection':0, \n",
    "             'Violation Issued':0, \n",
    "             'Warning':0\n",
    "            }\n",
    "one_year_gdf['score'] = one_year_gdf['Inspection Result'].map(score_map)\n",
    "\n",
    "# get average score for each bbl each week\n",
    "one_year_gdf = one_year_gdf[['GEOID20', 'week', 'score']]\n",
    "one_year_gdf = one_year_gdf.groupby(['GEOID20', 'week']).mean().reset_index()\n",
    "\n",
    "rating_df = one_year_gdf"
   ]
  },
  {
   "cell_type": "code",
   "execution_count": 7,
   "id": "f684d1bd-5f1a-49a4-ac9a-93495fda0353",
   "metadata": {},
   "outputs": [
    {
     "name": "stderr",
     "output_type": "stream",
     "text": [
      "/share/pierson/tmp_directory_location_please_read_readme/sb2377_tmp/ipykernel_599230/4021108397.py:5: UserWarning: Could not infer format, so each element will be parsed individually, falling back to `dateutil`. To ensure parsing is consistent and as-expected, please specify a format.\n",
      "  type_df['Created Date'] = pd.to_datetime(type_df['Created Date'])\n",
      "/share/pierson/tmp_directory_location_please_read_readme/sb2377_tmp/ipykernel_599230/4021108397.py:5: SettingWithCopyWarning: \n",
      "A value is trying to be set on a copy of a slice from a DataFrame.\n",
      "Try using .loc[row_indexer,col_indexer] = value instead\n",
      "\n",
      "See the caveats in the documentation: https://pandas.pydata.org/pandas-docs/stable/user_guide/indexing.html#returning-a-view-versus-a-copy\n",
      "  type_df['Created Date'] = pd.to_datetime(type_df['Created Date'])\n",
      "/share/pierson/tmp_directory_location_please_read_readme/sb2377_tmp/ipykernel_599230/4021108397.py:6: SettingWithCopyWarning: \n",
      "A value is trying to be set on a copy of a slice from a DataFrame.\n",
      "Try using .loc[row_indexer,col_indexer] = value instead\n",
      "\n",
      "See the caveats in the documentation: https://pandas.pydata.org/pandas-docs/stable/user_guide/indexing.html#returning-a-view-versus-a-copy\n",
      "  type_df['week'] = type_df['Created Date'].dt.isocalendar().week\n",
      "/share/pierson/tmp_directory_location_please_read_readme/sb2377_tmp/ipykernel_599230/4021108397.py:7: SettingWithCopyWarning: \n",
      "A value is trying to be set on a copy of a slice from a DataFrame.\n",
      "Try using .loc[row_indexer,col_indexer] = value instead\n",
      "\n",
      "See the caveats in the documentation: https://pandas.pydata.org/pandas-docs/stable/user_guide/indexing.html#returning-a-view-versus-a-copy\n",
      "  type_df['month'] = type_df['Created Date'].dt.month\n",
      "/share/pierson/conda_virtualenvs/networks_underreporting_env/lib/python3.10/site-packages/IPython/core/interactiveshell.py:3338: FutureWarning: The `op` parameter is deprecated and will be removed in a future release. Please use the `predicate` parameter instead.\n",
      "  if await self.run_code(code, result, async_=asy):\n"
     ]
    }
   ],
   "source": [
    "# process reporting data\n",
    "# get data for type\n",
    "type_df = df_311[df_311['Agency'] == 'DCWP']\n",
    "type_df = df_311[df_311['Complaint Type'] == 'Consumer Complaint']\n",
    "type_df['Created Date'] = pd.to_datetime(type_df['Created Date'])\n",
    "type_df['week'] = type_df['Created Date'].dt.isocalendar().week\n",
    "type_df['month'] = type_df['Created Date'].dt.month\n",
    "type_df.loc[(type_df['month'] == 1) & (type_df['week'] > 50), 'week'] = 0 # start first week at 0 (instead of previous year's indexing)\n",
    "\n",
    "# process location\n",
    "type_df = type_df[~(type_df.Latitude.isna()|type_df.Longitude.isna())]\n",
    "type_gdf = gpd.GeoDataFrame(type_df,\n",
    "                            geometry=gpd.points_from_xy(type_df.Longitude, type_df.Latitude),\n",
    "                            crs='EPSG:4326')\n",
    "\n",
    "# get census tract information\n",
    "type_gdf = gpd.sjoin(type_gdf.to_crs('EPSG:2263').reset_index(drop=True), block_gdf.to_crs('EPSG:2263'), how='inner', op='intersects')\n",
    "type_gdf['GEOID20'] = type_gdf['GEOID20'].astype(int)\n",
    "type_gdf = type_gdf.to_crs('EPSG:2263')\n",
    "\n",
    "reports_df = type_gdf\n",
    "\n",
    "# only get reports in a census block with an inspection\n",
    "rating_df['GEOID20'] = rating_df['GEOID20'].astype(int)\n",
    "rating_geoid = set(rating_df['GEOID20'].unique())\n",
    "inspected_reports_df = reports_df[reports_df['GEOID20'].isin(rating_geoid)]"
   ]
  },
  {
   "cell_type": "code",
   "execution_count": 8,
   "id": "5ce5fbcb-0d09-4429-ac35-6f65cc206098",
   "metadata": {},
   "outputs": [
    {
     "name": "stderr",
     "output_type": "stream",
     "text": [
      "/share/pierson/conda_virtualenvs/networks_underreporting_env/lib/python3.10/site-packages/geopandas/geodataframe.py:1538: SettingWithCopyWarning: \n",
      "A value is trying to be set on a copy of a slice from a DataFrame.\n",
      "Try using .loc[row_indexer,col_indexer] = value instead\n",
      "\n",
      "See the caveats in the documentation: https://pandas.pydata.org/pandas-docs/stable/user_guide/indexing.html#returning-a-view-versus-a-copy\n",
      "  super().__setitem__(key, value)\n",
      "/share/pierson/conda_virtualenvs/networks_underreporting_env/lib/python3.10/site-packages/geopandas/geodataframe.py:1538: SettingWithCopyWarning: \n",
      "A value is trying to be set on a copy of a slice from a DataFrame.\n",
      "Try using .loc[row_indexer,col_indexer] = value instead\n",
      "\n",
      "See the caveats in the documentation: https://pandas.pydata.org/pandas-docs/stable/user_guide/indexing.html#returning-a-view-versus-a-copy\n",
      "  super().__setitem__(key, value)\n"
     ]
    }
   ],
   "source": [
    "# create num finegrained entities x num weeks full T and r dataset\n",
    "inspected_reports_df['finegrained_id'] = inspected_reports_df['GEOID20']\n",
    "rating_df['finegrained_id'] = rating_df['GEOID20']\n",
    "finegrained_entities = rating_df['finegrained_id'].unique()\n",
    "\n",
    "dfs = []\n",
    "for i in sorted(inspected_reports_df['week'].unique()):\n",
    "    data = pd.DataFrame()\n",
    "    data['finegrained_id'] = finegrained_entities\n",
    "    data['report_week'] = i\n",
    "    dfs.append(data)\n",
    "    \n",
    "all_data = pd.concat(dfs)\n",
    "\n",
    "# add in T labels\n",
    "# set T = 1 for instances where there is a complaint\n",
    "inspected_reports_df['report_week'] = inspected_reports_df['week']\n",
    "inspected_reports_df = inspected_reports_df[['finegrained_id', 'report_week']].drop_duplicates()\n",
    "inspected_reports_df['reported'] = 1\n",
    "all_data = pd.merge(all_data, inspected_reports_df, on=['finegrained_id', 'report_week'], how='left')\n",
    "all_data['reported'] = all_data['reported'].fillna(0)\n",
    "\n",
    "# add in rating data\n",
    "rating_df['rating_week'] = rating_df['week']\n",
    "rating_df['report_week'] = rating_df['week']\n",
    "rating_subset_df = rating_df[['finegrained_id', 'score', 'rating_week', 'report_week']].drop_duplicates()\n",
    "all_data = pd.merge(all_data, rating_subset_df, on=['finegrained_id', 'report_week'], how='left')\n",
    "\n",
    "# assume constant rating until next inspection \n",
    "all_data.sort_values(by=['finegrained_id', 'report_week'], inplace=True)\n",
    "all_data['score'] = all_data.groupby('finegrained_id')['score'].ffill()\n",
    "all_data['rating_week'] = all_data.groupby('finegrained_id')['rating_week'].ffill()\n",
    "all_data = all_data[::-1]\n",
    "all_data['score'] = all_data.groupby('finegrained_id')['score'].ffill()\n",
    "all_data['rating_week'] = all_data.groupby('finegrained_id')['rating_week'].ffill()\n",
    "all_data = all_data[::-1]\n",
    "\n",
    "# add in demographic data\n",
    "all_data['GEOID'] = all_data['finegrained_id'].astype(str).str[:11]\n",
    "all_data['GEOID'] = all_data['GEOID'].astype(int)\n",
    "all_data = pd.merge(all_data, covariates_arr, on=['GEOID'], how='left')\n",
    "\n",
    "# add in meta data\n",
    "all_data['rating_week_of_year'] = all_data['rating_week']\n",
    "all_data['report_week_of_year'] = all_data['report_week']\n",
    "\n",
    "# get z-scored ratings\n",
    "all_data['normalized_score'] = (all_data['score'] - all_data['score'].mean()) / all_data['score'].std()"
   ]
  },
  {
   "cell_type": "code",
   "execution_count": 9,
   "id": "519291ab-5571-4e07-91d8-31da982539bf",
   "metadata": {},
   "outputs": [],
   "source": [
    "assert(len(finegrained_entities) * len(inspected_reports_df['report_week'].unique()) == len(all_data))"
   ]
  },
  {
   "cell_type": "code",
   "execution_count": 10,
   "id": "fcf74e2d-e8d0-450d-8685-4013c66acd0c",
   "metadata": {},
   "outputs": [
    {
     "data": {
      "text/plain": [
       "86920"
      ]
     },
     "execution_count": 10,
     "metadata": {},
     "output_type": "execute_result"
    }
   ],
   "source": [
    "len(all_data)"
   ]
  },
  {
   "cell_type": "code",
   "execution_count": 12,
   "id": "132e5975-bb36-4968-b871-c2a98c6c751d",
   "metadata": {},
   "outputs": [],
   "source": [
    "all_data.to_csv(save_path)"
   ]
  },
  {
   "cell_type": "code",
   "execution_count": 11,
   "id": "df1c2f5b-cb92-4892-9e4d-79a408d7f5c1",
   "metadata": {},
   "outputs": [
    {
     "name": "stdout",
     "output_type": "stream",
     "text": [
      "Mean rating of tracts with a report = 0.40630852636766873, without a report = 0.4393787260746784\n",
      "95% CIs rating of tracts with a report = [0.40629765360256986, 0.4063193991327676], without a report = [0.43936774940716067, 0.4393897027421962]\n"
     ]
    }
   ],
   "source": [
    "# evaluate mean rating with and without a report\n",
    "mean_1 = all_data[(all_data[reported_label] == 1)]['score'].mean()\n",
    "error_1 = all_data[(all_data[reported_label] == 1)]['score'].std() / len(all_data)\n",
    "mean_0 = all_data[(all_data[reported_label] == 0)]['score'].mean()\n",
    "error_0 = all_data[(all_data[reported_label] == 0)]['score'].std() / len(all_data)\n",
    "print('Mean rating of tracts with a report = {}, without a report = {}'.format(mean_1, mean_0))\n",
    "print('95% CIs rating of tracts with a report = [{}, {}], without a report = [{}, {}]'.format(mean_1 - 1.96 * error_1, mean_1 + 1.96 * error_1, mean_0 - 1.96 * error_0, mean_0 + 1.96 * error_0))"
   ]
  },
  {
   "cell_type": "code",
   "execution_count": 12,
   "id": "60af1dfd-3f65-448a-a379-c881861674fa",
   "metadata": {},
   "outputs": [
    {
     "name": "stdout",
     "output_type": "stream",
     "text": [
      "Optimization terminated successfully.\n",
      "         Current function value: 0.187527\n",
      "         Iterations 7\n"
     ]
    },
    {
     "data": {
      "image/png": "[encoded data removed]",
      "text/plain": [
       "<Figure size 1200x600 with 1 Axes>"
      ]
     },
     "metadata": {},
     "output_type": "display_data"
    }
   ],
   "source": [
    "# run a regression of T ~ demographics + rating\n",
    "covariates = ['log pop density',\n",
    "              'log med income',\n",
    "              'bachelors pct',\n",
    "              'white pct',\n",
    "              'med age',\n",
    "              'renter pct'\n",
    "             ]\n",
    "\n",
    "normalized_covariates = ['normalized_log_population_density',\n",
    "                         'normalized_log_income_median',\n",
    "                         'normalized_education_bachelors_pct',\n",
    "                         'normalized_race_white_nh_pct',\n",
    "                         'normalized_age_median',\n",
    "                         'normalized_households_renteroccupied_pct',\n",
    "                         'normalized_score'\n",
    "                        ]\n",
    "\n",
    "plt.figure(figsize=(12, 6))\n",
    "\n",
    "y_label = reported_label\n",
    "formula = y_label + ' ~ '\n",
    "for c in normalized_covariates:\n",
    "    formula += c + ' + '\n",
    "formula = formula[:-3]\n",
    "\n",
    "fit = sm.Logit.from_formula(formula, data = all_data).fit()\n",
    "fit.summary()\n",
    "coefficients = fit.params.to_numpy()[-7:]\n",
    "conf_intervals = fit.conf_int().to_numpy()[-7:, :]\n",
    "plt.errorbar(x=covariates + ['rating'], y=coefficients, \n",
    "             yerr=[coefficients - conf_intervals[:,0], conf_intervals[:,1] - coefficients], capsize=5, fmt='o', label='T ~ demographics + rating')\n",
    "\n",
    "plt.axhline(0, color='black', linestyle='--')  # Horizontal dashed line at y=0\n",
    "plt.legend()\n",
    "plt.show()"
   ]
  },
  {
   "cell_type": "code",
   "execution_count": null,
   "id": "ea4eeddb-974a-4579-b460-ba99a90cb18a",
   "metadata": {},
   "outputs": [],
   "source": []
  }
 ],
 "metadata": {
  "kernelspec": {
   "display_name": "Environment (conda_networks_underreporting_env)",
   "language": "python",
   "name": "conda_networks_underreporting_env"
  },
  "language_info": {
   "codemirror_mode": {
    "name": "ipython",
    "version": 3
   },
   "file_extension": ".py",
   "mimetype": "text/x-python",
   "name": "python",
   "nbconvert_exporter": "python",
   "pygments_lexer": "ipython3",
   "version": "3.10.12"
  }
 },
 "nbformat": 4,
 "nbformat_minor": 5
}
