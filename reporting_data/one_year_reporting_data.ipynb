{
 "cells": [
  {
   "cell_type": "code",
   "execution_count": 1,
   "id": "d4a0a756-9e71-4902-8b68-6754ba5be0e5",
   "metadata": {},
   "outputs": [],
   "source": [
    "import pandas as pd\n",
    "import geopandas as gpd\n",
    "import numpy as np\n",
    "import re\n",
    "import sys\n",
    "import os\n",
    "sys.path.append(os.path.abspath(\"..\"))\n",
    "from utils import *"
   ]
  },
  {
   "cell_type": "code",
   "execution_count": 2,
   "id": "f9ea9441-478a-4f43-83c1-1357648534be",
   "metadata": {},
   "outputs": [],
   "source": [
    "year = 2022\n",
    "reporting_data_path = '/share/garg/311_data/sb2377/data_{}.csv'.format(year)\n",
    "save_path = '/share/garg/311_data/sb2377/{}_weekly_report_data_tracts.csv'.format(year)"
   ]
  },
  {
   "cell_type": "code",
   "execution_count": 3,
   "id": "42a5ae32-25c9-4687-b3e8-e0e1240a5c30",
   "metadata": {},
   "outputs": [
    {
     "name": "stderr",
     "output_type": "stream",
     "text": [
      "/share/pierson/tmp_directory_location_please_read_readme/sb2377_tmp/ipykernel_581153/3063820325.py:1: DtypeWarning: Columns (19,21,32,33) have mixed types. Specify dtype option on import or set low_memory=False.\n",
      "  df = pd.read_csv(reporting_data_path)\n"
     ]
    }
   ],
   "source": [
    "df = pd.read_csv(reporting_data_path)"
   ]
  },
  {
   "cell_type": "code",
   "execution_count": 4,
   "id": "80116f81-992f-48fa-9e11-6906900ca376",
   "metadata": {},
   "outputs": [
    {
     "name": "stdout",
     "output_type": "stream",
     "text": [
      "Using the default year of 2021\n",
      "Using FIPS code '36' for input 'NY'\n",
      "Using FIPS code '061' for input 'New York'\n",
      "Using FIPS code '005' for input 'Bronx'\n",
      "Using FIPS code '047' for input 'Kings'\n",
      "Using FIPS code '081' for input 'Queens'\n",
      "Using FIPS code '085' for input 'Richmond'\n"
     ]
    }
   ],
   "source": [
    "census_gdf, final_graph, census_gdf_raw = generate_graph_census()"
   ]
  },
  {
   "cell_type": "code",
   "execution_count": 5,
   "id": "c8cb6052-9f12-4636-a299-b681fb7fcb03",
   "metadata": {},
   "outputs": [
    {
     "name": "stderr",
     "output_type": "stream",
     "text": [
      "/share/pierson/conda_virtualenvs/networks_underreporting_env/lib/python3.10/site-packages/IPython/core/interactiveshell.py:3338: FutureWarning: The `op` parameter is deprecated and will be removed in a future release. Please use the `predicate` parameter instead.\n",
      "  if await self.run_code(code, result, async_=asy):\n"
     ]
    }
   ],
   "source": [
    "# only get rows with valid location information\n",
    "complaints_nonan_df = df[~(df.Latitude.isna()|df.Longitude.isna())]\n",
    "complaints_gdf = gpd.GeoDataFrame(complaints_nonan_df,\n",
    "                                  geometry=gpd.points_from_xy(complaints_nonan_df.Longitude, complaints_nonan_df.Latitude),\n",
    "                                  crs='EPSG:4326')\n",
    "\n",
    "# get census block information\n",
    "reports_df = gpd.sjoin(complaints_gdf.to_crs('EPSG:2263').reset_index(drop=True),census_gdf.to_crs('EPSG:2263'), how='inner', op='intersects')\n",
    "\n",
    "# get date information\n",
    "reports_df['Created Date'] = pd.to_datetime(reports_df['Created Date'])\n",
    "reports_df['report_week'] = reports_df['Created Date'].dt.isocalendar().week\n",
    "reports_df['month'] = reports_df['Created Date'].dt.month\n",
    "reports_df.loc[(reports_df['month'] == 1) & (reports_df['report_week'] > 50), 'report_week'] = 0\n",
    "\n",
    "# get type information\n",
    "def concatenate_and_clean(t):\n",
    "    concatenated = ''.join(t)\n",
    "    # Remove all characters that are not letters\n",
    "    cleaned = re.sub(r'[^A-Za-z]', '', concatenated)\n",
    "    return cleaned\n",
    "\n",
    "reports_df['typeagency'] = list(zip(reports_df['Complaint Type'], reports_df['Agency']))\n",
    "reports_df['typeagency'] = reports_df['typeagency'].apply(concatenate_and_clean)"
   ]
  },
  {
   "cell_type": "code",
   "execution_count": 6,
   "id": "c9cd6913-a052-4b48-bd45-d3d7d297b16d",
   "metadata": {},
   "outputs": [],
   "source": [
    "# create num census block x num type x num weeks full T dataset\n",
    "census_blocks = np.array(census_gdf['GEOID'].unique())\n",
    "types = np.array(reports_df['typeagency'].unique())\n",
    "weeks = reports_df['report_week'].unique()\n",
    "\n",
    "# get all pairs of node x type\n",
    "pairs = np.array(np.meshgrid(census_blocks,types)).T.reshape(-1,2)\n",
    "pairs_df = pd.DataFrame()\n",
    "pairs_df['GEOID'] = pairs[:,0]\n",
    "pairs_df['typeagency'] = pairs[:,1]\n",
    "\n",
    "# add in type and agency information\n",
    "type_df = reports_df[['typeagency', 'Complaint Type', 'Agency']].drop_duplicates()\n",
    "# type_df = type_df[type_df['Complaint Type'] != 'Litter Basket / Request']\n",
    "pairs_df = pd.merge(pairs_df, type_df, on='typeagency')\n",
    "\n",
    "dfs = []\n",
    "\n",
    "for i in weeks:\n",
    "    data = pairs_df.copy()\n",
    "    data['report_week'] = i\n",
    "    dfs.append(data)\n",
    "    \n",
    "all_data = pd.concat(dfs)\n",
    "\n",
    "# add in T labels\n",
    "# set T = 1 for instances where there is a complaint\n",
    "reported_data = reports_df[['GEOID', 'typeagency', 'report_week']].drop_duplicates()\n",
    "reported_data['report_week_of_year'] = reported_data['report_week']\n",
    "reported_data['reported'] = 1\n",
    "binary_reports_df = pd.merge(all_data, reported_data, on=['GEOID', 'typeagency', 'report_week'], how='left')\n",
    "binary_reports_df['reported'] = binary_reports_df['reported'].fillna(0)"
   ]
  },
  {
   "cell_type": "code",
   "execution_count": 7,
   "id": "b6cc58b8-4f0b-4774-bcf4-c872c1c6a4e9",
   "metadata": {},
   "outputs": [],
   "source": [
    "assert(len(census_blocks) * len(types) * len(weeks) == len(binary_reports_df))"
   ]
  },
  {
   "cell_type": "code",
   "execution_count": 8,
   "id": "f09cc9e7-f4d0-4b12-9c70-7bb7591e5f96",
   "metadata": {},
   "outputs": [
    {
     "data": {
      "text/plain": [
       "24409044"
      ]
     },
     "execution_count": 8,
     "metadata": {},
     "output_type": "execute_result"
    }
   ],
   "source": [
    "len(binary_reports_df)"
   ]
  },
  {
   "cell_type": "code",
   "execution_count": 9,
   "id": "02ceb7b4-25b3-426e-8ccb-6d02ddc8c96f",
   "metadata": {},
   "outputs": [],
   "source": [
    "binary_reports_df.to_csv(save_path)"
   ]
  },
  {
   "cell_type": "code",
   "execution_count": null,
   "id": "f5338a08-0eec-4608-a907-4ea532a9ac2c",
   "metadata": {},
   "outputs": [],
   "source": []
  }
 ],
 "metadata": {
  "kernelspec": {
   "display_name": "Environment (conda_networks_underreporting_env)",
   "language": "python",
   "name": "conda_networks_underreporting_env"
  },
  "language_info": {
   "codemirror_mode": {
    "name": "ipython",
    "version": 3
   },
   "file_extension": ".py",
   "mimetype": "text/x-python",
   "name": "python",
   "nbconvert_exporter": "python",
   "pygments_lexer": "ipython3",
   "version": "3.10.12"
  }
 },
 "nbformat": 4,
 "nbformat_minor": 5
}
