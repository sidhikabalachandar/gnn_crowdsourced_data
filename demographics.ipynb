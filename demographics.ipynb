{
 "cells": [
  {
   "cell_type": "code",
   "execution_count": 1,
   "id": "043ccdb6-987a-4def-b8d0-6efc33a6e28e",
   "metadata": {},
   "outputs": [],
   "source": [
    "import pandas as pd\n",
    "import numpy as np\n",
    "import geopandas as gpd\n",
    "from shapely import wkt\n",
    "import sys\n",
    "import os\n",
    "from utils import *"
   ]
  },
  {
   "cell_type": "code",
   "execution_count": 2,
   "id": "6bf37e76-79f3-40f7-97b8-fc3c180b82c6",
   "metadata": {},
   "outputs": [],
   "source": [
    "raw_census_data_dir = '/share/garg/gs665/networks_underreporting/d01_data/d01_raw/d03_population-data/2020/'\n",
    "save_path = '/share/garg/311_data/sb2377/clean_codebase/tract_demographics.csv'"
   ]
  },
  {
   "cell_type": "code",
   "execution_count": 3,
   "id": "b2dee146-1d5b-4f75-a771-7b11cb66f372",
   "metadata": {},
   "outputs": [],
   "source": [
    "covariates_to_save = ['log_population_density',\n",
    "                      'log_population',\n",
    "                      'log_income_median',\n",
    "                      'education_bachelors_pct',\n",
    "                      'race_white_nh_pct',\n",
    "                      'age_median',\n",
    "                      'households_renteroccupied_pct',\n",
    "                      'highschool_degree',\n",
    "                      'college_degree',\n",
    "                      'graduate_degree',\n",
    "                      'non_hispanic_white',\n",
    "                      'african_american',\n",
    "                      'asian',\n",
    "                      'neg_log_income_median',\n",
    "                      'population_density',\n",
    "                      'population',\n",
    "                      'neg_income_median',\n",
    "                      'income_median',\n",
    "                     ]\n",
    "covariates_to_filter_on = covariates_to_save[:-2] # income_median null value is 1"
   ]
  },
  {
   "cell_type": "code",
   "execution_count": 4,
   "id": "1ca92f5b-a9ec-4bbe-bb53-e79e019155eb",
   "metadata": {},
   "outputs": [
    {
     "name": "stdout",
     "output_type": "stream",
     "text": [
      "Using the default year of 2021\n",
      "Using FIPS code '36' for input 'NY'\n",
      "Using FIPS code '061' for input 'New York'\n",
      "Using FIPS code '005' for input 'Bronx'\n",
      "Using FIPS code '047' for input 'Kings'\n",
      "Using FIPS code '081' for input 'Queens'\n",
      "Using FIPS code '085' for input 'Richmond'\n"
     ]
    }
   ],
   "source": [
    "census_gdf, final_graph, census_gdf_raw = generate_graph_census()"
   ]
  },
  {
   "cell_type": "code",
   "execution_count": 5,
   "id": "24f76bc2-1a00-4930-85ac-9b65f7ff9d4f",
   "metadata": {},
   "outputs": [],
   "source": [
    "def read_table(table, raw_census_data_dir=raw_census_data_dir):\n",
    "    df = pd.read_csv(f'{raw_census_data_dir}{table}.csv', low_memory=False).iloc[1:]\n",
    "    df['GEOID'] = df['GEO_ID']\n",
    "    df = df.set_index(df['GEOID'].apply(lambda x: str(x)[-11:]))\n",
    "    return df"
   ]
  },
  {
   "cell_type": "code",
   "execution_count": 6,
   "id": "14d2af64-18b0-414e-af7c-c9e0da52adfb",
   "metadata": {},
   "outputs": [],
   "source": [
    "census_covariates = pd.DataFrame()"
   ]
  },
  {
   "cell_type": "code",
   "execution_count": 7,
   "id": "2977c969-d63d-45f4-8391-ae998eaa09a7",
   "metadata": {},
   "outputs": [
    {
     "name": "stderr",
     "output_type": "stream",
     "text": [
      "/share/pierson/conda_virtualenvs/networks_underreporting_env/lib/python3.10/site-packages/pandas/core/arraylike.py:396: RuntimeWarning: divide by zero encountered in log\n",
      "  result = getattr(ufunc, method)(*inputs, **kwargs)\n"
     ]
    }
   ],
   "source": [
    "# Population:\n",
    "pop_table = read_table('P1')\n",
    "pop_col = pop_table['P1_001N'].astype(int)\n",
    "\n",
    "census_covariates['population'] = pop_col\n",
    "census_covariates['log_population'] = np.log(pop_col)"
   ]
  },
  {
   "cell_type": "code",
   "execution_count": 8,
   "id": "ba6aa8e6-2346-4684-a14f-0ae7b0371d9c",
   "metadata": {},
   "outputs": [],
   "source": [
    "# Income:\n",
    "ACS_inc_table = read_table('S1901')\n",
    "med_inc = ACS_inc_table.loc[:,'S1901_C01_012E']\n",
    "med_inc_col = med_inc.replace({'-':1, '2,500-':2500, '250,000+': 250000}).astype(int)\n",
    "\n",
    "census_covariates['income_median'] = med_inc_col\n",
    "census_covariates['log_income_median'] = np.log(med_inc_col)\n",
    "census_covariates['neg_log_income_median'] = -1 * census_covariates['log_income_median']\n",
    "census_covariates['neg_income_median'] = -1 * census_covariates['income_median']\n",
    "\n",
    "# Categorical income:\n",
    "census_covariates['income_qt'] = pd.qcut(census_covariates['income_median'], 4, labels=['lowest', '2nd lowest', '2nd highest', 'highest'])"
   ]
  },
  {
   "cell_type": "code",
   "execution_count": 9,
   "id": "3febb0ea-3e87-4b0d-b7ed-88cdb8d2cae2",
   "metadata": {},
   "outputs": [],
   "source": [
    "# Education:\n",
    "bachelors_or_more = [f'B15003_0{n:02}E' for n in range(22, 26)]\n",
    "highschool_or_more = [f'B15003_0{n:02}E' for n in range(17, 26)]\n",
    "college_or_more = [f'B15003_0{n:02}E' for n in range(21, 26)]\n",
    "graduate_or_more = [f'B15003_0{n:02}E' for n in range(23, 26)]\n",
    "\n",
    "ACS_ed_table = read_table('B15003')\n",
    "total_ed = ACS_ed_table.loc[:,'B15003_001E'].astype(int)\n",
    "\n",
    "census_covariates['education_bachelors_pct'] = ACS_ed_table.loc[:,bachelors_or_more].astype(int).sum(axis=1)/total_ed\n",
    "census_covariates['highschool_degree'] = ACS_ed_table.loc[:,highschool_or_more].astype(int).sum(axis=1)/total_ed\n",
    "census_covariates['college_degree'] = ACS_ed_table.loc[:,college_or_more].astype(int).sum(axis=1)/total_ed\n",
    "census_covariates['graduate_degree'] = ACS_ed_table.loc[:,graduate_or_more].astype(int).sum(axis=1)/total_ed"
   ]
  },
  {
   "cell_type": "code",
   "execution_count": 10,
   "id": "63e61dc4-46c7-466a-8e0e-4fd429ce77fd",
   "metadata": {},
   "outputs": [],
   "source": [
    "# Race:\n",
    "race_ethnicity_table = read_table('P9')\n",
    "total_ethnicity = race_ethnicity_table.loc[:,'P9_001N'].astype(int)\n",
    "census_covariates['race_white_nh_pct'] = race_ethnicity_table.loc[:,'P9_005N'].astype(int)/total_ethnicity\n",
    "census_covariates['non_hispanic_white'] = race_ethnicity_table.loc[:,'P9_005N'].astype(int)/total_ethnicity\n",
    "census_covariates['african_american'] = race_ethnicity_table.loc[:,'P9_006N'].astype(int)/total_ethnicity\n",
    "census_covariates['asian'] = race_ethnicity_table.loc[:,'P9_008N'].astype(int)/total_ethnicity"
   ]
  },
  {
   "cell_type": "code",
   "execution_count": 11,
   "id": "e4a1cf2f-6eb0-4256-a1dc-a9da54cc7e35",
   "metadata": {},
   "outputs": [],
   "source": [
    "# Median age:\n",
    "age_table = read_table('P13')\n",
    "census_covariates['age_median'] = age_table.loc[:,'P13_001N'].replace({'-':0}).astype(float)"
   ]
  },
  {
   "cell_type": "code",
   "execution_count": 12,
   "id": "0c7d0872-5323-4520-b5b7-8595c1dceeeb",
   "metadata": {},
   "outputs": [],
   "source": [
    "# Households occupied by owner and renter:\n",
    "household_table = read_table('B25003')\n",
    "census_covariates['households_renteroccupied_pct'] = household_table.loc[:,'B25003_003E'].astype(int)/household_table.loc[:,'B25003_001E'].astype(int)"
   ]
  },
  {
   "cell_type": "code",
   "execution_count": 13,
   "id": "2c74d4d9-18e0-4639-8c43-e2ffc9eb0f3a",
   "metadata": {},
   "outputs": [
    {
     "name": "stderr",
     "output_type": "stream",
     "text": [
      "/share/pierson/conda_virtualenvs/networks_underreporting_env/lib/python3.10/site-packages/pandas/core/arraylike.py:396: RuntimeWarning: divide by zero encountered in log\n",
      "  result = getattr(ufunc, method)(*inputs, **kwargs)\n"
     ]
    }
   ],
   "source": [
    "# Population density:\n",
    "# get area\n",
    "census_covariates.reset_index(inplace=True)\n",
    "census_covariates = pd.merge(census_covariates, census_gdf, on='GEOID', how='left')\n",
    "census_covariates = gpd.GeoDataFrame(census_covariates, geometry='geometry').to_crs('EPSG:2263')\n",
    "census_covariates['area'] = census_covariates['geometry'].area\n",
    "# population density = population / area\n",
    "census_covariates['population_density'] = census_covariates['population'] / census_covariates['area']\n",
    "census_covariates['log_population_density'] = np.log(census_covariates['population_density'])\n",
    "census_covariates.set_index('GEOID', inplace=True)"
   ]
  },
  {
   "cell_type": "code",
   "execution_count": 14,
   "id": "0c334e33-c526-4350-a1e6-d27749ba5795",
   "metadata": {},
   "outputs": [
    {
     "name": "stderr",
     "output_type": "stream",
     "text": [
      "/share/pierson/tmp_directory_location_please_read_readme/sb2377_tmp/ipykernel_4168169/2479272700.py:13: SettingWithCopyWarning: \n",
      "A value is trying to be set on a copy of a slice from a DataFrame\n",
      "\n",
      "See the caveats in the documentation: https://pandas.pydata.org/pandas-docs/stable/user_guide/indexing.html#returning-a-view-versus-a-copy\n",
      "  covariates_arr.replace([np.inf, -np.inf], np.nan, inplace=True)\n",
      "/share/pierson/tmp_directory_location_please_read_readme/sb2377_tmp/ipykernel_4168169/2479272700.py:14: SettingWithCopyWarning: \n",
      "A value is trying to be set on a copy of a slice from a DataFrame\n",
      "\n",
      "See the caveats in the documentation: https://pandas.pydata.org/pandas-docs/stable/user_guide/indexing.html#returning-a-view-versus-a-copy\n",
      "  covariates_arr.fillna(0, inplace=True)\n"
     ]
    }
   ],
   "source": [
    "#Some small adjustments to keep covariantes at the geographic level:\n",
    "geoid_len = len(str(census_covariates.index.values[0]))\n",
    "census_gdf.GEOID = census_gdf.GEOID.apply(lambda x: int(str(x)[:geoid_len]))\n",
    "census_covariates['GEOID'] = census_covariates.index\n",
    "census_covariates.GEOID = census_covariates.GEOID.apply(lambda x: int(str(x)[:geoid_len]))\n",
    "nyc_census_tracts = census_gdf['GEOID'].unique()\n",
    "\n",
    "#Merge:\n",
    "covariates_gdf = census_covariates[census_covariates['GEOID'].isin(nyc_census_tracts)]\n",
    "\n",
    "#Select covariates:\n",
    "covariates_arr = covariates_gdf[['GEOID'] + covariates_to_save]\n",
    "covariates_arr.replace([np.inf, -np.inf], np.nan, inplace=True)\n",
    "covariates_arr.fillna(0, inplace=True)\n",
    "\n",
    "# drop rows where all covariates are not specified\n",
    "covariates_arr = covariates_arr[(covariates_arr[covariates_to_save] != 0).any(axis=1)]\n",
    "\n",
    "# normalize covariates\n",
    "for c in covariates_to_save:\n",
    "    covariates_arr['normalized_{}'.format(c)] = (covariates_arr[c] - covariates_arr[c].mean()) / covariates_arr[c].std()\n",
    "    \n",
    "covariates_arr.reset_index(drop= True, inplace=True)"
   ]
  },
  {
   "cell_type": "code",
   "execution_count": 16,
   "id": "68f74ab5-e85d-4f03-88d9-df4f51038117",
   "metadata": {},
   "outputs": [],
   "source": [
    "# remove rows where all \n",
    "covariates_arr = covariates_arr[(covariates_arr[covariates_to_filter_on] != 0).any(axis=1)]"
   ]
  },
  {
   "cell_type": "code",
   "execution_count": 17,
   "id": "d4f83f84-b632-486c-88c0-bd5c7b43a1a3",
   "metadata": {},
   "outputs": [],
   "source": [
    "assert(len(covariates_arr[covariates_arr.isna().any(axis=1)]) == 0)"
   ]
  },
  {
   "cell_type": "code",
   "execution_count": 19,
   "id": "86f2bd00-fe00-42a9-a7b2-e712a5f70377",
   "metadata": {},
   "outputs": [],
   "source": [
    "covariates_arr.to_csv(save_path)"
   ]
  },
  {
   "cell_type": "code",
   "execution_count": null,
   "id": "c14f2be1-febb-4e08-b225-8e6b14c2db8a",
   "metadata": {},
   "outputs": [],
   "source": []
  }
 ],
 "metadata": {
  "kernelspec": {
   "display_name": "Environment (conda_networks_underreporting_env)",
   "language": "python",
   "name": "conda_networks_underreporting_env"
  },
  "language_info": {
   "codemirror_mode": {
    "name": "ipython",
    "version": 3
   },
   "file_extension": ".py",
   "mimetype": "text/x-python",
   "name": "python",
   "nbconvert_exporter": "python",
   "pygments_lexer": "ipython3",
   "version": "3.10.12"
  }
 },
 "nbformat": 4,
 "nbformat_minor": 5
}
