{
 "cells": [
  {
   "cell_type": "code",
   "execution_count": 1,
   "id": "9cfb8ae1-dcd7-4902-81f1-1dcb5b82085d",
   "metadata": {},
   "outputs": [],
   "source": [
    "import pandas as pd"
   ]
  },
  {
   "cell_type": "code",
   "execution_count": 2,
   "id": "8594d712-90d0-4d41-ae01-914118278b26",
   "metadata": {},
   "outputs": [],
   "source": [
    "covar_path = '/share/garg/311_data/sb2377/clean_codebase/tract_demographics.csv'\n",
    "base_data_path = '/share/garg/311_data/sb2377/clean_codebase/three_year_base.csv'\n",
    "reporting_data_path = '/share/garg/311_data/sb2377/clean_codebase/three_year_reports_full.h5'\n",
    "save_path = '/share/garg/311_data/sb2377/clean_codebase/three_year_full.h5'\n",
    "types = {'street': {'typeagency': 'StreetConditionDOT',\n",
    "                    'rating_path': '/share/garg/311_data/sb2377/clean_codebase/processed_streets_three_year.h5'},\n",
    "         'park': {'typeagency': 'MaintenanceorFacilityDPR',\n",
    "                  'rating_path': '/share/garg/311_data/sb2377/clean_codebase/processed_parks_three_year.h5'},\n",
    "         'rodent': {'typeagency': 'RodentDOHMH',\n",
    "                    'rating_path': '/share/garg/311_data/sb2377/clean_codebase/processed_rodents_three_year.h5'},\n",
    "         'restaurant': {'typeagency': 'FoodDOHMH',\n",
    "                        'rating_path': '/share/garg/311_data/sb2377/clean_codebase/processed_restaurant_three_year.h5'},\n",
    "         'dcwp': {'typeagency': 'ConsumerComplaintDCWP',\n",
    "                  'rating_path': '/share/garg/311_data/sb2377/clean_codebase/processed_dcwp_three_year.h5'}}"
   ]
  },
  {
   "cell_type": "code",
   "execution_count": 3,
   "id": "5aee0514-3a16-4af7-a220-53e0fe5dc902",
   "metadata": {},
   "outputs": [],
   "source": [
    "cols_to_save = ['GEOID', \n",
    "                'report_week', \n",
    "                'report_week_of_year',\n",
    "                'normalized_rating', \n",
    "                'finegrained_reported', \n",
    "                'real_rating_observed', \n",
    "                'typeagency',\n",
    "                'type_idxs',\n",
    "                'node_idxs',\n",
    "                'rating_week',\n",
    "                'rating_week_of_year',\n",
    "                'finegrained_id'\n",
    "               ]"
   ]
  },
  {
   "cell_type": "code",
   "execution_count": 4,
   "id": "585c0640-ab67-4778-8763-ca1cf65e4e54",
   "metadata": {},
   "outputs": [],
   "source": [
    "covariates_arr = pd.read_csv(covar_path)\n",
    "base_df = pd.read_csv(base_data_path)\n",
    "reporting_df = pd.read_hdf(reporting_data_path, 'df')\n",
    "dfs = {}\n",
    "for t in types:\n",
    "    dfs[t] = pd.read_hdf(types[t]['rating_path'], 'df')"
   ]
  },
  {
   "cell_type": "code",
   "execution_count": 5,
   "id": "f4e3f2f2-6eea-4ce8-a9ad-67bf62759c10",
   "metadata": {},
   "outputs": [],
   "source": [
    "# get type indices\n",
    "type_df = base_df[['typeagency', 'type_idxs']].drop_duplicates()\n",
    "indices = {}\n",
    "for t in types:\n",
    "    indices[t] = type_df[type_df['typeagency'] == types[t]['typeagency']]['type_idxs'].iloc[0]"
   ]
  },
  {
   "cell_type": "code",
   "execution_count": 6,
   "id": "ff209355-c5c7-4f12-a6d4-a3c464199d77",
   "metadata": {},
   "outputs": [],
   "source": [
    "# set null values in reporting data for rating specific columns\n",
    "reporting_df['normalized_rating'] = 0\n",
    "reporting_df['finegrained_reported'] = reporting_df['reported']\n",
    "reporting_df['real_rating_observed'] = 0"
   ]
  },
  {
   "cell_type": "code",
   "execution_count": 7,
   "id": "ed5bcc42-4760-4faf-9b7e-bf94a3e9e073",
   "metadata": {},
   "outputs": [],
   "source": [
    "# for each complaint type with observed ratings, combine data with and without ratings\n",
    "full_dfs = []\n",
    "\n",
    "for t in types:\n",
    "    type_df = dfs[t]\n",
    "    type_idx = indices[t]\n",
    "    \n",
    "    # get data with ratings\n",
    "    # only include data with valid geoids\n",
    "    valid_geoid = set(base_df['GEOID'].unique())\n",
    "    type_rating_df = type_df[type_df['GEOID'].isin(valid_geoid)]\n",
    "\n",
    "    # add node_idxs\n",
    "    type_rating_df = pd.merge(type_rating_df, base_df[['node_idxs', 'GEOID']].drop_duplicates(), on='GEOID')\n",
    "    type_rating_df = type_rating_df[cols_to_save]\n",
    "\n",
    "    # get data without ratings\n",
    "    type_no_rating_df = reporting_df[reporting_df['type_idxs'] == type_idx]\n",
    "    all_geoids = set(type_no_rating_df['GEOID'].unique())\n",
    "    rating_geoids = set(type_rating_df['GEOID'].unique())\n",
    "    no_rating_geoids = all_geoids.difference(rating_geoids)\n",
    "    type_no_rating_df = type_no_rating_df[type_no_rating_df['GEOID'].isin(no_rating_geoids)]\n",
    "    type_no_rating_df['rating_week'] = -1\n",
    "    type_no_rating_df['rating_week_of_year'] = -1\n",
    "    type_no_rating_df['finegrained_id'] = -1\n",
    "    type_no_rating_df = type_no_rating_df[cols_to_save]\n",
    "\n",
    "    # combine\n",
    "    full_type_df = pd.concat([type_rating_df, type_no_rating_df])\n",
    "    full_dfs.append(full_type_df)"
   ]
  },
  {
   "cell_type": "code",
   "execution_count": 8,
   "id": "27c1be26-7444-4033-b402-7c48c1f21a9a",
   "metadata": {},
   "outputs": [
    {
     "name": "stderr",
     "output_type": "stream",
     "text": [
      "/share/pierson/tmp_directory_location_please_read_readme/sb2377_tmp/ipykernel_776400/24203610.py:10: SettingWithCopyWarning: \n",
      "A value is trying to be set on a copy of a slice from a DataFrame.\n",
      "Try using .loc[row_indexer,col_indexer] = value instead\n",
      "\n",
      "See the caveats in the documentation: https://pandas.pydata.org/pandas-docs/stable/user_guide/indexing.html#returning-a-view-versus-a-copy\n",
      "  rating_unobserved_df['rating_week'] = -1\n",
      "/share/pierson/tmp_directory_location_please_read_readme/sb2377_tmp/ipykernel_776400/24203610.py:11: SettingWithCopyWarning: \n",
      "A value is trying to be set on a copy of a slice from a DataFrame.\n",
      "Try using .loc[row_indexer,col_indexer] = value instead\n",
      "\n",
      "See the caveats in the documentation: https://pandas.pydata.org/pandas-docs/stable/user_guide/indexing.html#returning-a-view-versus-a-copy\n",
      "  rating_unobserved_df['rating_week_of_year'] = -1\n",
      "/share/pierson/tmp_directory_location_please_read_readme/sb2377_tmp/ipykernel_776400/24203610.py:12: SettingWithCopyWarning: \n",
      "A value is trying to be set on a copy of a slice from a DataFrame.\n",
      "Try using .loc[row_indexer,col_indexer] = value instead\n",
      "\n",
      "See the caveats in the documentation: https://pandas.pydata.org/pandas-docs/stable/user_guide/indexing.html#returning-a-view-versus-a-copy\n",
      "  rating_unobserved_df['finegrained_id'] = -1\n"
     ]
    },
    {
     "ename": "",
     "evalue": "",
     "output_type": "error",
     "traceback": [
      "\u001b[1;31mThe Kernel crashed while executing code in the current cell or a previous cell. \n",
      "\u001b[1;31mPlease review the code in the cell(s) to identify a possible cause of the failure. \n",
      "\u001b[1;31mClick <a href='https://aka.ms/vscodeJupyterKernelCrash'>here</a> for more info. \n",
      "\u001b[1;31mView Jupyter <a href='command:jupyter.viewOutput'>log</a> for further details."
     ]
    },
    {
     "ename": "",
     "evalue": "",
     "output_type": "error",
     "traceback": [
      "\u001b[1;31mCanceled future for execute_request message before replies were done"
     ]
    },
    {
     "ename": "",
     "evalue": "",
     "output_type": "error",
     "traceback": [
      "\u001b[1;31mCanceled future for execute_request message before replies were done. \n",
      "\u001b[1;31mView Jupyter <a href='command:jupyter.viewOutput'>log</a> for further details."
     ]
    }
   ],
   "source": [
    "# get data for types with observed ratings\n",
    "rating_observed_df = pd.concat(full_dfs)\n",
    "rating_observed_df['type_rating_observed'] = 1\n",
    "\n",
    "# get data for types with unobserved ratings\n",
    "all_types = set(base_df['type_idxs'].unique())\n",
    "rating_observed_types = set(rating_observed_df['type_idxs'].unique())\n",
    "rating_unobserved_types = all_types.difference(rating_observed_types)\n",
    "rating_unobserved_df = reporting_df[reporting_df['type_idxs'].isin(rating_unobserved_types)]\n",
    "rating_unobserved_df['rating_week'] = -1\n",
    "rating_unobserved_df['rating_week_of_year'] = -1\n",
    "rating_unobserved_df['finegrained_id'] = -1\n",
    "rating_unobserved_df = rating_unobserved_df[cols_to_save]\n",
    "rating_unobserved_df['type_rating_observed'] = 0\n",
    "\n",
    "# combine\n",
    "full_df = pd.concat([rating_observed_df, rating_unobserved_df])\n",
    "\n",
    "# get covariates\n",
    "full_df = pd.merge(full_df, covariates_arr, on='GEOID')"
   ]
  },
  {
   "cell_type": "code",
   "execution_count": 1,
   "id": "98fb1b03-74cf-4bd0-a4e3-06b057353474",
   "metadata": {},
   "outputs": [
    {
     "ename": "NameError",
     "evalue": "name 'full_df' is not defined",
     "output_type": "error",
     "traceback": [
      "\u001b[0;31m---------------------------------------------------------------------------\u001b[0m",
      "\u001b[0;31mNameError\u001b[0m                                 Traceback (most recent call last)",
      "Cell \u001b[0;32mIn[1], line 1\u001b[0m\n\u001b[0;32m----> 1\u001b[0m \u001b[38;5;28;01massert\u001b[39;00m(\u001b[38;5;28mlen\u001b[39m(full_df[full_df\u001b[38;5;241m.\u001b[39misna()\u001b[38;5;241m.\u001b[39many(axis\u001b[38;5;241m=\u001b[39m\u001b[38;5;241m1\u001b[39m)]) \u001b[38;5;241m==\u001b[39m \u001b[38;5;241m0\u001b[39m)\n",
      "\u001b[0;31mNameError\u001b[0m: name 'full_df' is not defined"
     ]
    }
   ],
   "source": [
    "assert(len(full_df[full_df.isna().any(axis=1)]) == 0)"
   ]
  },
  {
   "cell_type": "code",
   "execution_count": 10,
   "id": "643c36c1-5b2c-406b-8edd-ddceef05d96b",
   "metadata": {},
   "outputs": [
    {
     "name": "stderr",
     "output_type": "stream",
     "text": [
      "/share/pierson/tmp_directory_location_please_read_readme/sb2377_tmp/ipykernel_4093353/4163754240.py:1: PerformanceWarning: \n",
      "your performance may suffer as PyTables will pickle object types that it cannot\n",
      "map directly to c-types [inferred_type->mixed-integer,key->block2_values] [items->Index(['typeagency', 'finegrained_id'], dtype='object')]\n",
      "\n",
      "  full_df.to_hdf(save_path, key='df', mode='w')\n"
     ]
    }
   ],
   "source": [
    "full_df.to_hdf(save_path, key='df', mode='w')"
   ]
  }
 ],
 "metadata": {
  "kernelspec": {
   "display_name": "Environment (conda_gnn)",
   "language": "python",
   "name": "conda_gnn"
  },
  "language_info": {
   "codemirror_mode": {
    "name": "ipython",
    "version": 3
   },
   "file_extension": ".py",
   "mimetype": "text/x-python",
   "name": "python",
   "nbconvert_exporter": "python",
   "pygments_lexer": "ipython3",
   "version": "3.11.11"
  }
 },
 "nbformat": 4,
 "nbformat_minor": 5
}
