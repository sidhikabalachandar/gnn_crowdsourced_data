{
 "cells": [
  {
   "cell_type": "code",
   "execution_count": 1,
   "id": "a681e61a-5fdc-4e3a-af86-d113fc61dfa4",
   "metadata": {},
   "outputs": [],
   "source": [
    "import pandas as pd\n",
    "import geopandas as gpd\n",
    "from shapely import wkt\n",
    "import matplotlib.pyplot as plt\n",
    "import statsmodels.api as sm\n",
    "import sys\n",
    "import os\n",
    "sys.path.append(os.path.abspath(\"..\"))\n",
    "from utils.utils import *"
   ]
  },
  {
   "cell_type": "code",
   "execution_count": 2,
   "id": "f4122177-ad1a-4ba2-b9bb-e93c76f4a9bc",
   "metadata": {},
   "outputs": [],
   "source": [
    "year = 2023\n",
    "rating_data_path = '/share/garg/311_data/sb2377_a_data/streets/Street_Pavement_Rating_20240309.csv'\n",
    "report_data_path = '/share/garg/311_data/sb2377/clean_codebase/data_{}.csv'.format(year)\n",
    "preprocessed_report_data_path = '/share/garg/311_data/sb2377/clean_codebase/processed_street_condition_{}.csv'.format(year)\n",
    "covars_path = '/share/garg/311_data/sb2377/clean_codebase/tract_demographics.csv'\n",
    "save_path = '/share/garg/311_data/sb2377/clean_codebase/processed_streets_{}.csv'.format(year)"
   ]
  },
  {
   "cell_type": "code",
   "execution_count": 3,
   "id": "d227bdbb-8be0-4407-be29-f8ecf4c1c5b0",
   "metadata": {},
   "outputs": [],
   "source": [
    "complaint_type = 'Street Condition'\n",
    "reported_label = 'reported'\n",
    "heuristic_distance_cutoff = 250\n",
    "inspection_indicator = 'has_inspection_{}'.format(heuristic_distance_cutoff)\n",
    "rename_map = {'Inspection': 'date', \n",
    "              'the_geom': 'finegrained_geometry',\n",
    "              'SegmentID': 'finegrained_id',\n",
    "              'ManualRati': 'score'\n",
    "             }"
   ]
  },
  {
   "cell_type": "code",
   "execution_count": 4,
   "id": "ad209caf-7ccf-47ad-b70b-0865fffea971",
   "metadata": {},
   "outputs": [
    {
     "name": "stderr",
     "output_type": "stream",
     "text": [
      "/share/pierson/tmp_directory_location_please_read_readme/sb2377_tmp/ipykernel_939778/340287219.py:2: DtypeWarning: Columns (3) have mixed types. Specify dtype option on import or set low_memory=False.\n",
      "  df = pd.read_csv(rating_data_path)\n"
     ]
    }
   ],
   "source": [
    "# covariates_arr = pd.read_csv(covars_path)\n",
    "df = pd.read_csv(rating_data_path)\n",
    "# if os.path.exists(preprocessed_report_data_path):\n",
    "#     reports_df = pd.read_csv(preprocessed_report_data_path)\n",
    "# else:\n",
    "#     df_311 = pd.read_csv(report_data_path)"
   ]
  },
  {
   "cell_type": "code",
   "execution_count": 5,
   "id": "4b96e7bf-2b0b-4fd7-aabc-22fd64547821",
   "metadata": {},
   "outputs": [
    {
     "data": {
      "text/plain": [
       "99170"
      ]
     },
     "execution_count": 5,
     "metadata": {},
     "output_type": "execute_result"
    }
   ],
   "source": [
    "df = df.rename(columns=rename_map)\n",
    "df['date'] = pd.to_datetime(df['date'], format='%m/%d/%Y %I:%M:%S %p')\n",
    "df['year'] = df['date'].dt.year\n",
    "len(df[df['year'].isin([2021, 2022, 2023])])"
   ]
  },
  {
   "cell_type": "code",
   "execution_count": 5,
   "id": "d2346e1a-87c8-498e-b365-c05cb22c4454",
   "metadata": {},
   "outputs": [
    {
     "name": "stdout",
     "output_type": "stream",
     "text": [
      "Using the default year of 2021\n",
      "Using FIPS code '36' for input 'NY'\n",
      "Using FIPS code '061' for input 'New York'\n",
      "Using FIPS code '005' for input 'Bronx'\n",
      "Using FIPS code '047' for input 'Kings'\n",
      "Using FIPS code '081' for input 'Queens'\n",
      "Using FIPS code '085' for input 'Richmond'\n"
     ]
    }
   ],
   "source": [
    "census_gdf, final_graph, census_gdf_raw = generate_graph_census()\n",
    "census_gdf = census_gdf.to_crs('EPSG:2263')"
   ]
  },
  {
   "cell_type": "code",
   "execution_count": 6,
   "id": "14369fc3-ae17-4d4d-bfcf-526103040f36",
   "metadata": {},
   "outputs": [
    {
     "name": "stderr",
     "output_type": "stream",
     "text": [
      "/share/pierson/conda_virtualenvs/networks_underreporting_env/lib/python3.10/site-packages/IPython/core/interactiveshell.py:3338: FutureWarning: The `op` parameter is deprecated and will be removed in a future release. Please use the `predicate` parameter instead.\n",
      "  if await self.run_code(code, result, async_=asy):\n"
     ]
    }
   ],
   "source": [
    "# process rating data\n",
    "# rename columns\n",
    "df = df.rename(columns=rename_map)\n",
    "df['finegrained_geometry'] = df['finegrained_geometry'].apply(wkt.loads)\n",
    "\n",
    "# process date\n",
    "df['date'] = pd.to_datetime(df['date'], format='%m/%d/%Y %I:%M:%S %p')\n",
    "df['year'] = df['date'].dt.year\n",
    "df['week'] = df['date'].dt.isocalendar().week\n",
    "df['month'] = df['date'].dt.month\n",
    "df.loc[(df['month'] == 1) & (df['week'] > 50), 'week'] = 0  # start first week at 0 (instead of previous year's indexing)\n",
    "one_year_df = df[df['year'] == year]\n",
    "\n",
    "# take minimum rating of each street for each date\n",
    "geom_id_map = one_year_df[['finegrained_id', 'finegrained_geometry']].drop_duplicates()\n",
    "one_year_df = one_year_df.groupby(['finegrained_id', 'date', 'week'])['score'].min().reset_index()\n",
    "one_year_df = pd.merge(one_year_df, geom_id_map, on='finegrained_id')\n",
    "\n",
    "# get census tract information\n",
    "one_year_gdf = gpd.GeoDataFrame(one_year_df, geometry='finegrained_geometry', crs='EPSG:4326')\n",
    "one_year_gdf = gpd.sjoin(one_year_gdf.to_crs('EPSG:2263').reset_index(drop=True), census_gdf.to_crs('EPSG:2263'), how='inner', op='intersects')\n",
    "# Only keep one entry for each (id, date). Remove entries that map to multiple census tracts (e.g. street lies in multiple census tracts)\n",
    "one_year_gdf = one_year_gdf.groupby(['finegrained_id', 'date', 'week']).first().reset_index()\n",
    "one_year_gdf['GEOID'] = one_year_gdf['GEOID'].astype(int)\n",
    "rating_df = one_year_gdf"
   ]
  },
  {
   "cell_type": "code",
   "execution_count": 7,
   "id": "017164c4-278b-45d6-9e48-98db3ef817cf",
   "metadata": {},
   "outputs": [],
   "source": [
    "# process reporting data\n",
    "if  not os.path.exists(preprocessed_report_data_path):\n",
    "    # get data for type\n",
    "    type_df = df_311[df_311['Complaint Type'] == complaint_type]\n",
    "    type_df['Created Date'] = pd.to_datetime(type_df['Created Date'])\n",
    "    type_df['week'] = type_df['Created Date'].dt.isocalendar().week\n",
    "    type_df['month'] = type_df['Created Date'].dt.month\n",
    "    type_df.loc[(type_df['month'] == 1) & (type_df['week'] > 50), 'week'] = 0 # start first week at 0 (instead of previous year's indexing)\n",
    "\n",
    "    # process location\n",
    "    type_df = type_df[~(type_df.Latitude.isna()|type_df.Longitude.isna())]\n",
    "    type_gdf = gpd.GeoDataFrame(type_df,\n",
    "                                geometry=gpd.points_from_xy(type_df.Longitude, type_df.Latitude),\n",
    "                                crs='EPSG:4326')\n",
    "\n",
    "    # get census tract information\n",
    "    type_gdf = gpd.sjoin(type_gdf.to_crs('EPSG:2263').reset_index(drop=True), census_gdf.to_crs('EPSG:2263'), how='inner', op='intersects')\n",
    "    type_gdf['GEOID'] = type_gdf['GEOID'].astype(int)\n",
    "    type_gdf = type_gdf.to_crs('EPSG:2263')\n",
    "\n",
    "    reports_df = type_gdf"
   ]
  },
  {
   "cell_type": "code",
   "execution_count": 8,
   "id": "a86f4ad2-8b02-4844-a1a8-d127187c60dd",
   "metadata": {},
   "outputs": [],
   "source": [
    "# match each complaint with its associated street\n",
    "# loop through tract by tract and complete the matching within each tract to lower complexity\n",
    "if not os.path.exists(preprocessed_report_data_path):\n",
    "    all_distances = []\n",
    "    for tract_geoid in reports_df['GEOID'].unique():\n",
    "        # get all ratings and reports from this tract\n",
    "        tract_rating_df = rating_df[rating_df['GEOID'] == tract_geoid].copy()\n",
    "        tract_reports_df = reports_df[reports_df['GEOID'] == tract_geoid].copy()\n",
    "\n",
    "        finegrained_ids = tract_rating_df[['finegrained_id', 'geometry']].copy()\n",
    "        report_locations = tract_reports_df[['Unique Key', 'geometry']].copy()\n",
    "\n",
    "        if len(finegrained_ids) > 0:\n",
    "            # Cross join street_ids and report_locations to create a DataFrame with all possible pairs of finegrained geometries and report points\n",
    "            finegrained_ids['key'] = 1\n",
    "            report_locations['key'] = 1\n",
    "            cross_joined_df = pd.merge(finegrained_ids, report_locations, on='key').drop(labels='key', axis=1)\n",
    "\n",
    "            # Calculate the distance for each pair\n",
    "            cross_joined_df['distance'] = cross_joined_df.apply(lambda row: row['finegrained_geometry'].distance(row['geometry']), axis=1)\n",
    "\n",
    "            # Finding the minimum distance for each point\n",
    "            min_distances = cross_joined_df.loc[cross_joined_df.groupby('Unique Key')['distance'].idxmin()]\n",
    "            all_distances.append(min_distances)\n",
    "        else:\n",
    "            # if there are no streets in this tract, search across all streets (across all census tracts)\n",
    "            finegrained_ids = rating_df[['finegrained_id', 'finegrained_geometry']].copy()\n",
    "\n",
    "            # Cross join street_ids and report_locations to create a DataFrame with all possible pairs of finegrained geometries and report points\n",
    "            finegrained_ids['key'] = 1\n",
    "            report_locations['key'] = 1\n",
    "            cross_joined_df = pd.merge(finegrained_ids, report_locations, on='key').drop(labels='key', axis=1)\n",
    "\n",
    "            # Calculate the distance for each pair\n",
    "            cross_joined_df['distance'] = cross_joined_df.apply(lambda row: row['finegrained_geometry'].distance(row['geometry']), axis=1)\n",
    "\n",
    "            # Finding the minimum distance for each point\n",
    "            min_distances = cross_joined_df.loc[cross_joined_df.groupby('Unique Key')['distance'].idxmin()]\n",
    "            all_distances.append(min_distances)\n",
    "\n",
    "    # combine data across all census tracts\n",
    "    all_min_distances = pd.concat(all_distances)\n",
    "\n",
    "    # merge reports data with nearest inspection\n",
    "    reports_df = pd.merge(reports_df, all_min_distances[['finegrained_id', 'finegrained_geometry', 'Unique Key', 'distance']], on='Unique Key')"
   ]
  },
  {
   "cell_type": "code",
   "execution_count": 9,
   "id": "24797045-42d4-490c-b3e3-eed45eabc74d",
   "metadata": {},
   "outputs": [
    {
     "data": {
      "text/plain": [
       "Text(0, 0.5, 'Percentage of dataset with\\nclosest finegrained entity < cutoff')"
      ]
     },
     "execution_count": 9,
     "metadata": {},
     "output_type": "execute_result"
    },
    {
     "data": {
      "image/png": "[encoded data removed]",
      "text/plain": [
       "<Figure size 640x480 with 1 Axes>"
      ]
     },
     "metadata": {},
     "output_type": "display_data"
    }
   ],
   "source": [
    "# heuristic: we only keep reports that are within CUTOFF distance to a rating inspection\n",
    "cutoffs = [10, 50, 100, 200, 250, 300, 400, 500, 1000, 1500, 2000, 2500, 3000]\n",
    "pcts = []\n",
    "for c in cutoffs:\n",
    "    label = 'has_inspection_{}'.format(c)\n",
    "    reports_df[label] = 0\n",
    "    reports_df.loc[reports_df['distance'] < c, label] = 1\n",
    "    pcts.append(reports_df[label].mean())\n",
    "    \n",
    "# apply distance heuristic\n",
    "inspected_reports_df = reports_df[reports_df[inspection_indicator] == 1]\n",
    "\n",
    "# visualize percentage of reports kept across different cutoffs \n",
    "plt.plot(cutoffs, pcts)\n",
    "plt.xlabel('Cutoff')\n",
    "plt.ylabel('Percentage of dataset with\\nclosest finegrained entity < cutoff')"
   ]
  },
  {
   "cell_type": "code",
   "execution_count": 10,
   "id": "e8a4e926-fa19-4db4-9416-dcf9b257ac80",
   "metadata": {},
   "outputs": [
    {
     "name": "stderr",
     "output_type": "stream",
     "text": [
      "/share/pierson/tmp_directory_location_please_read_readme/sb2377_tmp/ipykernel_2624004/1725132829.py:15: SettingWithCopyWarning: \n",
      "A value is trying to be set on a copy of a slice from a DataFrame.\n",
      "Try using .loc[row_indexer,col_indexer] = value instead\n",
      "\n",
      "See the caveats in the documentation: https://pandas.pydata.org/pandas-docs/stable/user_guide/indexing.html#returning-a-view-versus-a-copy\n",
      "  inspected_reports_df['report_week'] = inspected_reports_df['week']\n"
     ]
    }
   ],
   "source": [
    "# create num finegrained entities x num weeks full T and r dataset\n",
    "finegrained_entities = rating_df['finegrained_id'].unique()\n",
    "\n",
    "dfs = []\n",
    "for i in sorted(reports_df['week'].unique()):\n",
    "    data = pd.DataFrame()\n",
    "    data['finegrained_id'] = finegrained_entities\n",
    "    data['report_week'] = i\n",
    "    dfs.append(data)\n",
    "    \n",
    "all_data = pd.concat(dfs)\n",
    "\n",
    "# add in T labels\n",
    "# set T = 1 for instances where there is a complaint\n",
    "inspected_reports_df['report_week'] = inspected_reports_df['week']\n",
    "inspected_reports_df = inspected_reports_df[['finegrained_id', 'report_week']].drop_duplicates()\n",
    "inspected_reports_df['reported'] = 1\n",
    "all_data = pd.merge(all_data, inspected_reports_df, on=['finegrained_id', 'report_week'], how='left')\n",
    "all_data['reported'] = all_data['reported'].fillna(0)\n",
    "\n",
    "# add in rating data\n",
    "rating_df['rating_week'] = rating_df['week']\n",
    "rating_df['report_week'] = rating_df['week']\n",
    "rating_subset_df = rating_df[['finegrained_id', 'score', 'rating_week', 'report_week']].drop_duplicates()\n",
    "all_data = pd.merge(all_data, rating_subset_df, on=['finegrained_id', 'report_week'], how='left')\n",
    "\n",
    "# assume constant rating until next inspection \n",
    "all_data.sort_values(by=['finegrained_id', 'report_week'], inplace=True)\n",
    "all_data['score'] = all_data.groupby('finegrained_id')['score'].ffill()\n",
    "all_data['rating_week'] = all_data.groupby('finegrained_id')['rating_week'].ffill()\n",
    "all_data = all_data[::-1]\n",
    "all_data['score'] = all_data.groupby('finegrained_id')['score'].ffill()\n",
    "all_data['rating_week'] = all_data.groupby('finegrained_id')['rating_week'].ffill()\n",
    "all_data = all_data[::-1]\n",
    "\n",
    "# add in demographic data\n",
    "all_data = pd.merge(all_data, rating_df[['finegrained_id', 'GEOID']].drop_duplicates(), on=['finegrained_id'], how='left')\n",
    "all_data['GEOID'] = all_data['GEOID'].astype(int)\n",
    "all_data = pd.merge(all_data, covariates_arr, on=['GEOID'], how='left')\n",
    "\n",
    "# add in meta data\n",
    "all_data['rating_week_of_year'] = all_data['rating_week']\n",
    "all_data['report_week_of_year'] = all_data['report_week']\n",
    "\n",
    "# get z-scored ratings\n",
    "all_data['normalized_score'] = (all_data['score'] - all_data['score'].mean()) / all_data['score'].std()"
   ]
  },
  {
   "cell_type": "code",
   "execution_count": 11,
   "id": "84572c4a-db8b-48a3-9f42-3cb8a208cfaf",
   "metadata": {},
   "outputs": [],
   "source": [
    "assert(len(finegrained_entities) * len(inspected_reports_df['report_week'].unique()) == len(all_data))"
   ]
  },
  {
   "cell_type": "code",
   "execution_count": 12,
   "id": "d110feef-58e3-4af9-a2a7-e84df08e9cd6",
   "metadata": {},
   "outputs": [
    {
     "data": {
      "text/plain": [
       "4136915"
      ]
     },
     "execution_count": 12,
     "metadata": {},
     "output_type": "execute_result"
    }
   ],
   "source": [
    "len(all_data)"
   ]
  },
  {
   "cell_type": "code",
   "execution_count": 13,
   "id": "0335c165-9d92-4eb8-8dae-6f9bd1ff7364",
   "metadata": {},
   "outputs": [],
   "source": [
    "assert(len(all_data[all_data.isna().any(axis=1)]) == 0)"
   ]
  },
  {
   "cell_type": "code",
   "execution_count": 14,
   "id": "4a79fafa-c2c5-4355-a50e-fceee668cb59",
   "metadata": {},
   "outputs": [],
   "source": [
    "all_data.to_csv(save_path)"
   ]
  },
  {
   "cell_type": "code",
   "execution_count": 14,
   "id": "85e6fe94-5f27-40cf-8f7f-30135c34abee",
   "metadata": {},
   "outputs": [
    {
     "name": "stdout",
     "output_type": "stream",
     "text": [
      "Mean rating of tracts with a report = 7.018716315531602, without a report = 7.163220605492922\n",
      "95% CIs rating of tracts with a report = [7.0187111721587385, 7.018721458904466], without a report = [7.163215968963341, 7.163225242022504]\n"
     ]
    }
   ],
   "source": [
    "# evaluate mean rating with and without a report\n",
    "mean_1 = all_data[(all_data[reported_label] == 1)]['score'].mean()\n",
    "error_1 = all_data[(all_data[reported_label] == 1)]['score'].std() / len(all_data)\n",
    "mean_0 = all_data[(all_data[reported_label] == 0)]['score'].mean()\n",
    "error_0 = all_data[(all_data[reported_label] == 0)]['score'].std() / len(all_data)\n",
    "print('Mean rating of tracts with a report = {}, without a report = {}'.format(mean_1, mean_0))\n",
    "print('95% CIs rating of tracts with a report = [{}, {}], without a report = [{}, {}]'.format(mean_1 - 1.96 * error_1, mean_1 + 1.96 * error_1, mean_0 - 1.96 * error_0, mean_0 + 1.96 * error_0))"
   ]
  },
  {
   "cell_type": "code",
   "execution_count": 15,
   "id": "73006a4b-c2b4-4e57-90b3-772570e5406b",
   "metadata": {},
   "outputs": [
    {
     "name": "stdout",
     "output_type": "stream",
     "text": [
      "Optimization terminated successfully.\n",
      "         Current function value: 0.090349\n",
      "         Iterations 8\n"
     ]
    },
    {
     "data": {
      "image/png": "[encoded data removed]",
      "text/plain": [
       "<Figure size 1200x600 with 1 Axes>"
      ]
     },
     "metadata": {},
     "output_type": "display_data"
    }
   ],
   "source": [
    "# run a regression of T ~ demographics + rating\n",
    "covariates = ['log pop density',\n",
    "              'log med income',\n",
    "              'bachelors pct',\n",
    "              'white pct',\n",
    "              'med age',\n",
    "              'renter pct'\n",
    "             ]\n",
    "\n",
    "normalized_covariates = ['normalized_log_population_density',\n",
    "                         'normalized_log_income_median',\n",
    "                         'normalized_education_bachelors_pct',\n",
    "                         'normalized_race_white_nh_pct',\n",
    "                         'normalized_age_median',\n",
    "                         'normalized_households_renteroccupied_pct',\n",
    "                         'normalized_score'\n",
    "                        ]\n",
    "\n",
    "plt.figure(figsize=(12, 6))\n",
    "\n",
    "y_label = reported_label\n",
    "formula = y_label + ' ~ '\n",
    "for c in normalized_covariates:\n",
    "    formula += c + ' + '\n",
    "formula = formula[:-3]\n",
    "\n",
    "fit = sm.Logit.from_formula(formula, data = all_data).fit()\n",
    "fit.summary()\n",
    "coefficients = fit.params.to_numpy()[-7:]\n",
    "conf_intervals = fit.conf_int().to_numpy()[-7:, :]\n",
    "plt.errorbar(x=covariates + ['rating'], y=coefficients, \n",
    "             yerr=[coefficients - conf_intervals[:,0], conf_intervals[:,1] - coefficients], capsize=5, fmt='o', label='T ~ demographics + rating')\n",
    "\n",
    "plt.axhline(0, color='black', linestyle='--')  # Horizontal dashed line at y=0\n",
    "plt.legend()\n",
    "plt.show()"
   ]
  },
  {
   "cell_type": "code",
   "execution_count": null,
   "id": "a96ccbf9-5755-4816-95b1-462e273fe8de",
   "metadata": {},
   "outputs": [],
   "source": []
  }
 ],
 "metadata": {
  "kernelspec": {
   "display_name": "Environment (conda_networks_underreporting_env)",
   "language": "python",
   "name": "conda_networks_underreporting_env"
  },
  "language_info": {
   "codemirror_mode": {
    "name": "ipython",
    "version": 3
   },
   "file_extension": ".py",
   "mimetype": "text/x-python",
   "name": "python",
   "nbconvert_exporter": "python",
   "pygments_lexer": "ipython3",
   "version": "3.10.12"
  }
 },
 "nbformat": 4,
 "nbformat_minor": 5
}
