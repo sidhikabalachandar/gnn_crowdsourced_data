{
 "cells": [
  {
   "cell_type": "code",
   "execution_count": 1,
   "id": "ffa8d210-79aa-4785-b23d-a6cf7c53ec3a",
   "metadata": {},
   "outputs": [],
   "source": [
    "import pandas as pd\n",
    "import geopandas as gpd\n",
    "import matplotlib.pyplot as plt\n",
    "import statsmodels.api as sm\n",
    "import sys\n",
    "import os\n",
    "sys.path.append(os.path.abspath(\"..\"))\n",
    "from utils.utils import *"
   ]
  },
  {
   "cell_type": "code",
   "execution_count": 2,
   "id": "acf55db5-80a5-4e98-b633-ae7c1f541adf",
   "metadata": {},
   "outputs": [],
   "source": [
    "year = 2023\n",
    "rating_data_path = '/share/garg/311_data/sb2377_a_data/restaurants/DOHMH_New_York_City_Restaurant_Inspection_Results_20240709.csv'\n",
    "report_data_path = '/share/garg/311_data/sb2377/clean_codebase/data_{}.csv'.format(year)\n",
    "covars_path = '/share/garg/311_data/sb2377/clean_codebase/tract_demographics.csv'\n",
    "save_path = '/share/garg/311_data/sb2377/clean_codebase/processed_restaurant_{}.csv'.format(year)"
   ]
  },
  {
   "cell_type": "code",
   "execution_count": 3,
   "id": "8b94fd22-0965-452e-8ed8-e7c297993478",
   "metadata": {},
   "outputs": [],
   "source": [
    "reported_label = 'reported'\n",
    "rename_map = {'INSPECTION DATE': 'date'}"
   ]
  },
  {
   "cell_type": "code",
   "execution_count": 4,
   "id": "efce5d2a-3c7e-4608-894f-73eb844cbfdd",
   "metadata": {},
   "outputs": [],
   "source": [
    "# covariates_arr = pd.read_csv(covars_path)\n",
    "df = pd.read_csv(rating_data_path)\n",
    "# df_311 = pd.read_csv(report_data_path)"
   ]
  },
  {
   "cell_type": "code",
   "execution_count": 5,
   "id": "6320ad05-980f-49fa-855d-9120fb078ae7",
   "metadata": {},
   "outputs": [
    {
     "data": {
      "text/plain": [
       "178487"
      ]
     },
     "execution_count": 5,
     "metadata": {},
     "output_type": "execute_result"
    }
   ],
   "source": [
    "df = df.rename(columns=rename_map)\n",
    "df['date'] = pd.to_datetime(df['date'], format='%m/%d/%Y')\n",
    "df['year'] = df['date'].dt.year\n",
    "len(df[df['year'].isin([2021, 2022, 2023])])"
   ]
  },
  {
   "cell_type": "code",
   "execution_count": 5,
   "id": "f6f7bdb9-1232-4db5-8d2e-ddbc3ed8850f",
   "metadata": {},
   "outputs": [
    {
     "name": "stdout",
     "output_type": "stream",
     "text": [
      "Using the default year of 2021\n",
      "Using FIPS code '36' for input 'NY'\n",
      "Using FIPS code '061' for input 'New York'\n",
      "Using FIPS code '005' for input 'Bronx'\n",
      "Using FIPS code '047' for input 'Kings'\n",
      "Using FIPS code '081' for input 'Queens'\n",
      "Using FIPS code '085' for input 'Richmond'\n"
     ]
    }
   ],
   "source": [
    "census_gdf, final_graph, census_gdf_raw = generate_graph_census()\n",
    "census_gdf = census_gdf.to_crs('EPSG:2263')"
   ]
  },
  {
   "cell_type": "code",
   "execution_count": 6,
   "id": "5553ea67-21c7-4da5-94ac-e7cf8d5093b2",
   "metadata": {},
   "outputs": [
    {
     "name": "stderr",
     "output_type": "stream",
     "text": [
      "/share/pierson/conda_virtualenvs/networks_underreporting_env/lib/python3.10/site-packages/IPython/core/interactiveshell.py:3338: FutureWarning: The `op` parameter is deprecated and will be removed in a future release. Please use the `predicate` parameter instead.\n",
      "  if await self.run_code(code, result, async_=asy):\n"
     ]
    }
   ],
   "source": [
    "# process rating data\n",
    "# rename columns\n",
    "df = df.rename(columns=rename_map)\n",
    "\n",
    "# process date\n",
    "df['date'] = pd.to_datetime(df['date'], format='%m/%d/%Y')\n",
    "df['year'] = df['date'].dt.year\n",
    "df['week'] = df['date'].dt.isocalendar().week\n",
    "df['month'] = df['date'].dt.month\n",
    "df.loc[(df['month'] == 1) & (df['week'] > 50), 'week'] = 0 # start first week at 0 (instead of previous year's indexing)\n",
    "one_year_df = df[df['year'] == year]\n",
    "\n",
    "# remove all rows without a BBL\n",
    "one_year_df = one_year_df.dropna(subset=['BBL'])\n",
    "\n",
    "# get census tract information\n",
    "one_year_df = one_year_df.dropna(subset=['Latitude', 'Longitude'])\n",
    "one_year_df = one_year_df[(one_year_df['Latitude'] != 0) & (one_year_df['Longitude'] != 0)]\n",
    "one_year_gdf = gpd.GeoDataFrame(one_year_df,\n",
    "                                geometry=gpd.points_from_xy(one_year_df.Longitude, one_year_df.Latitude),\n",
    "                                crs='EPSG:4326')\n",
    "one_year_gdf = gpd.sjoin(one_year_gdf.to_crs('EPSG:2263').reset_index(drop=True), census_gdf.to_crs('EPSG:2263'), how='inner', op='intersects')\n",
    "# remove all rows where lat/lon location for different BBLs map to multiple different GEOIDs (because unclear what to GEOID to choose later on when we discretize by BBL)\n",
    "bbl_map = one_year_gdf[['BBL', 'GEOID']].drop_duplicates()\n",
    "duplicated_bbl = bbl_map[bbl_map.duplicated(subset=['BBL'], keep=False)]['BBL'].unique()\n",
    "one_year_gdf = one_year_gdf[~one_year_gdf['BBL'].isin(duplicated_bbl)]\n",
    "\n",
    "# convert condition to numeric score\n",
    "one_year_gdf = one_year_gdf.dropna(subset=['GRADE'])\n",
    "one_year_gdf = one_year_gdf[one_year_gdf['GRADE'].isin(['A', 'B', 'C'])]\n",
    "score_map = {'A':2, 'B':1, 'C':0}\n",
    "one_year_gdf['score'] = one_year_gdf['GRADE'].map(score_map)\n",
    "one_year_gdf = one_year_gdf[['GEOID', 'BBL', 'week', 'score']]\n",
    "one_year_gdf = one_year_gdf.groupby(['GEOID', 'BBL', 'week']).mean().reset_index()\n",
    "\n",
    "rating_df = one_year_gdf"
   ]
  },
  {
   "cell_type": "code",
   "execution_count": 7,
   "id": "aac23943-d95b-4cae-a9df-2097ac57700f",
   "metadata": {},
   "outputs": [
    {
     "name": "stderr",
     "output_type": "stream",
     "text": [
      "/share/pierson/tmp_directory_location_please_read_readme/sb2377_tmp/ipykernel_2615613/3379031599.py:5: UserWarning: Could not infer format, so each element will be parsed individually, falling back to `dateutil`. To ensure parsing is consistent and as-expected, please specify a format.\n",
      "  type_df['Created Date'] = pd.to_datetime(type_df['Created Date'])\n",
      "/share/pierson/tmp_directory_location_please_read_readme/sb2377_tmp/ipykernel_2615613/3379031599.py:5: SettingWithCopyWarning: \n",
      "A value is trying to be set on a copy of a slice from a DataFrame.\n",
      "Try using .loc[row_indexer,col_indexer] = value instead\n",
      "\n",
      "See the caveats in the documentation: https://pandas.pydata.org/pandas-docs/stable/user_guide/indexing.html#returning-a-view-versus-a-copy\n",
      "  type_df['Created Date'] = pd.to_datetime(type_df['Created Date'])\n",
      "/share/pierson/tmp_directory_location_please_read_readme/sb2377_tmp/ipykernel_2615613/3379031599.py:6: SettingWithCopyWarning: \n",
      "A value is trying to be set on a copy of a slice from a DataFrame.\n",
      "Try using .loc[row_indexer,col_indexer] = value instead\n",
      "\n",
      "See the caveats in the documentation: https://pandas.pydata.org/pandas-docs/stable/user_guide/indexing.html#returning-a-view-versus-a-copy\n",
      "  type_df['week'] = type_df['Created Date'].dt.isocalendar().week\n",
      "/share/pierson/tmp_directory_location_please_read_readme/sb2377_tmp/ipykernel_2615613/3379031599.py:7: SettingWithCopyWarning: \n",
      "A value is trying to be set on a copy of a slice from a DataFrame.\n",
      "Try using .loc[row_indexer,col_indexer] = value instead\n",
      "\n",
      "See the caveats in the documentation: https://pandas.pydata.org/pandas-docs/stable/user_guide/indexing.html#returning-a-view-versus-a-copy\n",
      "  type_df['month'] = type_df['Created Date'].dt.month\n",
      "/share/pierson/conda_virtualenvs/networks_underreporting_env/lib/python3.10/site-packages/IPython/core/interactiveshell.py:3338: FutureWarning: The `op` parameter is deprecated and will be removed in a future release. Please use the `predicate` parameter instead.\n",
      "  if await self.run_code(code, result, async_=asy):\n"
     ]
    }
   ],
   "source": [
    "# process reporting data\n",
    "# get data for type\n",
    "type_df = df_311[df_311['Agency'] == 'DOHMH']\n",
    "type_df = df_311[(df_311['Complaint Type'] == 'Food Establishment') | (df_311['Complaint Type'] == 'Mobile Food Vendor') | (df_311['Complaint Type'] == 'Food Poisoning')]\n",
    "type_df['Created Date'] = pd.to_datetime(type_df['Created Date'])\n",
    "type_df['week'] = type_df['Created Date'].dt.isocalendar().week\n",
    "type_df['month'] = type_df['Created Date'].dt.month\n",
    "type_df.loc[(type_df['month'] == 1) & (type_df['week'] > 50), 'week'] = 0 # start first week at 0 (instead of previous year's indexing)\n",
    "\n",
    "# remove all rows without a BBL\n",
    "type_df = type_df.dropna(subset=['BBL'])\n",
    "type_df = type_df[type_df['BBL'] != 0]\n",
    "type_df['BBL'] = type_df['BBL'].astype(int)\n",
    "\n",
    "# process location\n",
    "type_df = type_df[~(type_df.Latitude.isna()|type_df.Longitude.isna())]\n",
    "type_gdf = gpd.GeoDataFrame(type_df,\n",
    "                            geometry=gpd.points_from_xy(type_df.Longitude, type_df.Latitude),\n",
    "                            crs='EPSG:4326')\n",
    "\n",
    "# get census tract information\n",
    "type_gdf = gpd.sjoin(type_gdf.to_crs('EPSG:2263').reset_index(drop=True), census_gdf.to_crs('EPSG:2263'), how='inner', op='intersects')\n",
    "type_gdf['GEOID'] = type_gdf['GEOID'].astype(int)\n",
    "type_gdf = type_gdf.to_crs('EPSG:2263')\n",
    "\n",
    "reports_df = type_gdf\n",
    "\n",
    "# only get reports in a BBL with an inspection\n",
    "rating_bbl = set(rating_df['BBL'].unique())\n",
    "inspected_reports_df = reports_df[reports_df['BBL'].isin(rating_bbl)]"
   ]
  },
  {
   "cell_type": "code",
   "execution_count": 8,
   "id": "63261cb9-d352-4e0d-8456-97e0e8d62ff7",
   "metadata": {},
   "outputs": [
    {
     "name": "stderr",
     "output_type": "stream",
     "text": [
      "/share/pierson/conda_virtualenvs/networks_underreporting_env/lib/python3.10/site-packages/geopandas/geodataframe.py:1538: SettingWithCopyWarning: \n",
      "A value is trying to be set on a copy of a slice from a DataFrame.\n",
      "Try using .loc[row_indexer,col_indexer] = value instead\n",
      "\n",
      "See the caveats in the documentation: https://pandas.pydata.org/pandas-docs/stable/user_guide/indexing.html#returning-a-view-versus-a-copy\n",
      "  super().__setitem__(key, value)\n",
      "/share/pierson/conda_virtualenvs/networks_underreporting_env/lib/python3.10/site-packages/geopandas/geodataframe.py:1538: SettingWithCopyWarning: \n",
      "A value is trying to be set on a copy of a slice from a DataFrame.\n",
      "Try using .loc[row_indexer,col_indexer] = value instead\n",
      "\n",
      "See the caveats in the documentation: https://pandas.pydata.org/pandas-docs/stable/user_guide/indexing.html#returning-a-view-versus-a-copy\n",
      "  super().__setitem__(key, value)\n"
     ]
    }
   ],
   "source": [
    "# create num finegrained entities x num weeks full T and r dataset\n",
    "inspected_reports_df['finegrained_id'] = inspected_reports_df['BBL']\n",
    "rating_df['finegrained_id'] = rating_df['BBL']\n",
    "finegrained_entities = rating_df['finegrained_id'].unique()\n",
    "\n",
    "dfs = []\n",
    "for i in sorted(inspected_reports_df['week'].unique()):\n",
    "    data = pd.DataFrame()\n",
    "    data['finegrained_id'] = finegrained_entities\n",
    "    data['report_week'] = i\n",
    "    dfs.append(data)\n",
    "    \n",
    "all_data = pd.concat(dfs)\n",
    "\n",
    "# add in T labels\n",
    "# set T = 1 for instances where there is a complaint\n",
    "inspected_reports_df['report_week'] = inspected_reports_df['week']\n",
    "inspected_reports_df = inspected_reports_df[['finegrained_id', 'report_week']].drop_duplicates()\n",
    "inspected_reports_df['reported'] = 1\n",
    "all_data = pd.merge(all_data, inspected_reports_df, on=['finegrained_id', 'report_week'], how='left')\n",
    "all_data['reported'] = all_data['reported'].fillna(0)\n",
    "\n",
    "# add in rating data\n",
    "rating_df['rating_week'] = rating_df['week']\n",
    "rating_df['report_week'] = rating_df['week']\n",
    "rating_subset_df = rating_df[['finegrained_id', 'score', 'rating_week', 'report_week']].drop_duplicates()\n",
    "all_data = pd.merge(all_data, rating_subset_df, on=['finegrained_id', 'report_week'], how='left')\n",
    "\n",
    "# assume constant rating until next inspection \n",
    "all_data.sort_values(by=['finegrained_id', 'report_week'], inplace=True)\n",
    "all_data['score'] = all_data.groupby('finegrained_id')['score'].ffill()\n",
    "all_data['rating_week'] = all_data.groupby('finegrained_id')['rating_week'].ffill()\n",
    "all_data = all_data[::-1]\n",
    "all_data['score'] = all_data.groupby('finegrained_id')['score'].ffill()\n",
    "all_data['rating_week'] = all_data.groupby('finegrained_id')['rating_week'].ffill()\n",
    "all_data = all_data[::-1]\n",
    "\n",
    "# add in demographic data\n",
    "all_data = pd.merge(all_data, rating_df[['finegrained_id', 'GEOID']].drop_duplicates(), on=['finegrained_id'], how='left')\n",
    "all_data['GEOID'] = all_data['GEOID'].astype(int)\n",
    "all_data = pd.merge(all_data, covariates_arr, on=['GEOID'], how='left')\n",
    "\n",
    "# add in meta data\n",
    "all_data['rating_week_of_year'] = all_data['rating_week']\n",
    "all_data['report_week_of_year'] = all_data['report_week']\n",
    "\n",
    "# get z-scored ratings\n",
    "all_data['normalized_score'] = (all_data['score'] - all_data['score'].mean()) / all_data['score'].std()"
   ]
  },
  {
   "cell_type": "code",
   "execution_count": 9,
   "id": "17c0094b-5036-4dae-bc65-081d05135024",
   "metadata": {},
   "outputs": [],
   "source": [
    "assert(len(finegrained_entities) * len(inspected_reports_df['report_week'].unique()) == len(all_data))"
   ]
  },
  {
   "cell_type": "code",
   "execution_count": 10,
   "id": "84519544-3409-491f-8439-bb210129d4a6",
   "metadata": {},
   "outputs": [
    {
     "data": {
      "text/plain": [
       "605313"
      ]
     },
     "execution_count": 10,
     "metadata": {},
     "output_type": "execute_result"
    }
   ],
   "source": [
    "len(all_data)"
   ]
  },
  {
   "cell_type": "code",
   "execution_count": 11,
   "id": "965965d7-a730-4f98-9e79-a0f387c25c96",
   "metadata": {},
   "outputs": [],
   "source": [
    "assert(len(all_data[all_data.isna().any(axis=1)]) == 0)"
   ]
  },
  {
   "cell_type": "code",
   "execution_count": 12,
   "id": "abb1a41f-5a8d-4a92-8cb1-6eb8f4b2e783",
   "metadata": {},
   "outputs": [],
   "source": [
    "all_data.to_csv(save_path)"
   ]
  },
  {
   "cell_type": "code",
   "execution_count": 11,
   "id": "2bec2155-84df-4773-a4b1-6c3eeb197d95",
   "metadata": {},
   "outputs": [
    {
     "name": "stdout",
     "output_type": "stream",
     "text": [
      "Mean rating of tracts with a report = 1.8192130435792064, without a report = 1.8567435973366893\n",
      "95% CIs rating of tracts with a report = [1.8192113926652784, 1.8192146944931344], without a report = [1.856742115882473, 1.8567450787909054]\n"
     ]
    }
   ],
   "source": [
    "# evaluate mean rating with and without a report\n",
    "mean_1 = all_data[(all_data[reported_label] == 1)]['score'].mean()\n",
    "error_1 = all_data[(all_data[reported_label] == 1)]['score'].std() / len(all_data)\n",
    "mean_0 = all_data[(all_data[reported_label] == 0)]['score'].mean()\n",
    "error_0 = all_data[(all_data[reported_label] == 0)]['score'].std() / len(all_data)\n",
    "print('Mean rating of tracts with a report = {}, without a report = {}'.format(mean_1, mean_0))\n",
    "print('95% CIs rating of tracts with a report = [{}, {}], without a report = [{}, {}]'.format(mean_1 - 1.96 * error_1, mean_1 + 1.96 * error_1, mean_0 - 1.96 * error_0, mean_0 + 1.96 * error_0))"
   ]
  },
  {
   "cell_type": "code",
   "execution_count": 12,
   "id": "b30b865d-4a84-4ddb-bb10-6fe8e26b4800",
   "metadata": {},
   "outputs": [
    {
     "name": "stdout",
     "output_type": "stream",
     "text": [
      "Optimization terminated successfully.\n",
      "         Current function value: 0.063464\n",
      "         Iterations 9\n"
     ]
    },
    {
     "data": {
      "image/png": "[encoded data removed]",
      "text/plain": [
       "<Figure size 1200x600 with 1 Axes>"
      ]
     },
     "metadata": {},
     "output_type": "display_data"
    }
   ],
   "source": [
    "# run a regression of T ~ demographics + rating\n",
    "covariates = ['log pop density',\n",
    "              'log med income',\n",
    "              'bachelors pct',\n",
    "              'white pct',\n",
    "              'med age',\n",
    "              'renter pct'\n",
    "             ]\n",
    "\n",
    "normalized_covariates = ['normalized_log_population_density',\n",
    "                         'normalized_log_income_median',\n",
    "                         'normalized_education_bachelors_pct',\n",
    "                         'normalized_race_white_nh_pct',\n",
    "                         'normalized_age_median',\n",
    "                         'normalized_households_renteroccupied_pct',\n",
    "                         'normalized_score'\n",
    "                        ]\n",
    "\n",
    "plt.figure(figsize=(12, 6))\n",
    "\n",
    "y_label = reported_label\n",
    "formula = y_label + ' ~ '\n",
    "for c in normalized_covariates:\n",
    "    formula += c + ' + '\n",
    "formula = formula[:-3]\n",
    "\n",
    "fit = sm.Logit.from_formula(formula, data = all_data).fit()\n",
    "fit.summary()\n",
    "coefficients = fit.params.to_numpy()[-7:]\n",
    "conf_intervals = fit.conf_int().to_numpy()[-7:, :]\n",
    "plt.errorbar(x=covariates + ['rating'], y=coefficients, \n",
    "             yerr=[coefficients - conf_intervals[:,0], conf_intervals[:,1] - coefficients], capsize=5, fmt='o', label='T ~ demographics + rating')\n",
    "\n",
    "plt.axhline(0, color='black', linestyle='--')  # Horizontal dashed line at y=0\n",
    "plt.legend()\n",
    "plt.show()"
   ]
  },
  {
   "cell_type": "code",
   "execution_count": null,
   "id": "ff9c9057-ccf0-411d-bf1d-759dbea950e0",
   "metadata": {},
   "outputs": [],
   "source": []
  }
 ],
 "metadata": {
  "kernelspec": {
   "display_name": "Environment (conda_networks_underreporting_env)",
   "language": "python",
   "name": "conda_networks_underreporting_env"
  },
  "language_info": {
   "codemirror_mode": {
    "name": "ipython",
    "version": 3
   },
   "file_extension": ".py",
   "mimetype": "text/x-python",
   "name": "python",
   "nbconvert_exporter": "python",
   "pygments_lexer": "ipython3",
   "version": "3.10.12"
  }
 },
 "nbformat": 4,
 "nbformat_minor": 5
}
