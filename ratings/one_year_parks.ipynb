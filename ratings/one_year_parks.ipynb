{
 "cells": [
  {
   "cell_type": "code",
   "execution_count": 1,
   "id": "2fe3489d-d533-4c5b-9fdb-ff3cedc2fc33",
   "metadata": {},
   "outputs": [],
   "source": [
    "import pandas as pd\n",
    "import geopandas as gpd\n",
    "from shapely import wkt\n",
    "import matplotlib.pyplot as plt\n",
    "import statsmodels.api as sm\n",
    "import sys\n",
    "import os\n",
    "sys.path.append(os.path.abspath(\"..\"))\n",
    "from utils import *"
   ]
  },
  {
   "cell_type": "code",
   "execution_count": 2,
   "id": "cb015a0e-bf51-4822-9a87-e3099a392a57",
   "metadata": {},
   "outputs": [],
   "source": [
    "year = 2023\n",
    "rating_data_path = '/share/garg/311_data/sb2377_a_data/parks/Parks_Inspection_Program___Inspections_20240316.csv'\n",
    "report_data_path = '/share/garg/311_data/sb2377/data_{}.csv'.format(year)\n",
    "preprocessed_report_data_path = '/share/garg/311_data/sb2377/processed_maintenance_or_facility_{}.csv'.format(year)\n",
    "covars_path = '/share/garg/311_data/sb2377/tract_demographics.csv'\n",
    "all_parks_path = '/share/garg/311_data/sb2377_a_data/parks/Parks_Inspection_Program___All_Sites__MAPPED__20240316.csv'\n",
    "save_path = '/share/garg/311_data/sb2377/processed_parks_{}.csv'.format(year)"
   ]
  },
  {
   "cell_type": "code",
   "execution_count": 3,
   "id": "c107488a-191d-499c-9a86-51c25f58d99d",
   "metadata": {},
   "outputs": [],
   "source": [
    "complaint_type = 'Maintenance or Facility'\n",
    "reported_label = 'reported'\n",
    "heuristic_distance_cutoff = 50\n",
    "inspection_indicator = 'has_inspection_{}'.format(heuristic_distance_cutoff)\n",
    "rename_map = {'Date': 'date', \n",
    "              'Multipolygon': 'finegrained_geometry',\n",
    "              'Prop ID': 'finegrained_id'\n",
    "             }"
   ]
  },
  {
   "cell_type": "code",
   "execution_count": 4,
   "id": "e3b4ae5d-23e9-424e-bb9e-bc037fa1742b",
   "metadata": {},
   "outputs": [],
   "source": [
    "covariates_arr = pd.read_csv(covars_path)\n",
    "parks_df = pd.read_csv(all_parks_path)\n",
    "df = pd.read_csv(rating_data_path)\n",
    "if os.path.exists(preprocessed_report_data_path):\n",
    "    reports_df = pd.read_csv(preprocessed_report_data_path)\n",
    "else:\n",
    "    df_311 = pd.read_csv(report_data_path)"
   ]
  },
  {
   "cell_type": "code",
   "execution_count": 5,
   "id": "7e46577b-46ea-46b6-a3ff-be24f9e057fd",
   "metadata": {},
   "outputs": [],
   "source": [
    "reports_df = reports_df.rename(columns=rename_map)\n",
    "\n",
    "reports_df['Created Date'] = pd.to_datetime(reports_df['Created Date'])\n",
    "reports_df['month'] = reports_df['Created Date'].dt.month\n",
    "reports_df.loc[(reports_df['month'] == 1) & (reports_df['week'] > 50), 'week'] = 0"
   ]
  },
  {
   "cell_type": "code",
   "execution_count": 6,
   "id": "33cd5f3d-a4fd-4c43-8e40-2bfbb4b94cac",
   "metadata": {},
   "outputs": [
    {
     "name": "stdout",
     "output_type": "stream",
     "text": [
      "Using the default year of 2021\n",
      "Using FIPS code '36' for input 'NY'\n",
      "Using FIPS code '061' for input 'New York'\n",
      "Using FIPS code '005' for input 'Bronx'\n",
      "Using FIPS code '047' for input 'Kings'\n",
      "Using FIPS code '081' for input 'Queens'\n",
      "Using FIPS code '085' for input 'Richmond'\n"
     ]
    }
   ],
   "source": [
    "census_gdf, final_graph, census_gdf_raw = generate_graph_census()\n",
    "census_gdf = census_gdf.to_crs('EPSG:2263')"
   ]
  },
  {
   "cell_type": "code",
   "execution_count": 7,
   "id": "8555a44c-887a-41b7-84b5-7da24984a0cb",
   "metadata": {},
   "outputs": [
    {
     "name": "stderr",
     "output_type": "stream",
     "text": [
      "/share/pierson/conda_virtualenvs/networks_underreporting_env/lib/python3.10/site-packages/IPython/core/interactiveshell.py:3338: FutureWarning: The `op` parameter is deprecated and will be removed in a future release. Please use the `predicate` parameter instead.\n",
      "  if await self.run_code(code, result, async_=asy):\n"
     ]
    }
   ],
   "source": [
    "# process list of all parks\n",
    "# rename columns\n",
    "parks_df = parks_df.rename(columns=rename_map)\n",
    "parks_df['finegrained_geometry'] = parks_df['finegrained_geometry'].apply(wkt.loads)\n",
    "\n",
    "# get census tract information\n",
    "parks_df = gpd.GeoDataFrame(parks_df,\n",
    "                            geometry=parks_df['finegrained_geometry'],\n",
    "                            crs='EPSG:4326')\n",
    "parks_sjoin = gpd.sjoin(parks_df.to_crs('EPSG:2263').reset_index(drop=True),census_gdf.to_crs('EPSG:2263'), how='inner', op='intersects')\n",
    "parks_sjoin = parks_sjoin.drop(columns='geometry')\n",
    "parks_sjoin = pd.merge(parks_sjoin, census_gdf[['GEOID', 'geometry']], on='GEOID', how='left')\n",
    "parks_sjoin = parks_sjoin.drop(columns='index_right')\n",
    "parks_sjoin['intersection_area'] = parks_sjoin.apply(lambda row: row['geometry'].intersection(row['finegrained_geometry']).area, axis=1)\n",
    "parks_df = parks_sjoin.loc[parks_sjoin.groupby('finegrained_id')['intersection_area'].idxmax()]\n",
    "parks_df = gpd.GeoDataFrame(parks_df,\n",
    "                            geometry=parks_df['finegrained_geometry'],\n",
    "                            crs='EPSG:4326')\n",
    "parks_df = parks_df.to_crs('EPSG:2263')"
   ]
  },
  {
   "cell_type": "code",
   "execution_count": 8,
   "id": "c75ef713-74e6-441c-a416-4ecf53e49408",
   "metadata": {},
   "outputs": [],
   "source": [
    "# process rating data\n",
    "# rename columns\n",
    "df = df.rename(columns=rename_map)\n",
    "\n",
    "# process date\n",
    "df['date'] = pd.to_datetime(df['date'], format='%m/%d/%Y %I:%M:%S %p')\n",
    "df['year'] = df['date'].dt.year\n",
    "df['week'] = df['date'].dt.isocalendar().week\n",
    "df['month'] = df['date'].dt.month\n",
    "df.loc[(df['month'] == 1) & (df['week'] > 50), 'week'] = 0 # start first week at 0 (instead of previous year's indexing)\n",
    "one_year_df = df[df['year'] == year]\n",
    "\n",
    "# add location information\n",
    "one_year_df = pd.merge(one_year_df, parks_df, on='finegrained_id', how='left')\n",
    "\n",
    "# subset to data with at least one score\n",
    "one_year_df = one_year_df[(one_year_df['Overall Condition'].isin(['U', 'A'])) & (one_year_df['Cleanliness'].isin(['U', 'A']))]\n",
    "\n",
    "# convert binary ratings to scores\n",
    "one_year_df['condition_score'] = 0\n",
    "one_year_df.loc[one_year_df['Overall Condition'] != 'U', 'condition_score'] = 1\n",
    "one_year_df['cleanliness_score'] = 0\n",
    "one_year_df.loc[one_year_df['Cleanliness'] != 'U', 'cleanliness_score'] = 1\n",
    "one_year_df['score'] = one_year_df['condition_score'] + one_year_df['cleanliness_score']\n",
    "one_year_df = one_year_df[['finegrained_id', 'date', 'week', 'GEOID', 'score']]\n",
    "one_year_df = one_year_df.dropna() # remove rows that did not match into any census tract\n",
    "one_year_df = one_year_df.groupby(['finegrained_id', 'week', 'GEOID', 'date'])['score'].mean().reset_index()\n",
    "\n",
    "rating_df = one_year_df"
   ]
  },
  {
   "cell_type": "code",
   "execution_count": 9,
   "id": "c928c593-592e-447e-82cd-a8eae4a38551",
   "metadata": {},
   "outputs": [],
   "source": [
    "# process reporting data\n",
    "if not os.path.exists(preprocessed_report_data_path):\n",
    "    # get data for type\n",
    "    type_df = df_311[df_311['Complaint Type'] == complaint_type]\n",
    "    type_df['Created Date'] = pd.to_datetime(type_df['Created Date'])\n",
    "    type_df['week'] = type_df['Created Date'].dt.isocalendar().week\n",
    "    type_df['month'] = type_df['Created Date'].dt.month\n",
    "    type_df.loc[(type_df['month'] == 1) & (type_df['week'] > 50), 'week'] = 0 # start first week at 0 (instead of previous year's indexing)\n",
    "\n",
    "    # process location\n",
    "    type_df = type_df[~(type_df.Latitude.isna()|type_df.Longitude.isna())]\n",
    "    type_gdf = gpd.GeoDataFrame(type_df,\n",
    "                                geometry=gpd.points_from_xy(type_df.Longitude, type_df.Latitude),\n",
    "                                crs='EPSG:4326')\n",
    "\n",
    "    # get census tract information\n",
    "    type_gdf = gpd.sjoin(type_gdf.to_crs('EPSG:2263').reset_index(drop=True), census_gdf.to_crs('EPSG:2263'), how='inner', op='intersects')\n",
    "    type_gdf['GEOID'] = type_gdf['GEOID'].astype(int)\n",
    "    type_gdf = type_gdf.to_crs('EPSG:2263')\n",
    "\n",
    "    reports_df = type_gdf"
   ]
  },
  {
   "cell_type": "code",
   "execution_count": 10,
   "id": "1470f7b4-bff6-40da-a52d-1fb418963f89",
   "metadata": {},
   "outputs": [],
   "source": [
    "# match each complaint with its associated street\n",
    "# loop through tract by tract and complete the matching within each tract to lower complexity\n",
    "if not os.path.exists(preprocessed_report_data_path):\n",
    "    all_distances = []\n",
    "    for tract_geoid in reports_df['GEOID'].unique():\n",
    "        # get all ratings and reports from this tract\n",
    "        tract_park_df = parks_df[parks_df['GEOID'] == tract_geoid].copy()\n",
    "        tract_reports_df = reports_df[reports_df['GEOID'] == tract_geoid].copy()\n",
    "\n",
    "        finegrained_ids = tract_park_df[['finegrained_id', 'finegrained_geometry']].copy()\n",
    "        report_locations = tract_reports_df[['Unique Key', 'geometry']].copy()\n",
    "\n",
    "        if len(finegrained_ids) > 0:\n",
    "            # Cross join street_ids and report_locations to create a DataFrame with all possible pairs of finegrained geometries and report points\n",
    "            finegrained_ids['key'] = 1\n",
    "            report_locations['key'] = 1\n",
    "            cross_joined_df = pd.merge(finegrained_ids, report_locations, on='key').drop(labels='key', axis=1)\n",
    "\n",
    "            # Calculate the distance for each pair\n",
    "            cross_joined_df['distance'] = cross_joined_df.apply(lambda row: row['finegrained_geometry'].distance(row['geometry']), axis=1)\n",
    "\n",
    "            # Finding the minimum distance for each point\n",
    "            min_distances = cross_joined_df.loc[cross_joined_df.groupby('Unique Key')['distance'].idxmin()]\n",
    "            all_distances.append(min_distances)\n",
    "        else:\n",
    "            # if there are no streets in this tract, search across all streets (across all census tracts)\n",
    "            finegrained_ids = parks_df[['finegrained_id', 'finegrained_geometry']].copy()\n",
    "\n",
    "            # Cross join street_ids and report_locations to create a DataFrame with all possible pairs of finegrained geometries and report points\n",
    "            finegrained_ids['key'] = 1\n",
    "            report_locations['key'] = 1\n",
    "            cross_joined_df = pd.merge(finegrained_ids, report_locations, on='key').drop(labels='key', axis=1)\n",
    "\n",
    "            # Calculate the distance for each pair\n",
    "            cross_joined_df['distance'] = cross_joined_df.apply(lambda row: row['finegrained_geometry'].distance(row['geometry']), axis=1)\n",
    "\n",
    "            # Finding the minimum distance for each point\n",
    "            min_distances = cross_joined_df.loc[cross_joined_df.groupby('Unique Key')['distance'].idxmin()]\n",
    "            all_distances.append(min_distances)\n",
    "\n",
    "    # combine data across all census tracts\n",
    "    all_min_distances = pd.concat(all_distances)\n",
    "\n",
    "    # merge reports data with nearest inspection\n",
    "    reports_df = pd.merge(reports_df, all_min_distances[['finegrained_id', 'finegrained_geometry', 'Unique Key', 'distance']], on='Unique Key')"
   ]
  },
  {
   "cell_type": "code",
   "execution_count": 11,
   "id": "34927337-8985-49bd-882e-89bf7c29bf49",
   "metadata": {},
   "outputs": [
    {
     "data": {
      "text/plain": [
       "Text(0, 0.5, 'Percentage of dataset with\\nclosest finegrained entity < cutoff')"
      ]
     },
     "execution_count": 11,
     "metadata": {},
     "output_type": "execute_result"
    },
    {
     "data": {
      "image/png": "[encoded data removed]",
      "text/plain": [
       "<Figure size 640x480 with 1 Axes>"
      ]
     },
     "metadata": {},
     "output_type": "display_data"
    }
   ],
   "source": [
    "# heuristic: we only keep reports that are within CUTOFF distance to a rating inspection\n",
    "cutoffs = [10, 20, 30, 40, 50, 60, 70, 80, 90, 100]\n",
    "pcts = []\n",
    "for c in cutoffs:\n",
    "    label = 'has_inspection_{}'.format(c)\n",
    "    reports_df[label] = 0\n",
    "    reports_df.loc[reports_df['distance'] < c, label] = 1\n",
    "    pcts.append(reports_df[label].mean())\n",
    "    \n",
    "# apply distance heuristic\n",
    "inspected_reports_df = reports_df[reports_df[inspection_indicator] == 1]\n",
    "\n",
    "# remove rows for which the park didn't receive an inspection\n",
    "inspected_reports_df = inspected_reports_df[inspected_reports_df['finegrained_id'].isin(rating_df['finegrained_id'].unique())]\n",
    "\n",
    "# visualize percentage of reports kept across different cutoffs \n",
    "plt.plot(cutoffs, pcts)\n",
    "plt.xlabel('Cutoff')\n",
    "plt.ylabel('Percentage of dataset with\\nclosest finegrained entity < cutoff')"
   ]
  },
  {
   "cell_type": "code",
   "execution_count": 12,
   "id": "71f77d86-9981-43a7-9951-5971ef913775",
   "metadata": {},
   "outputs": [],
   "source": [
    "# create num finegrained entities x num weeks full T and r dataset\n",
    "finegrained_entities = rating_df['finegrained_id'].unique()\n",
    "\n",
    "dfs = []\n",
    "for i in sorted(reports_df['week'].unique()):\n",
    "    data = pd.DataFrame()\n",
    "    data['finegrained_id'] = finegrained_entities\n",
    "    data['report_week'] = i\n",
    "    dfs.append(data)\n",
    "    \n",
    "all_data = pd.concat(dfs)\n",
    "\n",
    "# add in T labels\n",
    "# set T = 1 for instances where there is a complaint\n",
    "inspected_reports_df['report_week'] = inspected_reports_df['week']\n",
    "inspected_reports_df = inspected_reports_df[['finegrained_id', 'report_week']].drop_duplicates()\n",
    "inspected_reports_df['reported'] = 1\n",
    "all_data = pd.merge(all_data, inspected_reports_df, on=['finegrained_id', 'report_week'], how='left')\n",
    "all_data['reported'] = all_data['reported'].fillna(0)\n",
    "\n",
    "# add in rating data\n",
    "rating_df['rating_week'] = rating_df['week']\n",
    "rating_df['report_week'] = rating_df['week']\n",
    "rating_subset_df = rating_df[['finegrained_id', 'score', 'rating_week', 'report_week']].drop_duplicates()\n",
    "all_data = pd.merge(all_data, rating_subset_df, on=['finegrained_id', 'report_week'], how='left')\n",
    "\n",
    "# assume constant rating until next inspection \n",
    "all_data.sort_values(by=['finegrained_id', 'report_week'], inplace=True)\n",
    "all_data['score'] = all_data.groupby('finegrained_id')['score'].ffill()\n",
    "all_data['rating_week'] = all_data.groupby('finegrained_id')['rating_week'].ffill()\n",
    "all_data = all_data[::-1]\n",
    "all_data['score'] = all_data.groupby('finegrained_id')['score'].ffill()\n",
    "all_data['rating_week'] = all_data.groupby('finegrained_id')['rating_week'].ffill()\n",
    "all_data = all_data[::-1]\n",
    "\n",
    "# add in demographic data\n",
    "all_data = pd.merge(all_data, rating_df[['finegrained_id', 'GEOID']].drop_duplicates(), on=['finegrained_id'], how='left')\n",
    "all_data['GEOID'] = all_data['GEOID'].astype(int)\n",
    "all_data = pd.merge(all_data, covariates_arr, on=['GEOID'], how='left')\n",
    "\n",
    "# add in meta data\n",
    "all_data['rating_week_of_year'] = all_data['rating_week']\n",
    "all_data['report_week_of_year'] = all_data['report_week']\n",
    "\n",
    "# get z-scored ratings\n",
    "all_data['normalized_score'] = (all_data['score'] - all_data['score'].mean()) / all_data['score'].std()"
   ]
  },
  {
   "cell_type": "code",
   "execution_count": 13,
   "id": "d92396fe-6bbc-4233-989c-430e5f2c2097",
   "metadata": {},
   "outputs": [],
   "source": [
    "assert(len(finegrained_entities) * len(inspected_reports_df['report_week'].unique()) == len(all_data))"
   ]
  },
  {
   "cell_type": "code",
   "execution_count": 14,
   "id": "967f1302-1ee9-490e-85ea-75ed7627aa4b",
   "metadata": {},
   "outputs": [
    {
     "data": {
      "text/plain": [
       "169706"
      ]
     },
     "execution_count": 14,
     "metadata": {},
     "output_type": "execute_result"
    }
   ],
   "source": [
    "len(all_data)"
   ]
  },
  {
   "cell_type": "code",
   "execution_count": 16,
   "id": "9a4d7230-8f42-440b-a0eb-b68fbcfcf9ba",
   "metadata": {},
   "outputs": [],
   "source": [
    "all_data.to_csv(save_path)"
   ]
  },
  {
   "cell_type": "code",
   "execution_count": 15,
   "id": "14b51d52-b39a-436c-ac9f-b376819a431c",
   "metadata": {},
   "outputs": [
    {
     "name": "stdout",
     "output_type": "stream",
     "text": [
      "Mean rating of tracts with a report = 1.7493403693931397, without a report = 1.8376726869942464\n",
      "95% CIs rating of tracts with a report = [1.749333288282099, 1.7493474505041804], without a report = [1.8376671271701355, 1.8376782468183572]\n"
     ]
    }
   ],
   "source": [
    "# evaluate mean rating with and without a report\n",
    "mean_1 = all_data[(all_data[reported_label] == 1)]['score'].mean()\n",
    "error_1 = all_data[(all_data[reported_label] == 1)]['score'].std() / len(all_data)\n",
    "mean_0 = all_data[(all_data[reported_label] == 0)]['score'].mean()\n",
    "error_0 = all_data[(all_data[reported_label] == 0)]['score'].std() / len(all_data)\n",
    "print('Mean rating of tracts with a report = {}, without a report = {}'.format(mean_1, mean_0))\n",
    "print('95% CIs rating of tracts with a report = [{}, {}], without a report = [{}, {}]'.format(mean_1 - 1.96 * error_1, mean_1 + 1.96 * error_1, mean_0 - 1.96 * error_0, mean_0 + 1.96 * error_0))"
   ]
  },
  {
   "cell_type": "code",
   "execution_count": 16,
   "id": "db554fe3-db7b-4218-90cd-9bc90c3346da",
   "metadata": {},
   "outputs": [
    {
     "name": "stdout",
     "output_type": "stream",
     "text": [
      "Optimization terminated successfully.\n",
      "         Current function value: 0.172244\n",
      "         Iterations 8\n"
     ]
    },
    {
     "data": {
      "image/png": "[encoded data removed]",
      "text/plain": [
       "<Figure size 1200x600 with 1 Axes>"
      ]
     },
     "metadata": {},
     "output_type": "display_data"
    }
   ],
   "source": [
    "# run a regression of T ~ demographics + rating\n",
    "covariates = ['log pop density',\n",
    "              'log med income',\n",
    "              'bachelors pct',\n",
    "              'white pct',\n",
    "              'med age',\n",
    "              'renter pct'\n",
    "             ]\n",
    "\n",
    "normalized_covariates = ['normalized_log_population_density',\n",
    "                         'normalized_log_income_median',\n",
    "                         'normalized_education_bachelors_pct',\n",
    "                         'normalized_race_white_nh_pct',\n",
    "                         'normalized_age_median',\n",
    "                         'normalized_households_renteroccupied_pct',\n",
    "                         'normalized_score'\n",
    "                        ]\n",
    "\n",
    "plt.figure(figsize=(12, 6))\n",
    "\n",
    "y_label = reported_label\n",
    "formula = y_label + ' ~ '\n",
    "for c in normalized_covariates:\n",
    "    formula += c + ' + '\n",
    "formula = formula[:-3]\n",
    "\n",
    "fit = sm.Logit.from_formula(formula, data = all_data).fit()\n",
    "fit.summary()\n",
    "coefficients = fit.params.to_numpy()[-7:]\n",
    "conf_intervals = fit.conf_int().to_numpy()[-7:, :]\n",
    "plt.errorbar(x=covariates + ['rating'], y=coefficients, \n",
    "             yerr=[coefficients - conf_intervals[:,0], conf_intervals[:,1] - coefficients], capsize=5, fmt='o', label='T ~ demographics + rating')\n",
    "\n",
    "plt.axhline(0, color='black', linestyle='--')  # Horizontal dashed line at y=0\n",
    "plt.legend()\n",
    "plt.show()"
   ]
  },
  {
   "cell_type": "code",
   "execution_count": null,
   "id": "c852a583-1b87-453b-8486-184f3403d73e",
   "metadata": {},
   "outputs": [],
   "source": []
  }
 ],
 "metadata": {
  "kernelspec": {
   "display_name": "Environment (conda_networks_underreporting_env)",
   "language": "python",
   "name": "conda_networks_underreporting_env"
  },
  "language_info": {
   "codemirror_mode": {
    "name": "ipython",
    "version": 3
   },
   "file_extension": ".py",
   "mimetype": "text/x-python",
   "name": "python",
   "nbconvert_exporter": "python",
   "pygments_lexer": "ipython3",
   "version": "3.10.12"
  }
 },
 "nbformat": 4,
 "nbformat_minor": 5
}
