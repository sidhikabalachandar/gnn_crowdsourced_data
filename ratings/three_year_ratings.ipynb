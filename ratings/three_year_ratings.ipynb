{
 "cells": [
  {
   "cell_type": "code",
   "execution_count": 1,
   "id": "b84f0469-34a9-4d76-b42d-6f662db5975a",
   "metadata": {},
   "outputs": [],
   "source": [
    "import pandas as pd\n",
    "import numpy as np\n",
    "import matplotlib.pyplot as plt\n",
    "import statsmodels.api as sm"
   ]
  },
  {
   "cell_type": "code",
   "execution_count": 2,
   "id": "25663af6-b1f9-458b-84bc-e6d1ff055ab2",
   "metadata": {},
   "outputs": [],
   "source": [
    "year1 = 2021\n",
    "complaint_type = 'streets'\n",
    "typeagency = 'StreetConditionDOT'\n",
    "reported_label = 'reported'\n",
    "covar_path = '/share/garg/311_data/sb2377/clean_codebase/tract_demographics.csv'\n",
    "base_data_path = '/share/garg/311_data/sb2377/clean_codebase/three_year_base.csv'\n",
    "year1_path = '/share/garg/311_data/sb2377/clean_codebase/processed_{}_{}.csv'.format(complaint_type, year1)\n",
    "two_year_path = '/share/garg/311_data/sb2377/clean_codebase/processed_{}_two_year.h5'.format(complaint_type)\n",
    "save_path = '/share/garg/311_data/sb2377/clean_codebase/processed_{}_three_year.h5'.format(complaint_type)"
   ]
  },
  {
   "cell_type": "code",
   "execution_count": 3,
   "id": "6d847141-28ac-45e0-a50d-e0962850d1fd",
   "metadata": {},
   "outputs": [],
   "source": [
    "covariates_arr = pd.read_csv(covar_path)\n",
    "base_df = pd.read_csv(base_data_path)\n",
    "df_year1 = pd.read_csv(year1_path)\n",
    "df_year2 = pd.read_hdf(two_year_path, 'df')\n",
    "df_year1 = df_year1.loc[:, ~df_year1.columns.str.contains('Unnamed', case=False)]\n",
    "df_year1 = df_year1.drop(columns='normalized_score')\n",
    "df_year2 = df_year2[df_year1.columns]"
   ]
  },
  {
   "cell_type": "code",
   "execution_count": 4,
   "id": "f568ab07-feba-4505-9ce8-6458910e9ae7",
   "metadata": {},
   "outputs": [],
   "source": [
    "assert(len(df_year1[df_year1.isna().any(axis=1)]) == 0)"
   ]
  },
  {
   "cell_type": "code",
   "execution_count": 5,
   "id": "b0283f59-3157-4895-a476-465abb556762",
   "metadata": {},
   "outputs": [],
   "source": [
    "# get type idx\n",
    "type_df = base_df[['typeagency', 'type_idxs']].drop_duplicates()\n",
    "type_idx = type_df[type_df['typeagency'] == typeagency]['type_idxs'].iloc[0]"
   ]
  },
  {
   "cell_type": "code",
   "execution_count": 6,
   "id": "2dff766d-d62c-459c-975b-6504f3d8a06a",
   "metadata": {},
   "outputs": [],
   "source": [
    "# merge reports for the last week of year 1 and the first week of year 2\n",
    "# '*_week' = week number across both years\n",
    "# '*_week_of_year' = week number within year\n",
    "df_year2['report_week'] = df_year2['report_week'] + 52\n",
    "df_year2['rating_week'] = df_year2['rating_week'] + 52\n",
    "\n",
    "# combine reports for the last week of year 1 and the first week of year 2\n",
    "df_year1['reported'] = df_year1['reported'].astype(int)\n",
    "df_year2['reported'] = df_year2['reported'].astype(int)\n",
    "\n",
    "# last week year 1\n",
    "reported_year1 = df_year1[df_year1['report_week'] == 52][['finegrained_id', 'reported']]\n",
    "\n",
    "# first week year 2\n",
    "reported_year2 = df_year2[df_year2['report_week'] == 52][['finegrained_id', 'reported']]\n",
    "\n",
    "# combine\n",
    "merged_reports = pd.merge(reported_year1, reported_year2, on='finegrained_id', how='outer', suffixes=('_year1', '_year2'))\n",
    "merged_reports.fillna(0, inplace=True)\n",
    "merged_reports['reported_year1'] = merged_reports['reported_year1'].astype(bool)\n",
    "merged_reports['reported_year2'] = merged_reports['reported_year2'].astype(bool)\n",
    "merged_reports['reported'] = merged_reports['reported_year1'] | merged_reports['reported_year2']\n",
    "\n",
    "# update last week year 1\n",
    "df_year1_week = df_year1[df_year1['report_week'] == 52]\n",
    "df_year1_week = df_year1_week.drop(columns=['reported'])\n",
    "bbl_year1 = set(df_year1_week['finegrained_id'].unique())\n",
    "merged_reports_year1 = merged_reports[merged_reports['finegrained_id'].isin(bbl_year1)][['finegrained_id', 'reported']]\n",
    "df_year1_week = pd.merge(df_year1_week, merged_reports_year1, on='finegrained_id')\n",
    "report_week = df_year1_week.iloc[0]['report_week_of_year']\n",
    "\n",
    "# update first week year 2\n",
    "df_year2_week = df_year2[df_year2['report_week'] == 52]\n",
    "df_year2_week = df_year2_week.drop(columns=['reported'])\n",
    "bbl_year2 = set(df_year2_week['finegrained_id'].unique())\n",
    "bbl_year2_only = bbl_year2.difference(bbl_year1)\n",
    "merged_reports_year2 = merged_reports[merged_reports['finegrained_id'].isin(bbl_year2)][['finegrained_id', 'reported']]\n",
    "df_year2_week = pd.merge(df_year2_week, merged_reports_year2, on='finegrained_id')\n",
    "df_year2_week = df_year2_week[df_year2_week['finegrained_id'].isin(bbl_year2_only)]\n",
    "df_year2_week['report_week_of_year'] = report_week\n",
    "\n",
    "# add to year 1\n",
    "df_year1 = pd.concat([df_year1[df_year1['report_week'] != 52], df_year1_week], axis=0)\n",
    "\n",
    "# add to year 2\n",
    "df_year2 = pd.concat([df_year2[df_year2['report_week'] != 52], df_year2_week], axis=0)\n",
    "\n",
    "# combine both years of data\n",
    "df = pd.concat([df_year1, df_year2])"
   ]
  },
  {
   "cell_type": "code",
   "execution_count": 7,
   "id": "40509ed8-32bc-4432-b2d1-5f30961d74b1",
   "metadata": {},
   "outputs": [],
   "source": [
    "# for weeks without an inspection, set inspection fields to NAN\n",
    "df.loc[df['report_week'] != df['rating_week'], 'score'] = np.nan\n",
    "df.loc[df['report_week'] != df['rating_week'], 'rating_week'] = np.nan\n",
    "df.loc[df['report_week'] != df['rating_week'], 'rating_week_of_year'] = np.nan"
   ]
  },
  {
   "cell_type": "code",
   "execution_count": 8,
   "id": "45fb5d35-d62f-4f6a-be9f-feb0a9ff82f1",
   "metadata": {},
   "outputs": [],
   "source": [
    "# create num finegrained entities x num weeks full T and r dataset\n",
    "finegrained_entities_in_geoid = df.groupby('finegrained_id')['GEOID'].nunique()\n",
    "valid_finegrained_entities = finegrained_entities_in_geoid[finegrained_entities_in_geoid == 1].index\n",
    "df = df[df['finegrained_id'].isin(valid_finegrained_entities)]\n",
    "\n",
    "dfs = []    \n",
    "for i in sorted(df['report_week'].unique()):\n",
    "    data = pd.DataFrame()\n",
    "    data['finegrained_id'] = valid_finegrained_entities\n",
    "    data['report_week'] = i\n",
    "    dfs.append(data)\n",
    "    \n",
    "all_data = pd.concat(dfs)\n",
    "\n",
    "# add in T labels\n",
    "# set T = 1 for instances where there is a complaint\n",
    "all_data = pd.merge(all_data, df[['finegrained_id', 'report_week', 'reported']].drop_duplicates(), on=['finegrained_id', 'report_week'], how='left')\n",
    "all_data['reported'] = all_data['reported'].fillna(0)\n",
    "all_data['finegrained_reported'] = all_data['reported']\n",
    "\n",
    "# add in rating data\n",
    "rated_df = df[df['score'].notna()]\n",
    "all_data = pd.merge(all_data, rated_df[['finegrained_id', 'report_week', 'score', 'rating_week', 'rating_week_of_year']], on=['finegrained_id', 'report_week'], how='left')\n",
    "all_data['real_rating_observed'] = 1\n",
    "\n",
    "# add in report week\n",
    "report_week_df = df[['report_week', 'report_week_of_year']].drop_duplicates()\n",
    "all_data = pd.merge(all_data, report_week_df, on=['report_week'], how='left')\n",
    "\n",
    "# assume constant rating until next inspection \n",
    "all_data.sort_values(by=['finegrained_id', 'report_week'], inplace=True)\n",
    "all_data['score'] = all_data.groupby('finegrained_id')['score'].ffill()\n",
    "all_data['rating_week'] = all_data.groupby('finegrained_id')['rating_week'].ffill()\n",
    "all_data['rating_week_of_year'] = all_data.groupby('finegrained_id')['rating_week_of_year'].ffill()\n",
    "all_data = all_data[::-1]\n",
    "all_data['score'] = all_data.groupby('finegrained_id')['score'].ffill()\n",
    "all_data['rating_week'] = all_data.groupby('finegrained_id')['rating_week'].ffill()\n",
    "all_data['rating_week_of_year'] = all_data.groupby('finegrained_id')['rating_week_of_year'].ffill()\n",
    "all_data = all_data[::-1]\n",
    "\n",
    "# add in demographic data\n",
    "all_data = pd.merge(all_data, df[['finegrained_id', 'GEOID']].drop_duplicates(), on=['finegrained_id'], how='left')\n",
    "all_data['GEOID'] = all_data['GEOID'].astype(int)\n",
    "all_data = pd.merge(all_data, covariates_arr, on=['GEOID'], how='left')\n",
    "\n",
    "# add in meta data\n",
    "all_data['typeagency'] = typeagency\n",
    "all_data['type_idxs'] = type_idx\n",
    "\n",
    "# get z-scored ratings\n",
    "all_data['rating'] = all_data['score']\n",
    "all_data['normalized_rating'] = (all_data['rating'] - all_data['rating'].mean()) / all_data['rating'].std()"
   ]
  },
  {
   "cell_type": "code",
   "execution_count": 9,
   "id": "8aa31521-239e-4306-b96f-931f73d48680",
   "metadata": {},
   "outputs": [],
   "source": [
    "assert(len(valid_finegrained_entities) * len(df['report_week'].unique()) == len(all_data))"
   ]
  },
  {
   "cell_type": "code",
   "execution_count": 10,
   "id": "d43bf530-262d-46bc-b4d4-3618e5ac5459",
   "metadata": {},
   "outputs": [
    {
     "data": {
      "text/plain": [
       "14320755"
      ]
     },
     "execution_count": 10,
     "metadata": {},
     "output_type": "execute_result"
    }
   ],
   "source": [
    "len(all_data)"
   ]
  },
  {
   "cell_type": "code",
   "execution_count": 11,
   "id": "e362cd06-b995-4b7e-a55f-4896cdec99a4",
   "metadata": {},
   "outputs": [],
   "source": [
    "assert(len(all_data[all_data.isna().any(axis=1)]) == 0)"
   ]
  },
  {
   "cell_type": "code",
   "execution_count": 12,
   "id": "30adc04b-4d76-4753-b4e0-87bade799644",
   "metadata": {},
   "outputs": [],
   "source": [
    "all_data.to_hdf(save_path, key='df', mode='w')"
   ]
  },
  {
   "cell_type": "code",
   "execution_count": 11,
   "id": "6b681792-c102-47f5-a6fd-6f1057838232",
   "metadata": {},
   "outputs": [
    {
     "name": "stdout",
     "output_type": "stream",
     "text": [
      "Mean rating of tracts with a report = 0.42180935478115517, without a report = 0.44083437843280276\n",
      "95% CIs rating of tracts with a report = [0.42180802117167, 0.42181068839064034], without a report = [0.44083303928583667, 0.44083571757976886]\n"
     ]
    }
   ],
   "source": [
    "# evaluate mean rating with and without a report\n",
    "mean_1 = all_data[(all_data[reported_label] == 1)]['rating'].mean()\n",
    "error_1 = all_data[(all_data[reported_label] == 1)]['rating'].std() / len(all_data)\n",
    "mean_0 = all_data[(all_data[reported_label] == 0)]['rating'].mean()\n",
    "error_0 = all_data[(all_data[reported_label] == 0)]['rating'].std() / len(all_data)\n",
    "print('Mean rating of tracts with a report = {}, without a report = {}'.format(mean_1, mean_0))\n",
    "print('95% CIs rating of tracts with a report = [{}, {}], without a report = [{}, {}]'.format(mean_1 - 1.96 * error_1, mean_1 + 1.96 * error_1, mean_0 - 1.96 * error_0, mean_0 + 1.96 * error_0))"
   ]
  },
  {
   "cell_type": "code",
   "execution_count": 12,
   "id": "19abb3d2-8074-4065-b4e3-ada8b10082bf",
   "metadata": {},
   "outputs": [
    {
     "name": "stdout",
     "output_type": "stream",
     "text": [
      "Optimization terminated successfully.\n",
      "         Current function value: 0.102123\n",
      "         Iterations 8\n"
     ]
    },
    {
     "data": {
      "image/png": "[encoded data removed]",
      "text/plain": [
       "<Figure size 1200x600 with 1 Axes>"
      ]
     },
     "metadata": {},
     "output_type": "display_data"
    }
   ],
   "source": [
    "# run a regression of T ~ demographics + rating\n",
    "covariates = ['log pop density',\n",
    "              'log med income',\n",
    "              'bachelors pct',\n",
    "              'white pct',\n",
    "              'med age',\n",
    "              'renter pct'\n",
    "             ]\n",
    "\n",
    "normalized_covariates = ['normalized_log_population_density',\n",
    "                         'normalized_log_income_median',\n",
    "                         'normalized_education_bachelors_pct',\n",
    "                         'normalized_race_white_nh_pct',\n",
    "                         'normalized_age_median',\n",
    "                         'normalized_households_renteroccupied_pct',\n",
    "                         'normalized_rating'\n",
    "                        ]\n",
    "\n",
    "plt.figure(figsize=(12, 6))\n",
    "\n",
    "y_label = reported_label\n",
    "formula = y_label + ' ~ '\n",
    "for c in normalized_covariates:\n",
    "    formula += c + ' + '\n",
    "formula = formula[:-3]\n",
    "\n",
    "fit = sm.Logit.from_formula(formula, data = all_data).fit()\n",
    "fit.summary()\n",
    "coefficients = fit.params.to_numpy()[-7:]\n",
    "conf_intervals = fit.conf_int().to_numpy()[-7:, :]\n",
    "plt.errorbar(x=covariates + ['rating'], y=coefficients, \n",
    "             yerr=[coefficients - conf_intervals[:,0], conf_intervals[:,1] - coefficients], capsize=5, fmt='o', label='T ~ demographics + rating')\n",
    "\n",
    "plt.axhline(0, color='black', linestyle='--')  # Horizontal dashed line at y=0\n",
    "plt.legend()\n",
    "plt.show()"
   ]
  },
  {
   "cell_type": "code",
   "execution_count": null,
   "id": "65aaf2f5-f96b-492d-bb9a-30588c321eac",
   "metadata": {},
   "outputs": [],
   "source": []
  }
 ],
 "metadata": {
  "kernelspec": {
   "display_name": "Environment (conda_gnn)",
   "language": "python",
   "name": "conda_gnn"
  },
  "language_info": {
   "codemirror_mode": {
    "name": "ipython",
    "version": 3
   },
   "file_extension": ".py",
   "mimetype": "text/x-python",
   "name": "python",
   "nbconvert_exporter": "python",
   "pygments_lexer": "ipython3",
   "version": "3.11.11"
  }
 },
 "nbformat": 4,
 "nbformat_minor": 5
}
